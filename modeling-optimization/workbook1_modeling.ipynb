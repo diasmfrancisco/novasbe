{
 "cells": [
  {
   "cell_type": "code",
   "execution_count": 2,
   "metadata": {},
   "outputs": [
    {
     "name": "stderr",
     "output_type": "stream",
     "text": [
      "WARNING: Method definition midpoints(Base.Range{T} where T) in module Base at deprecated.jl:56 overwritten in module StatsBase at /Users/fmcdg/.julia/v0.6/StatsBase/src/hist.jl:535.\n",
      "WARNING: Method definition midpoints(AbstractArray{T, 1} where T) in module Base at deprecated.jl:56 overwritten in module StatsBase at /Users/fmcdg/.julia/v0.6/StatsBase/src/hist.jl:533.\n"
     ]
    }
   ],
   "source": [
    "using DataFrames\n",
    "using JuMP\n",
    "using Ipopt\n",
    "using Plots\n",
    "using ImplicitEquations"
   ]
  },
  {
   "cell_type": "markdown",
   "metadata": {},
   "source": [
    "## Formulation and Graphical Solution\n",
    "\n",
    "---\n",
    "\n",
    "$(1)$\n",
    "\n",
    "An aviary wants the fowl’s food to have a certain quantity of nutrients. Two kinds of grain are available: $A$ and $B$. The data are as follows:\n",
    "\n",
    "\n",
    "\n",
    "| Kind of Grain | Starch | Proteins | Vitamins | Cost |  \n",
    "| ------------- | ------ | -------- | -------- | ---- |  \n",
    "| A | 4 | 5 | 2 | 6.0 |  \n",
    "| B | 5 | 7 | 1 | 4.0 |  \n",
    "| Min quantity to obtain | 8 | 14 | 3 |  |  \n",
    "\n",
    "\n",
    "\n",
    "What is the ideal composition of the fowl’s food in order to minimize the cost?"
   ]
  },
  {
   "cell_type": "markdown",
   "metadata": {},
   "source": [
    "---\n",
    "\n",
    "$(3)$\n",
    "\n",
    "A production manager is planning the production of three products. For pursuing this there are four available machines. All products can be produced in all machines. The unitary production cost (in euros) is as follows:\n",
    "\n",
    "| Product | M1 | M2 | M3 | M4 |  \n",
    "| ------- | -- | -- | -- | -- |  \n",
    "| _P1 (cost)_ | 4 | 4 | 5 | 7 |  \n",
    "| _P2 (cost)_ | 6 | 7 | 5 | 6 |  \n",
    "| _P3 (cost)_ | 12 | 10 | 8 | 11 |  \n",
    "\n",
    "The time (in minutes) required for each machine to produce one unit of each product is:\n",
    "\n",
    "| Product | M1 | M2 | M3 | M4 |  \n",
    "| ------- | -- | -- | -- | -- |  \n",
    "| _P1 (mins)_ | 0.3 | .25 | 0.2 | 0.2 |  \n",
    "| _P2 (mins)_ | 0.2 | 0.3 | 0.2 | 0.25 |  \n",
    "| _P3 (mins)_ | 0.8 | 0.6 | 0.6 | 0.5 |  \n",
    "\n",
    "\n",
    "Assume that the demand for products 1, 2 and 3 is, respectively, 4.000, 5.000 and 3.000 units.For safety reasons, machines 1, 2 and 3 cannot work more than 1.500, 1.200 and 2.000 minutes, respectively.\n",
    "\n",
    "Formulate the problem in order to minimize the total production cost."
   ]
  },
  {
   "cell_type": "code",
   "execution_count": 3,
   "metadata": {},
   "outputs": [
    {
     "name": "stdout",
     "output_type": "stream",
     "text": [
      "Min 4 m1p1_3 + 6 m1p2_3 + 12 m1p3_3 + 4 m2p1_3 + 7 m2p2_3 + 10 m2p3_3 + 5 m3p1_3 + 5 m3p2_3 + 8 m3p3_3 + 7 m4p1_3 + 6 m4p2_3 + 11 m4p3_3\n",
      "Subject to\n",
      " 0.3 m1p1_3 + 0.2 m1p2_3 + 0.8 m1p3_3 ≤ 1500\n",
      " 0.25 m2p1_3 + 0.3 m2p2_3 + 0.6 m2p3_3 ≤ 1200\n",
      " 0.2 m3p1_3 + 0.2 m3p2_3 + 0.6 m3p3_3 ≤ 2000\n",
      " m1p1_3 + m2p1_3 + m3p1_3 = 4000\n",
      " m1p2_3 + m2p2_3 + m3p2_3 = 5000\n",
      " m1p3_3 + m2p3_3 + m3p3_3 = 3000\n",
      " m1p1_3 ≥ 0\n",
      " m1p2_3 ≥ 0\n",
      " m1p3_3 ≥ 0\n",
      " m2p1_3 ≥ 0\n",
      " m2p2_3 ≥ 0\n",
      " m2p3_3 ≥ 0\n",
      " m3p1_3 ≥ 0\n",
      " m3p2_3 ≥ 0\n",
      " m3p3_3 ≥ 0\n",
      " m4p1_3 ≥ 0\n",
      " m4p2_3 ≥ 0\n",
      " m4p3_3 ≥ 0\n"
     ]
    }
   ],
   "source": [
    "m_3 = Model(solver=IpoptSolver())\n",
    "@variable(m_3, m1p1_3 >= 0)\n",
    "@variable(m_3, m1p2_3 >= 0)\n",
    "@variable(m_3, m1p3_3 >= 0)\n",
    "@variable(m_3, m2p1_3 >= 0)\n",
    "@variable(m_3, m2p2_3 >= 0)\n",
    "@variable(m_3, m2p3_3 >= 0)\n",
    "@variable(m_3, m3p1_3 >= 0)\n",
    "@variable(m_3, m3p2_3 >= 0)\n",
    "@variable(m_3, m3p3_3 >= 0)\n",
    "@variable(m_3, m4p1_3 >= 0)\n",
    "@variable(m_3, m4p2_3 >= 0)\n",
    "@variable(m_3, m4p3_3 >= 0)\n",
    "@constraint(m_3, m1p1_3*.3 + m1p2_3*.2 + m1p3_3*.8 <= 1500)\n",
    "@constraint(m_3, m2p1_3*.25 + m2p2_3*.3 + m2p3_3*.6 <= 1200)\n",
    "@constraint(m_3, m3p1_3*.2 + m3p2_3*.2 + m3p3_3*.6 <= 2000)\n",
    "@constraint(m_3, m1p1_3 + m2p1_3 + m3p1_3 == 4000)\n",
    "@constraint(m_3, m1p2_3 + m2p2_3 + m3p2_3 == 5000)\n",
    "@constraint(m_3, m1p3_3 + m2p3_3 + m3p3_3 == 3000)\n",
    "@objective(m_3, Min, (m1p1_3*4+m1p2_3*6+m1p3_3*12) + (m2p1_3*4+m2p2_3*7+m2p3_3*10) + (m3p1_3*5+m3p2_3*5+m3p3_3*8) + (m4p1_3*7+m4p2_3*6+m4p3_3*11))\n",
    "\n",
    "print(m_3)"
   ]
  },
  {
   "cell_type": "code",
   "execution_count": 4,
   "metadata": {},
   "outputs": [
    {
     "name": "stdout",
     "output_type": "stream",
     "text": [
      "\n",
      "******************************************************************************\n",
      "This program contains Ipopt, a library for large-scale nonlinear optimization.\n",
      " Ipopt is released as open source code under the Eclipse Public License (EPL).\n",
      "         For more information visit http://projects.coin-or.org/Ipopt\n",
      "******************************************************************************\n",
      "\n",
      "This is Ipopt version 3.12.8, running with linear solver mumps.\n",
      "NOTE: Other linear solvers might be more efficient (see Ipopt documentation).\n",
      "\n",
      "Number of nonzeros in equality constraint Jacobian...:        9\n",
      "Number of nonzeros in inequality constraint Jacobian.:        9\n",
      "Number of nonzeros in Lagrangian Hessian.............:        0\n",
      "\n",
      "Total number of variables............................:       12\n",
      "                     variables with only lower bounds:       12\n",
      "                variables with lower and upper bounds:        0\n",
      "                     variables with only upper bounds:        0\n",
      "Total number of equality constraints.................:        3\n",
      "Total number of inequality constraints...............:        3\n",
      "        inequality constraints with only lower bounds:        0\n",
      "   inequality constraints with lower and upper bounds:        0\n",
      "        inequality constraints with only upper bounds:        3\n",
      "\n",
      "iter    objective    inf_pr   inf_du lg(mu)  ||d||  lg(rg) alpha_du alpha_pr  ls\n",
      "   0  8.4999915e-01 5.00e+03 1.00e+01  -1.0 0.00e+00    -  0.00e+00 0.00e+00   0\n",
      "   1  6.4097318e+04 8.56e+02 1.38e+05  -1.0 1.67e+03    -  5.94e-06 8.29e-01h  1\n",
      "   2  6.1247546e+04 7.46e+02 1.20e+05  -1.0 1.38e+04    -  9.02e-02 1.29e-01f  1\n",
      "   3  6.1222534e+04 7.35e+02 1.19e+05  -1.0 9.88e+03    -  1.87e-01 1.43e-02f  1\n",
      "   4  6.0889054e+04 6.87e+02 1.11e+05  -1.0 1.13e+04    -  1.16e-01 6.50e-02f  1\n",
      "   5  6.1118764e+04 6.01e+02 9.69e+04  -1.0 2.92e+03    -  3.54e-01 1.26e-01h  1\n",
      "   6  6.3480178e+04 3.11e+02 5.01e+04  -1.0 1.19e+03    -  4.57e-01 4.83e-01h  1\n",
      "   7  6.6549745e+04 7.55e+01 1.22e+04  -1.0 3.11e+02    -  8.59e-01 7.57e-01h  1\n",
      "   8  6.7648067e+04 1.30e+00 2.10e+02  -1.0 2.49e+02    -  9.54e-01 9.83e-01h  1\n",
      "   9  6.7667467e+04 4.55e-13 1.00e-06  -1.0 1.24e+02    -  1.00e+00 1.00e+00h  1\n",
      "iter    objective    inf_pr   inf_du lg(mu)  ||d||  lg(rg) alpha_du alpha_pr  ls\n",
      "  10  6.7666689e+04 0.00e+00 2.83e-08  -2.5 1.68e+01    -  1.00e+00 1.00e+00f  1\n",
      "  11  6.7666668e+04 9.09e-13 1.50e-09  -3.8 2.86e+01    -  1.00e+00 1.00e+00f  1\n",
      "  12  6.7666667e+04 4.55e-13 1.85e-11  -5.7 6.59e+00    -  1.00e+00 1.00e+00f  1\n",
      "  13  6.7666667e+04 0.00e+00 2.60e-14  -8.6 7.14e-01    -  1.00e+00 1.00e+00f  1\n",
      "\n",
      "Number of Iterations....: 13\n",
      "\n",
      "                                   (scaled)                 (unscaled)\n",
      "Objective...............:   6.7666666599726712e+04    6.7666666599726712e+04\n",
      "Dual infeasibility......:   2.5979218776228663e-14    2.5979218776228663e-14\n",
      "Constraint violation....:   0.0000000000000000e+00    0.0000000000000000e+00\n",
      "Complementarity.........:   4.0293388389581196e-09    4.0293388389581196e-09\n",
      "Overall NLP error.......:   4.0293388389581196e-09    4.0293388389581196e-09\n",
      "\n",
      "\n",
      "Number of objective function evaluations             = 14\n",
      "Number of objective gradient evaluations             = 14\n",
      "Number of equality constraint evaluations            = 14\n",
      "Number of inequality constraint evaluations          = 14\n",
      "Number of equality constraint Jacobian evaluations   = 14\n",
      "Number of inequality constraint Jacobian evaluations = 14\n",
      "Number of Lagrangian Hessian evaluations             = 13\n",
      "Total CPU secs in IPOPT (w/o function evaluations)   =      0.114\n",
      "Total CPU secs in NLP function evaluations           =      0.150\n",
      "\n",
      "EXIT: Optimal Solution Found.\n"
     ]
    },
    {
     "data": {
      "text/plain": [
       ":Optimal"
      ]
     },
     "execution_count": 4,
     "metadata": {},
     "output_type": "execute_result"
    }
   ],
   "source": [
    "solve(m_3)"
   ]
  },
  {
   "cell_type": "code",
   "execution_count": 5,
   "metadata": {},
   "outputs": [
    {
     "name": "stdout",
     "output_type": "stream",
     "text": [
      "Objective value: 67666.66659972671\n",
      "Machine 1 = 2604.315608627214\n",
      "Machine 1 = 0.0\n",
      "Machine 1 = 0.0\n",
      "Machine 2 = 1395.684391381283\n",
      "Machine 2 = 0.0\n",
      "Machine 2 = 1333.3333000107023\n",
      "Machine 3 = 0.0\n",
      "Machine 3 = 5000.000000010603\n",
      "Machine 3 = 1666.6666999980448\n",
      "Machine 4 = 0.0\n",
      "Machine 4 = 0.0\n",
      "Machine 4 = 0.0\n"
     ]
    }
   ],
   "source": [
    "println(\"Objective value: \", getobjectivevalue(m_3))\n",
    "println(\"Machine 1 = \", getvalue(m1p1_3))\n",
    "println(\"Machine 1 = \", getvalue(m1p2_3))\n",
    "println(\"Machine 1 = \", getvalue(m1p3_3))\n",
    "println(\"Machine 2 = \", getvalue(m2p1_3))\n",
    "println(\"Machine 2 = \", getvalue(m2p2_3))\n",
    "println(\"Machine 2 = \", getvalue(m2p3_3))\n",
    "println(\"Machine 3 = \", getvalue(m3p1_3))\n",
    "println(\"Machine 3 = \", getvalue(m3p2_3))\n",
    "println(\"Machine 3 = \", getvalue(m3p3_3))\n",
    "println(\"Machine 4 = \", getvalue(m4p1_3))\n",
    "println(\"Machine 4 = \", getvalue(m4p2_3))\n",
    "println(\"Machine 4 = \", getvalue(m4p3_3))"
   ]
  },
  {
   "cell_type": "markdown",
   "metadata": {},
   "source": [
    "---\n",
    "\n",
    "$(4)$\n",
    "\n",
    "Leary Chemical manufactures three chemicals: A, B and C. These chemical are produced via two production processes: 1 and 2. Running process 1 for an hour costs \\$4 and yields 3 units of A, 1 of B and 1 of C. Running process 2 for an hour costs \\$1 and produces 1 unit of A and 1 of B. To meet customer demands, at least 10 units of A, 5 of B and 3 of C must be produced daily.\n",
    "\n",
    "In order to minimize the cost of meeting Leary Chemical’s daily demands:"
   ]
  },
  {
   "cell_type": "markdown",
   "metadata": {},
   "source": [
    "**(a) Formulate this managerial problem as an LP problem.**"
   ]
  },
  {
   "cell_type": "code",
   "execution_count": 8,
   "metadata": {},
   "outputs": [
    {
     "name": "stdout",
     "output_type": "stream",
     "text": [
      "Min 4 p1_4 + p2_4\n",
      "Subject to\n",
      " 3 p1_4 + p2_4 ≥ 10\n",
      " p1_4 + p2_4 ≥ 5\n",
      " p1_4 ≥ 3\n",
      " p1_4 ≥ 0\n",
      " p2_4 ≥ 0\n"
     ]
    }
   ],
   "source": [
    "m_4 = Model(solver=IpoptSolver())\n",
    "@variable(m_4,p1_4 >= 0)\n",
    "@variable(m_4,p2_4 >= 0)\n",
    "@constraint(m_4, p1_4*3+p2_4 >= 10)\n",
    "@constraint(m_4, p1_4+p2_4 >= 5)\n",
    "@constraint(m_4, p1_4 >= 3)\n",
    "@objective(m_4, Min, p1_4*4+p2_4)\n",
    "\n",
    "print(m_4)"
   ]
  },
  {
   "cell_type": "code",
   "execution_count": 9,
   "metadata": {},
   "outputs": [
    {
     "name": "stdout",
     "output_type": "stream",
     "text": [
      "This is Ipopt version 3.12.8, running with linear solver mumps.\n",
      "NOTE: Other linear solvers might be more efficient (see Ipopt documentation).\n",
      "\n",
      "Number of nonzeros in equality constraint Jacobian...:        0\n",
      "Number of nonzeros in inequality constraint Jacobian.:        5\n",
      "Number of nonzeros in Lagrangian Hessian.............:        0\n",
      "\n",
      "Total number of variables............................:        2\n",
      "                     variables with only lower bounds:        2\n",
      "                variables with lower and upper bounds:        0\n",
      "                     variables with only upper bounds:        0\n",
      "Total number of equality constraints.................:        0\n",
      "Total number of inequality constraints...............:        3\n",
      "        inequality constraints with only lower bounds:        3\n",
      "   inequality constraints with lower and upper bounds:        0\n",
      "        inequality constraints with only upper bounds:        0\n",
      "\n",
      "iter    objective    inf_pr   inf_du lg(mu)  ||d||  lg(rg) alpha_du alpha_pr  ls\n",
      "   0  4.9999950e-02 9.96e+00 8.00e-01  -1.0 0.00e+00    -  0.00e+00 0.00e+00   0\n",
      "   1  2.4544222e-01 9.81e+00 3.09e+00  -1.0 3.34e+00    -  5.34e-03 2.26e-02h  1\n",
      "   2  1.0447886e+00 9.18e+00 3.67e+00  -1.0 2.86e+00    -  1.52e-02 5.91e-02h  1\n",
      "   3  1.4203460e+01 0.00e+00 1.53e+01  -1.0 2.83e+00    -  7.52e-02 1.00e+00h  1\n",
      "   4  1.4168930e+01 0.00e+00 1.00e-06  -1.0 4.55e-02    -  1.00e+00 1.00e+00f  1\n",
      "   5  1.4007161e+01 0.00e+00 1.08e-02  -2.5 1.39e-01    -  1.00e+00 9.18e-01f  1\n",
      "   6  1.4000242e+01 0.00e+00 1.50e-09  -3.8 4.62e-03    -  1.00e+00 1.00e+00f  1\n",
      "   7  1.4000003e+01 0.00e+00 1.84e-11  -5.7 2.09e-04    -  1.00e+00 1.00e+00f  1\n",
      "   8  1.4000000e+01 0.00e+00 2.51e-14  -8.6 3.02e-06    -  1.00e+00 1.00e+00f  1\n",
      "\n",
      "Number of Iterations....: 8\n",
      "\n",
      "                                   (scaled)                 (unscaled)\n",
      "Objective...............:   1.3999999865004634e+01    1.3999999865004634e+01\n",
      "Dual infeasibility......:   2.5120766448416835e-14    2.5120766448416835e-14\n",
      "Constraint violation....:   0.0000000000000000e+00    0.0000000000000000e+00\n",
      "Complementarity.........:   2.5116011409572163e-09    2.5116011409572163e-09\n",
      "Overall NLP error.......:   2.5116011409572163e-09    2.5116011409572163e-09\n",
      "\n",
      "\n",
      "Number of objective function evaluations             = 9\n",
      "Number of objective gradient evaluations             = 9\n",
      "Number of equality constraint evaluations            = 0\n",
      "Number of inequality constraint evaluations          = 9\n",
      "Number of equality constraint Jacobian evaluations   = 0\n",
      "Number of inequality constraint Jacobian evaluations = 9\n",
      "Number of Lagrangian Hessian evaluations             = 8\n",
      "Total CPU secs in IPOPT (w/o function evaluations)   =      0.003\n",
      "Total CPU secs in NLP function evaluations           =      0.000\n",
      "\n",
      "EXIT: Optimal Solution Found.\n"
     ]
    },
    {
     "data": {
      "text/plain": [
       ":Optimal"
      ]
     },
     "execution_count": 9,
     "metadata": {},
     "output_type": "execute_result"
    }
   ],
   "source": [
    "solve(m_4)"
   ]
  },
  {
   "cell_type": "markdown",
   "metadata": {},
   "source": [
    "**(b) Graphically determine a daily production plan.**"
   ]
  },
  {
   "cell_type": "markdown",
   "metadata": {},
   "source": [
    "**(c) Confirm the solution using the Solver Excel® add-in.**"
   ]
  },
  {
   "cell_type": "code",
   "execution_count": null,
   "metadata": {
    "collapsed": true
   },
   "outputs": [],
   "source": []
  },
  {
   "cell_type": "code",
   "execution_count": null,
   "metadata": {
    "collapsed": true
   },
   "outputs": [],
   "source": []
  },
  {
   "cell_type": "code",
   "execution_count": null,
   "metadata": {
    "collapsed": true
   },
   "outputs": [],
   "source": []
  },
  {
   "cell_type": "code",
   "execution_count": null,
   "metadata": {
    "collapsed": true
   },
   "outputs": [],
   "source": []
  },
  {
   "cell_type": "code",
   "execution_count": null,
   "metadata": {
    "collapsed": true
   },
   "outputs": [],
   "source": []
  },
  {
   "cell_type": "code",
   "execution_count": null,
   "metadata": {
    "collapsed": true
   },
   "outputs": [],
   "source": []
  },
  {
   "cell_type": "code",
   "execution_count": null,
   "metadata": {
    "collapsed": true
   },
   "outputs": [],
   "source": []
  },
  {
   "cell_type": "code",
   "execution_count": null,
   "metadata": {
    "collapsed": true
   },
   "outputs": [],
   "source": []
  },
  {
   "cell_type": "markdown",
   "metadata": {},
   "source": [
    "- - -\n",
    "\n",
    "$(5)$\n",
    "\n",
    "Mr. Silva is dealing with dollar currency and yuan currency. At 24:00, he can **buy dollars by paying 0.25 yuans per dollar** and **yuans by paying 3 dollars per yuan**. Let $x_1$ be the number of yuans bought (by paying with dollars), and $x_2$ be the number of dollars bought (by paying with yuans).\n",
    "\n",
    "_[Global II] In other words:_\n",
    "\n",
    "$$ E_{\\yen/\\$} = 0.25$$\n",
    "$$ E_{\\$/\\yen} = 3.00$$\n",
    "\n",
    "Assume that both type of transactions take place simultaneously, and the only constraint is that at 12:01 a.m. Mr. Silva must have a nonnegative number of dollars and yuans.\n",
    "\n",
    "In order to help Mr. Silva maximizing the number of yuans he has after all transactions are completed:"
   ]
  },
  {
   "cell_type": "markdown",
   "metadata": {},
   "source": [
    "**(a) Formulate the corresponding LP problem.**"
   ]
  },
  {
   "cell_type": "code",
   "execution_count": 7,
   "metadata": {},
   "outputs": [
    {
     "ename": "LoadError",
     "evalue": "\u001b[91mUndefVarError: model not defined\u001b[39m",
     "output_type": "error",
     "traceback": [
      "\u001b[91mUndefVarError: model not defined\u001b[39m",
      "",
      "Stacktrace:",
      " [1] \u001b[1minclude_string\u001b[22m\u001b[22m\u001b[1m(\u001b[22m\u001b[22m::String, ::String\u001b[1m)\u001b[22m\u001b[22m at \u001b[1m./loading.jl:522\u001b[22m\u001b[22m"
     ]
    }
   ],
   "source": [
    "m_5 = model(solver=IpoptSolver())\n",
    "@variable(m_5, usd_5 >= 0)\n",
    "@variable(m_5, cny_5 >= 0)\n"
   ]
  },
  {
   "cell_type": "markdown",
   "metadata": {},
   "source": [
    "**(b) Graphically solve the problem.**"
   ]
  },
  {
   "cell_type": "markdown",
   "metadata": {},
   "source": [
    "**(c) Confirm the solution using the Solver Excel® add-in.**"
   ]
  },
  {
   "cell_type": "markdown",
   "metadata": {
    "collapsed": true
   },
   "source": [
    "You wish."
   ]
  },
  {
   "cell_type": "code",
   "execution_count": null,
   "metadata": {
    "collapsed": true
   },
   "outputs": [],
   "source": []
  }
 ],
 "metadata": {
  "kernelspec": {
   "display_name": "Julia 0.6.2",
   "language": "julia",
   "name": "julia-0.6"
  },
  "language_info": {
   "file_extension": ".jl",
   "mimetype": "application/julia",
   "name": "julia",
   "version": "0.6.2"
  }
 },
 "nbformat": 4,
 "nbformat_minor": 2
}
