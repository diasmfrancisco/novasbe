{
 "cells": [
  {
   "cell_type": "code",
   "execution_count": 11,
   "metadata": {},
   "outputs": [],
   "source": [
    "using DataFrames"
   ]
  },
  {
   "cell_type": "markdown",
   "metadata": {},
   "source": [
    "## Formulation and Graphical Solution\n",
    "\n",
    "- - -\n",
    "\n",
    "$(1)$\n",
    "\n",
    "An aviary wants the fowl’s food to have a certain quantity of nutrients. Two kinds of grain are available: $A$ and $B$. The data are as follows:"
   ]
  },
  {
   "cell_type": "code",
   "execution_count": 25,
   "metadata": {},
   "outputs": [
    {
     "data": {
      "text/html": [
       "<table class=\"data-frame\"><thead><tr><th></th><th>Starch</th><th>Proteins</th><th>Vitamins</th><th>Cost</th></tr></thead><tbody><tr><th>1</th><td>4</td><td>5</td><td>2</td><td>6.0</td></tr><tr><th>2</th><td>5</td><td>7</td><td>1</td><td>4.0</td></tr></tbody></table>"
      ],
      "text/plain": [
       "2×4 DataFrames.DataFrame\n",
       "│ Row │ Starch │ Proteins │ Vitamins │ Cost │\n",
       "├─────┼────────┼──────────┼──────────┼──────┤\n",
       "│ 1   │ 4      │ 5        │ 2        │ 6.0  │\n",
       "│ 2   │ 5      │ 7        │ 1        │ 4.0  │"
      ]
     },
     "execution_count": 25,
     "metadata": {},
     "output_type": "execute_result"
    }
   ],
   "source": [
    "df_1 = DataFrame(Starch = [4,5], Proteins = [5,7], Vitamins = [2,1], Cost = [6.0, 4.0])"
   ]
  },
  {
   "cell_type": "code",
   "execution_count": 24,
   "metadata": {},
   "outputs": [
    {
     "data": {
      "text/html": [
       "<table class=\"data-frame\"><thead><tr><th></th><th>Starch</th><th>Proteins</th><th>Cost</th></tr></thead><tbody><tr><th>1</th><td>8</td><td>14</td><td>3</td></tr></tbody></table>"
      ],
      "text/plain": [
       "1×3 DataFrames.DataFrame\n",
       "│ Row │ Starch │ Proteins │ Cost │\n",
       "├─────┼────────┼──────────┼──────┤\n",
       "│ 1   │ 8      │ 14       │ 3    │"
      ]
     },
     "execution_count": 24,
     "metadata": {},
     "output_type": "execute_result"
    }
   ],
   "source": [
    "df_minimum1 = DataFrame(Starch = [8], Proteins = [14], Cost = [3])"
   ]
  },
  {
   "cell_type": "markdown",
   "metadata": {},
   "source": [
    "What is the ideal composition of the fowl’s food in order to minimize the cost?"
   ]
  },
  {
   "cell_type": "code",
   "execution_count": null,
   "metadata": {},
   "outputs": [],
   "source": []
  }
 ],
 "metadata": {
  "kernelspec": {
   "display_name": "Julia 0.6.2",
   "language": "julia",
   "name": "julia-0.6"
  },
  "language_info": {
   "file_extension": ".jl",
   "mimetype": "application/julia",
   "name": "julia",
   "version": "0.6.2"
  }
 },
 "nbformat": 4,
 "nbformat_minor": 2
}
