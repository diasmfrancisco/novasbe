{
 "cells": [
  {
   "cell_type": "code",
   "execution_count": 3,
   "metadata": {},
   "outputs": [
    {
     "name": "stderr",
     "output_type": "stream",
     "text": [
      "\u001b[1m\u001b[36mINFO: \u001b[39m\u001b[22m\u001b[36mRecompiling stale cache file /Users/fmcdg/.julia/lib/v0.6/Polynomials.ji for module Polynomials.\n",
      "\u001b[39m\u001b[1m\u001b[36mINFO: \u001b[39m\u001b[22m\u001b[36mRecompiling stale cache file /Users/fmcdg/.julia/lib/v0.6/Combinatorics.ji for module Combinatorics.\n",
      "\u001b[39m"
     ]
    }
   ],
   "source": [
    "using Gadfly\n",
    "using DataFrames\n",
    "using Interact\n",
    "using Combinatorics;"
   ]
  },
  {
   "cell_type": "markdown",
   "metadata": {},
   "source": [
    "# Brute Force Method"
   ]
  },
  {
   "cell_type": "code",
   "execution_count": null,
   "metadata": {},
   "outputs": [],
   "source": [
    "function Combination_Results_C3(basic_pair)\n",
    "    B = [A[:,basic_pair[1]] A[:,basic_pair[2]] A[:,basic_pair[3]]]\n",
    "    if det(B) != 0 \n",
    "        x_B = inv(B)*b\n",
    "        c_B = [c[basic_pair[1]] c[basic_pair[2]] c[basic_pair[3]]]\n",
    "        z = c_B*x_B\n",
    "        if x_B[1] >= 0 && x_B[2] >= 0 && x_B[3] >= 0  \n",
    "            println(\"Basic Variables: (\", variables[basic_pair[1]], \", \", variables[basic_pair[2]], \", \", variables[basic_pair[3]],\") = (\", round(x_B[1],2), \", \", round(x_B[2],2), \", \", round(x_B[3],2),\"). Objective: z = \", round(z[1],2), \".\")\n",
    "        end\n",
    "    end\n",
    "end"
   ]
  }
 ],
 "metadata": {
  "kernelspec": {
   "display_name": "Julia 0.6.2",
   "language": "julia",
   "name": "julia-0.6"
  },
  "language_info": {
   "file_extension": ".jl",
   "mimetype": "application/julia",
   "name": "julia",
   "version": "0.6.2"
  }
 },
 "nbformat": 4,
 "nbformat_minor": 2
}
