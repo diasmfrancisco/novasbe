{
 "cells": [
  {
   "cell_type": "code",
   "execution_count": 1,
   "metadata": {
    "collapsed": true
   },
   "outputs": [],
   "source": [
    "using Combinatorics"
   ]
  },
  {
   "cell_type": "markdown",
   "metadata": {},
   "source": [
    "# Northwest Corner Method"
   ]
  },
  {
   "cell_type": "code",
   "execution_count": 91,
   "metadata": {},
   "outputs": [
    {
     "data": {
      "text/plain": [
       "NCM (generic function with 1 method)"
      ]
     },
     "execution_count": 91,
     "metadata": {},
     "output_type": "execute_result"
    }
   ],
   "source": [
    "function NCM(in_S, in_D, in_C)\n",
    "    S, D, C = copy(in_S), copy(in_D), copy(in_C)\n",
    "    \n",
    "    #print demand/supply\n",
    "    println(\"Total Supply: $(sum(S))\", \"\\n\", \"Total Demand: $(sum(D))\")\n",
    "    \n",
    "    #compare supply and demand\n",
    "    if sum(S) > sum(D) \n",
    "        D = [D; sum(S)-sum(D)]\n",
    "        C = [C zeros(size(S)[1])]\n",
    "    elseif sum(S) < sum(D) \n",
    "        S = [S; sum(D)-sum(S)]\n",
    "        C = [C; zeros(size(D)[1])']\n",
    "    end\n",
    "    \n",
    "    #get m and n\n",
    "    m, n = size(C)\n",
    "    \n",
    "    #get X vector\n",
    "    X = fill(NaN, m, n)\n",
    "    \n",
    "    #start algorithm\n",
    "    i, j = 1, 1\n",
    "    while count(.!isnan.(X)) < m + n - 1\n",
    "        x = min(S[i], D[j])\n",
    "        X[i,j] = x\n",
    "        if x == S[i]\n",
    "            i += 1\n",
    "            D[j] -= x\n",
    "        else\n",
    "            j += 1\n",
    "            S[i] -= x\n",
    "        end\n",
    "    end\n",
    "    \n",
    "    return X\n",
    "end"
   ]
  },
  {
   "cell_type": "markdown",
   "metadata": {},
   "source": [
    "# Minimum-Cost Method"
   ]
  },
  {
   "cell_type": "code",
   "execution_count": 3,
   "metadata": {},
   "outputs": [
    {
     "data": {
      "text/plain": [
       "MCM (generic function with 1 method)"
      ]
     },
     "execution_count": 3,
     "metadata": {},
     "output_type": "execute_result"
    }
   ],
   "source": [
    "function MCM(in_S, in_D, in_C)\n",
    "    S, D, C = copy(in_S), copy(in_D), copy(in_C)\n",
    "    \n",
    "    #print demand/supply\n",
    "    println(\"Total Supply: $(sum(S))\", \"\\n\", \"Total Demand: $(sum(D))\")\n",
    "    \n",
    "    #compare supply and demand\n",
    "    if sum(S) > sum(D) \n",
    "        D = [D; sum(S)-sum(D)]\n",
    "        C = [C zeros(size(S)[1])]\n",
    "    elseif sum(S) < sum(D) \n",
    "        S = [S; sum(D)-sum(S)]\n",
    "        C = [C; zeros(size(D)[1])']\n",
    "    end\n",
    "    \n",
    "    #get m and n\n",
    "    m, n = size(C)\n",
    "    \n",
    "    #get X vector\n",
    "    X = fill(NaN, m, n)\n",
    "    \n",
    "    #start algorithm\n",
    "    while count(.!isnan.(X)) < m + n - 1\n",
    "        #get min cost\n",
    "        i, j = ind2sub(size(C),indmin(C))\n",
    "        \n",
    "        #get entry value\n",
    "        x = min(S[i], D[j])\n",
    "        X[i,j] = x\n",
    "        \n",
    "        #adjust supply/demand remaining and remove min cost\n",
    "        if S[i] == D[j] \n",
    "            if count(.!isnan.(C[i,:])) >= count(.!isnan.(C[:,j]))\n",
    "                S[i] -= x\n",
    "                C[:,j] .= NaN\n",
    "            else\n",
    "                D[j] -= x\n",
    "                C[i,:] .= NaN\n",
    "            end\n",
    "        elseif x == S[i]\n",
    "            D[j] -= x\n",
    "            C[i,:] .= NaN        \n",
    "        else\n",
    "            S[i] -= x\n",
    "            C[:,j] .= NaN \n",
    "        end\n",
    "    end\n",
    "    \n",
    "    return X\n",
    "end"
   ]
  },
  {
   "cell_type": "markdown",
   "metadata": {},
   "source": [
    "# Vogel Method"
   ]
  },
  {
   "cell_type": "code",
   "execution_count": 4,
   "metadata": {},
   "outputs": [
    {
     "data": {
      "text/plain": [
       "Vogel (generic function with 1 method)"
      ]
     },
     "execution_count": 4,
     "metadata": {},
     "output_type": "execute_result"
    }
   ],
   "source": [
    "function Vogel(in_S, in_D, in_C)\n",
    "    S, D, C = copy(in_S), copy(in_D), copy(in_C)\n",
    "    \n",
    "    #print demand/supply\n",
    "    println(\"Total Supply: $(sum(S))\", \"\\n\", \"Total Demand: $(sum(D))\")\n",
    "    \n",
    "    #compare supply and demand\n",
    "    if sum(S) > sum(D) \n",
    "        D = [D; sum(S)-sum(D)]\n",
    "        C = [C zeros(size(S)[1])]\n",
    "    elseif sum(S) < sum(D) \n",
    "        S = [S; sum(D)-sum(S)]\n",
    "        C = [C; zeros(size(D)[1])']\n",
    "    end\n",
    "    \n",
    "    #get m and n\n",
    "    m, n = size(C)\n",
    "    \n",
    "    #get X vector\n",
    "    X = fill(NaN, m, n)\n",
    "    \n",
    "    #start algorithm\n",
    "    while count(.!isnan.(X)) < m + n - 1\n",
    "        \n",
    "        r_dif = sort(C, 2)[:,2]-sort(C, 2)[:,1]\n",
    "        d_dif = sort(C, 1)[2,:]-sort(C, 1)[1,:]\n",
    "                \n",
    "        if count(.!isnan.(r_dif)) >= 1 && count(.!isnan.(d_dif)) >= 1\n",
    "            if findmax(r_dif)[1] >= findmax(d_dif)[1]\n",
    "                i = indmax(r_dif)\n",
    "                j = indmin(C[i,:])\n",
    "            else\n",
    "                j = indmax(d_dif)\n",
    "                i = indmin(C[:,j])\n",
    "            end\n",
    "        elseif count(.!isnan.(r_dif)) == 0 && count(.!isnan.(d_dif)) >= 1\n",
    "            j = indmax(d_dif)\n",
    "            i = indmin(C[:,j])\n",
    "        elseif count(.!isnan.(d_dif)) == 0 && count(.!isnan.(r_dif)) >= 1\n",
    "            i = indmax(r_dif)\n",
    "            j = indmin(C[i,:])\n",
    "        else\n",
    "            i, j = ind2sub(size(C),indmin(C))\n",
    "        end\n",
    "\n",
    "        #get entry value\n",
    "        x = min(S[i], D[j])\n",
    "        X[i,j] = x\n",
    "        \n",
    "        #adjust supply/demand remaining and remove min cost\n",
    "        if S[i] == D[j] \n",
    "            if count(.!isnan.(C[i,:])) >= count(.!isnan.(C[:,j]))\n",
    "                S[i] -= x\n",
    "                D[j] -= x\n",
    "                C[:,j] .= NaN\n",
    "            else\n",
    "                S[i] -= x\n",
    "                D[j] -= x\n",
    "                C[i,:] .= NaN\n",
    "            end\n",
    "        elseif x == S[i]\n",
    "            S[i] -= x\n",
    "            D[j] -= x\n",
    "            C[i,:] .= NaN        \n",
    "        else\n",
    "            S[i] -= x\n",
    "            D[j] -= x\n",
    "            C[:,j] .= NaN \n",
    "        end\n",
    "    end\n",
    "    \n",
    "    return X\n",
    "end"
   ]
  },
  {
   "cell_type": "markdown",
   "metadata": {},
   "source": [
    "# General Solver"
   ]
  },
  {
   "cell_type": "code",
   "execution_count": 5,
   "metadata": {},
   "outputs": [
    {
     "data": {
      "text/plain": [
       "GeneralSolver (generic function with 1 method)"
      ]
     },
     "execution_count": 5,
     "metadata": {},
     "output_type": "execute_result"
    }
   ],
   "source": [
    "function GeneralSolver(in_S, in_D, in_C)\n",
    "    S, D, C = copy(in_S), copy(in_D), copy(in_C)\n",
    "    \n",
    "    #print demand/supply\n",
    "    println(\"Total Supply: $(sum(S))\", \"\\n\", \"Total Demand: $(sum(D))\")\n",
    "    \n",
    "    #compare supply and demand\n",
    "    if sum(S) > sum(D) \n",
    "        D = [D; sum(S)-sum(D)]\n",
    "        C = [C zeros(size(S)[1])]\n",
    "    elseif sum(S) < sum(D) \n",
    "        S = [S; sum(D)-sum(S)]\n",
    "        C = [C; zeros(size(D)[1])']\n",
    "    end\n",
    "    \n",
    "    #get m and n\n",
    "    m, n = size(C)\n",
    "    \n",
    "    #define constraint table\n",
    "    a1 = zeros(0)\n",
    "    a2 = zeros(0)\n",
    "    for i in 1:m\n",
    "        Z = zeros(m,n)\n",
    "        Z[i,:] .= 1\n",
    "        a1 = [a1; Z'] \n",
    "        a2 = [a2; eye(n)]\n",
    "    end\n",
    "    \n",
    "    A = [a1'; a2']\n",
    "    b = [S; D]\n",
    "    c = vec(C')'\n",
    "    \n",
    "    var_names = String[]\n",
    "    for i in 1:m, j in 1:n\n",
    "        push!(var_names, \"x_$(i)$(j)\")\n",
    "    end\n",
    "    \n",
    "    A = A[2:end,:]\n",
    "    b = b[2:end]\n",
    "\n",
    "    #output\n",
    "    output = Dict()\n",
    "    \n",
    "    counter = 0\n",
    "    for basic_pair in collect(combinations(1:length(var_names), m+n-1))\n",
    "        counter += 1\n",
    "        \n",
    "        B = zeros(0)\n",
    "        for t in 1:m+n-1 \n",
    "            B = [B; A[:,basic_pair[t]]'] \n",
    "        end\n",
    "        B = B'\n",
    "        \n",
    "        if det(B) != 0\n",
    "            x_B = inv(B)*b\n",
    "            \n",
    "            var_x = String[]\n",
    "            for var_i in basic_pair push!(var_x, var_names[var_i]) end\n",
    "            \n",
    "            c_B = zeros(0)\n",
    "            for t in 1:m+n-1 c_B = [c_B; c[basic_pair[t]]] end\n",
    "            \n",
    "            c_B = c_B'\n",
    "            \n",
    "            z = c_B*x_B\n",
    "            \n",
    "            if \"Cost\" in keys(output)\n",
    "                if output[\"Cost\"] > z && sum(abs.(x_B)) == sum(x_B)\n",
    "                    output[\"Cost\"] = z\n",
    "                    output[\"Basic Pair\"] = var_x\n",
    "                    output[\"Value\"] = x_B\n",
    "                end\n",
    "            elseif sum(abs.(x_B)) == sum(x_B)\n",
    "                output[\"Cost\"] = z\n",
    "                output[\"Basic Pair\"] = var_x\n",
    "                output[\"Value\"] = x_B \n",
    "            end\n",
    "                      \n",
    "        end\n",
    "    end\n",
    "    println(\"\\n\", \"Iterations: $(counter)\", \"\\n\")\n",
    "    return output, [\"_\" \"_\"; \"Cost\" output[\"Cost\"]; \"_\" \"_\"; output[\"Basic Pair\"] output[\"Value\"]; \"_\" \"_\"]\n",
    "end"
   ]
  },
  {
   "cell_type": "markdown",
   "metadata": {},
   "source": [
    "# Exercises"
   ]
  },
  {
   "cell_type": "markdown",
   "metadata": {},
   "source": [
    "### 2"
   ]
  },
  {
   "cell_type": "code",
   "execution_count": 6,
   "metadata": {
    "collapsed": true
   },
   "outputs": [],
   "source": [
    "ex2_S = [10, 10, 20]\n",
    "ex2_D = [15, 10, 5, 10]\n",
    "ex2_C = [4 6 9 2; 5 2 4 8; 7 4 9 12];"
   ]
  },
  {
   "cell_type": "markdown",
   "metadata": {},
   "source": [
    "### 3"
   ]
  },
  {
   "cell_type": "code",
   "execution_count": 7,
   "metadata": {
    "collapsed": true
   },
   "outputs": [],
   "source": [
    "ex3_S = [50, 50]\n",
    "ex3_D = [20, 20, 20]\n",
    "ex3_C = [800 700 400; 600 800 500];"
   ]
  },
  {
   "cell_type": "code",
   "execution_count": 8,
   "metadata": {},
   "outputs": [
    {
     "name": "stdout",
     "output_type": "stream",
     "text": [
      "Total Supply: 100\n",
      "Total Demand: 60\n"
     ]
    },
    {
     "data": {
      "text/plain": [
       "2×4 Array{Float64,2}:\n",
       "  20.0   20.0  10.0  NaN  \n",
       " NaN    NaN    10.0   40.0"
      ]
     },
     "execution_count": 8,
     "metadata": {},
     "output_type": "execute_result"
    }
   ],
   "source": [
    "NCM(ex3_S,ex3_D,ex3_C)"
   ]
  },
  {
   "cell_type": "code",
   "execution_count": 9,
   "metadata": {},
   "outputs": [
    {
     "name": "stdout",
     "output_type": "stream",
     "text": [
      "Total Supply: 100\n",
      "Total Demand: 60\n"
     ]
    },
    {
     "data": {
      "text/plain": [
       "2×4 Array{Float64,2}:\n",
       " NaN    NaN    10.0   40.0\n",
       "  20.0   20.0  10.0  NaN  "
      ]
     },
     "execution_count": 9,
     "metadata": {},
     "output_type": "execute_result"
    }
   ],
   "source": [
    "MCM(ex3_S,ex3_D,ex3_C)"
   ]
  },
  {
   "cell_type": "code",
   "execution_count": 10,
   "metadata": {},
   "outputs": [
    {
     "name": "stdout",
     "output_type": "stream",
     "text": [
      "Total Supply: 100\n",
      "Total Demand: 60\n"
     ]
    },
    {
     "data": {
      "text/plain": [
       "2×4 Array{Float64,2}:\n",
       " 10.0   20.0   20.0  NaN  \n",
       " 10.0  NaN    NaN     40.0"
      ]
     },
     "execution_count": 10,
     "metadata": {},
     "output_type": "execute_result"
    }
   ],
   "source": [
    "Vogel(ex3_S,ex3_D,ex3_C)"
   ]
  },
  {
   "cell_type": "code",
   "execution_count": 11,
   "metadata": {},
   "outputs": [
    {
     "name": "stdout",
     "output_type": "stream",
     "text": [
      "Total Supply: 100\n",
      "Total Demand: 60\n",
      "\n",
      "Iterations: 56\n",
      "\n"
     ]
    },
    {
     "data": {
      "text/plain": [
       "Dict{Any,Any} with 3 entries:\n",
       "  \"Cost\"       => 34000.0\n",
       "  \"Value\"      => [20.0, 20.0, 10.0, 20.0, 30.0]\n",
       "  \"Basic Pair\" => String[\"x_12\", \"x_13\", \"x_14\", \"x_21\", \"x_24\"]"
      ]
     },
     "execution_count": 11,
     "metadata": {},
     "output_type": "execute_result"
    }
   ],
   "source": [
    "GeneralSolver(ex3_S,ex3_D,ex3_C)[1]"
   ]
  },
  {
   "cell_type": "markdown",
   "metadata": {},
   "source": [
    "### 4"
   ]
  },
  {
   "cell_type": "code",
   "execution_count": 12,
   "metadata": {
    "collapsed": true
   },
   "outputs": [],
   "source": [
    "ex4_S = [400, 600, 400, 600, 1000]\n",
    "ex4_D = [600, 1000, 800]\n",
    "M = 10000; ex4_C = [31 29 32 28 29; 45 41 46 42 43; 38 35 40 copy(M) copy(M)]';"
   ]
  },
  {
   "cell_type": "code",
   "execution_count": 13,
   "metadata": {},
   "outputs": [
    {
     "name": "stdout",
     "output_type": "stream",
     "text": [
      "Total Supply: 3000\n",
      "Total Demand: 2400\n"
     ]
    },
    {
     "data": {
      "text/plain": [
       "5×4 Array{Float64,2}:\n",
       " 400.0  NaN    NaN    NaN  \n",
       " 200.0  400.0  NaN    NaN  \n",
       " NaN    400.0  NaN    NaN  \n",
       " NaN    200.0  400.0  NaN  \n",
       " NaN    NaN    400.0  600.0"
      ]
     },
     "execution_count": 13,
     "metadata": {},
     "output_type": "execute_result"
    }
   ],
   "source": [
    "NCM(ex4_S, ex4_D, ex4_C)"
   ]
  },
  {
   "cell_type": "code",
   "execution_count": 14,
   "metadata": {},
   "outputs": [
    {
     "name": "stdout",
     "output_type": "stream",
     "text": [
      "Total Supply: 3000\n",
      "Total Demand: 2400\n"
     ]
    },
    {
     "data": {
      "text/plain": [
       "5×4 Array{Float64,2}:\n",
       " NaN     NaN    NaN    400.0\n",
       "   0.0   NaN    400.0  200.0\n",
       " NaN       0.0  400.0  NaN  \n",
       " 600.0   NaN    NaN    NaN  \n",
       " NaN    1000.0  NaN    NaN  "
      ]
     },
     "execution_count": 14,
     "metadata": {},
     "output_type": "execute_result"
    }
   ],
   "source": [
    "MCM(ex4_S, ex4_D, ex4_C)"
   ]
  },
  {
   "cell_type": "code",
   "execution_count": 15,
   "metadata": {},
   "outputs": [
    {
     "name": "stdout",
     "output_type": "stream",
     "text": [
      "Total Supply: 3000\n",
      "Total Demand: 2400\n"
     ]
    },
    {
     "data": {
      "text/plain": [
       "5×4 Array{Float64,2}:\n",
       " NaN     NaN    200.0  200.0\n",
       " NaN       0.0  600.0  NaN  \n",
       " NaN     NaN    NaN    400.0\n",
       " 600.0   NaN    NaN    NaN  \n",
       "   0.0  1000.0  NaN    NaN  "
      ]
     },
     "execution_count": 15,
     "metadata": {},
     "output_type": "execute_result"
    }
   ],
   "source": [
    "Vogel(ex4_S, ex4_D, ex4_C)"
   ]
  },
  {
   "cell_type": "code",
   "execution_count": 16,
   "metadata": {},
   "outputs": [
    {
     "name": "stdout",
     "output_type": "stream",
     "text": [
      "Total Supply: 3000\n",
      "Total Demand: 2400\n",
      "\n",
      "Iterations: 125970\n",
      "\n"
     ]
    },
    {
     "data": {
      "text/plain": [
       "(Dict{Any,Any}(Pair{Any,Any}(\"Cost\", 88400.0),Pair{Any,Any}(\"Value\", [0.0, 0.0, 200.0, 200.0, 600.0, 400.0, 600.0, 1000.0]),Pair{Any,Any}(\"Basic Pair\", String[\"x_11\", \"x_12\", \"x_13\", \"x_14\", \"x_23\", \"x_34\", \"x_41\", \"x_52\"])), Any[\"_\" \"_\"; \"Cost\" 88400.0; … ; \"x_52\" 1000.0; \"_\" \"_\"])"
      ]
     },
     "execution_count": 16,
     "metadata": {},
     "output_type": "execute_result"
    }
   ],
   "source": [
    "ex4_sol = GeneralSolver(ex4_S, ex4_D, ex4_C)"
   ]
  },
  {
   "cell_type": "code",
   "execution_count": 17,
   "metadata": {},
   "outputs": [
    {
     "data": {
      "text/plain": [
       "12×2 Array{Any,2}:\n",
       " \"_\"          \"_\"\n",
       " \"Cost\"  88400.0 \n",
       " \"_\"          \"_\"\n",
       " \"x_11\"      0.0 \n",
       " \"x_12\"      0.0 \n",
       " \"x_13\"    200.0 \n",
       " \"x_14\"    200.0 \n",
       " \"x_23\"    600.0 \n",
       " \"x_34\"    400.0 \n",
       " \"x_41\"    600.0 \n",
       " \"x_52\"   1000.0 \n",
       " \"_\"          \"_\""
      ]
     },
     "execution_count": 17,
     "metadata": {},
     "output_type": "execute_result"
    }
   ],
   "source": [
    "ex4_sol[2]"
   ]
  },
  {
   "cell_type": "code",
   "execution_count": 48,
   "metadata": {},
   "outputs": [
    {
     "data": {
      "text/plain": [
       "Dict{Any,Any} with 3 entries:\n",
       "  \"Cost\"       => 88400.0\n",
       "  \"Value\"      => [0.0, 0.0, 200.0, 200.0, 600.0, 400.0, 600.0, 1000.0]\n",
       "  \"Basic Pair\" => String[\"x_11\", \"x_12\", \"x_13\", \"x_14\", \"x_23\", \"x_34\", \"x_41\"…"
      ]
     },
     "execution_count": 48,
     "metadata": {},
     "output_type": "execute_result"
    }
   ],
   "source": [
    "ex4_sol[1]"
   ]
  },
  {
   "cell_type": "markdown",
   "metadata": {},
   "source": [
    "### 5"
   ]
  },
  {
   "cell_type": "code",
   "execution_count": 53,
   "metadata": {},
   "outputs": [
    {
     "data": {
      "text/plain": [
       "ex5 (generic function with 1 method)"
      ]
     },
     "execution_count": 53,
     "metadata": {},
     "output_type": "execute_result"
    }
   ],
   "source": [
    "function ex5()\n",
    "    \n",
    "    output = Dict()\n",
    "    \n",
    "    for Δ in 0:(sum([60, 80, 40])-sum([40, 60, 20]))\n",
    "        ex5_S = [60, 80, 40]\n",
    "        ex5_D = [40, 60, 80-Δ, 0+Δ]\n",
    "        ex5_C = -[800 700 500 200; 500 200 100 300; 600 400 300 500]\n",
    "        \n",
    "        if \"Cost\" in keys(output)\n",
    "            new_output = GeneralSolver(ex5_S, ex5_D, ex5_C)[1]\n",
    "            if new_output[\"Cost\"] < output[\"Cost\"]\n",
    "                output = new_output\n",
    "            elseif new_output[\"Cost\"] == output[\"Cost\"]\n",
    "                println(new_output[\"Value\"])\n",
    "                println(new_output[\"Basic Pair\"])\n",
    "            end\n",
    "        else\n",
    "            output = GeneralSolver(ex5_S, ex5_D, ex5_C)[1]\n",
    "        end\n",
    "    end\n",
    "    \n",
    "    return output\n",
    "end"
   ]
  },
  {
   "cell_type": "code",
   "execution_count": 55,
   "metadata": {},
   "outputs": [
    {
     "name": "stdout",
     "output_type": "stream",
     "text": [
      "Total Supply: 180\n",
      "Total Demand: 180\n",
      "\n",
      "Iterations: 924\n",
      "\n",
      "Total Supply: 180\n",
      "Total Demand: 180\n",
      "\n",
      "Iterations: 924\n",
      "\n",
      "Total Supply: 180\n",
      "Total Demand: 180\n",
      "\n",
      "Iterations: 924\n",
      "\n",
      "Total Supply: 180\n",
      "Total Demand: 180\n",
      "\n",
      "Iterations: 924\n",
      "\n",
      "Total Supply: 180\n",
      "Total Demand: 180\n",
      "\n",
      "Iterations: 924\n",
      "\n",
      "Total Supply: 180\n",
      "Total Demand: 180\n",
      "\n",
      "Iterations: 924\n",
      "\n",
      "Total Supply: 180\n",
      "Total Demand: 180\n",
      "\n",
      "Iterations: 924\n",
      "\n",
      "Total Supply: 180\n",
      "Total Demand: 180\n",
      "\n",
      "Iterations: 924\n",
      "\n",
      "Total Supply: 180\n",
      "Total Demand: 180\n",
      "\n",
      "Iterations: 924\n",
      "\n",
      "Total Supply: 180\n",
      "Total Demand: 180\n",
      "\n",
      "Iterations: 924\n",
      "\n",
      "Total Supply: 180\n",
      "Total Demand: 180\n",
      "\n",
      "Iterations: 924\n",
      "\n",
      "Total Supply: 180\n",
      "Total Demand: 180\n",
      "\n",
      "Iterations: 924\n",
      "\n",
      "Total Supply: 180\n",
      "Total Demand: 180\n",
      "\n",
      "Iterations: 924\n",
      "\n",
      "Total Supply: 180\n",
      "Total Demand: 180\n",
      "\n",
      "Iterations: 924\n",
      "\n",
      "Total Supply: 180\n",
      "Total Demand: 180\n",
      "\n",
      "Iterations: 924\n",
      "\n",
      "Total Supply: 180\n",
      "Total Demand: 180\n",
      "\n",
      "Iterations: 924\n",
      "\n",
      "Total Supply: 180\n",
      "Total Demand: 180\n",
      "\n",
      "Iterations: 924\n",
      "\n",
      "Total Supply: 180\n",
      "Total Demand: 180\n",
      "\n",
      "Iterations: 924\n",
      "\n",
      "Total Supply: 180\n",
      "Total Demand: 180\n",
      "\n",
      "Iterations: 924\n",
      "\n",
      "Total Supply: 180\n",
      "Total Demand: 180\n",
      "\n",
      "Iterations: 924\n",
      "\n",
      "Total Supply: 180\n",
      "Total Demand: 180\n",
      "\n",
      "Iterations: 924\n",
      "\n",
      "Total Supply: 180\n",
      "Total Demand: 180\n",
      "\n",
      "Iterations: 924\n",
      "\n",
      "Total Supply: 180\n",
      "Total Demand: 180\n",
      "\n",
      "Iterations: 924\n",
      "\n",
      "Total Supply: 180\n",
      "Total Demand: 180\n",
      "\n",
      "Iterations: 924\n",
      "\n",
      "Total Supply: 180\n",
      "Total Demand: 180\n",
      "\n",
      "Iterations: 924\n",
      "\n",
      "Total Supply: 180\n",
      "Total Demand: 180\n",
      "\n",
      "Iterations: 924\n",
      "\n",
      "Total Supply: 180\n",
      "Total Demand: 180\n",
      "\n",
      "Iterations: 924\n",
      "\n",
      "Total Supply: 180\n",
      "Total Demand: 180\n",
      "\n",
      "Iterations: 924\n",
      "\n",
      "Total Supply: 180\n",
      "Total Demand: 180\n",
      "\n",
      "Iterations: 924\n",
      "\n",
      "Total Supply: 180\n",
      "Total Demand: 180\n",
      "\n",
      "Iterations: 924\n",
      "\n",
      "Total Supply: 180\n",
      "Total Demand: 180\n",
      "\n",
      "Iterations: 924\n",
      "\n",
      "Total Supply: 180\n",
      "Total Demand: 180\n",
      "\n",
      "Iterations: 924\n",
      "\n",
      "Total Supply: 180\n",
      "Total Demand: 180\n",
      "\n",
      "Iterations: 924\n",
      "\n",
      "Total Supply: 180\n",
      "Total Demand: 180\n",
      "\n",
      "Iterations: 924\n",
      "\n",
      "Total Supply: 180\n",
      "Total Demand: 180\n",
      "\n",
      "Iterations: 924\n",
      "\n",
      "Total Supply: 180\n",
      "Total Demand: 180\n",
      "\n",
      "Iterations: 924\n",
      "\n",
      "Total Supply: 180\n",
      "Total Demand: 180\n",
      "\n",
      "Iterations: 924\n",
      "\n",
      "Total Supply: 180\n",
      "Total Demand: 180\n",
      "\n",
      "Iterations: 924\n",
      "\n",
      "Total Supply: 180\n",
      "Total Demand: 180\n",
      "\n",
      "Iterations: 924\n",
      "\n",
      "Total Supply: 180\n",
      "Total Demand: 180\n",
      "\n",
      "Iterations: 924\n",
      "\n",
      "Total Supply: 180\n",
      "Total Demand: 180\n",
      "\n",
      "Iterations: 924\n",
      "\n",
      "Total Supply: 180\n",
      "Total Demand: 180\n",
      "\n",
      "Iterations: 924\n",
      "\n",
      "Total Supply: 180\n",
      "Total Demand: 180\n",
      "\n",
      "Iterations: 924\n",
      "\n",
      "Total Supply: 180\n",
      "Total Demand: 180\n",
      "\n",
      "Iterations: 924\n",
      "\n",
      "Total Supply: 180\n",
      "Total Demand: 180\n",
      "\n",
      "Iterations: 924\n",
      "\n",
      "Total Supply: 180\n",
      "Total Demand: 180\n",
      "\n",
      "Iterations: 924\n",
      "\n",
      "Total Supply: 180\n",
      "Total Demand: 180\n",
      "\n",
      "Iterations: 924\n",
      "\n",
      "Total Supply: 180\n",
      "Total Demand: 180\n",
      "\n",
      "Iterations: 924\n",
      "\n",
      "Total Supply: 180\n",
      "Total Demand: 180\n",
      "\n",
      "Iterations: 924\n",
      "\n",
      "Total Supply: 180\n",
      "Total Demand: 180\n",
      "\n",
      "Iterations: 924\n",
      "\n",
      "Total Supply: 180\n",
      "Total Demand: 180\n",
      "\n",
      "Iterations: 924\n",
      "\n",
      "Total Supply: 180\n",
      "Total Demand: 180\n",
      "\n",
      "Iterations: 924\n",
      "\n",
      "Total Supply: 180\n",
      "Total Demand: 180\n",
      "\n",
      "Iterations: 924\n",
      "\n",
      "Total Supply: 180\n",
      "Total Demand: 180\n",
      "\n",
      "Iterations: 924\n",
      "\n",
      "Total Supply: 180\n",
      "Total Demand: 180\n",
      "\n",
      "Iterations: 924\n",
      "\n",
      "Total Supply: 180\n",
      "Total Demand: 180\n",
      "\n",
      "Iterations: 924\n",
      "\n",
      "Total Supply: 180\n",
      "Total Demand: 180\n",
      "\n",
      "Iterations: 924\n",
      "\n",
      "Total Supply: 180\n",
      "Total Demand: 180\n",
      "\n",
      "Iterations: 924\n",
      "\n",
      "Total Supply: 180\n",
      "Total Demand: 180\n",
      "\n",
      "Iterations: 924\n",
      "\n",
      "Total Supply: 180\n",
      "Total Demand: 180\n",
      "\n",
      "Iterations: 924\n",
      "\n",
      "Total Supply: 180\n",
      "Total Demand: 180\n",
      "\n",
      "Iterations: 924\n",
      "\n"
     ]
    },
    {
     "data": {
      "text/plain": [
       "Dict{Any,Any} with 3 entries:\n",
       "  \"Cost\"       => -90000.0\n",
       "  \"Value\"      => [0.0, 60.0, 40.0, 20.0, 20.0, 40.0]\n",
       "  \"Basic Pair\" => String[\"x_11\", \"x_12\", \"x_21\", \"x_23\", \"x_24\", \"x_34\"]"
      ]
     },
     "execution_count": 55,
     "metadata": {},
     "output_type": "execute_result"
    }
   ],
   "source": [
    "ex5()"
   ]
  },
  {
   "cell_type": "markdown",
   "metadata": {},
   "source": [
    "_________"
   ]
  },
  {
   "cell_type": "markdown",
   "metadata": {},
   "source": [
    "_________"
   ]
  },
  {
   "cell_type": "markdown",
   "metadata": {},
   "source": [
    "### 6"
   ]
  },
  {
   "cell_type": "code",
   "execution_count": 64,
   "metadata": {
    "collapsed": true
   },
   "outputs": [],
   "source": [
    "ex6_S = [20, 16, 14, 20, 62]\n",
    "ex6_D = [48, 60, 64, 28]\n",
    "M = 10000\n",
    "ex6_C = [400 450 350 copy(M);\n",
    "    1350 copy(M) 750 450;\n",
    "    850 500 900 550;\n",
    "    700 copy(M) 700 900;\n",
    "    450 650 500 1250];"
   ]
  },
  {
   "cell_type": "code",
   "execution_count": 65,
   "metadata": {},
   "outputs": [
    {
     "name": "stdout",
     "output_type": "stream",
     "text": [
      "Total Supply: 132\n",
      "Total Demand: 200\n"
     ]
    },
    {
     "data": {
      "text/plain": [
       "6×4 Array{Float64,2}:\n",
       "  20.0  NaN    NaN    NaN  \n",
       "  16.0  NaN    NaN    NaN  \n",
       "  12.0    2.0  NaN    NaN  \n",
       " NaN     20.0  NaN    NaN  \n",
       " NaN     38.0   24.0  NaN  \n",
       " NaN    NaN     40.0   28.0"
      ]
     },
     "execution_count": 65,
     "metadata": {},
     "output_type": "execute_result"
    }
   ],
   "source": [
    "NCM(ex6_S, ex6_D, ex6_C)"
   ]
  },
  {
   "cell_type": "code",
   "execution_count": 66,
   "metadata": {},
   "outputs": [
    {
     "name": "stdout",
     "output_type": "stream",
     "text": [
      "Total Supply: 132\n",
      "Total Demand: 200\n"
     ]
    },
    {
     "data": {
      "text/plain": [
       "6×4 Array{Float64,2}:\n",
       " NaN    NaN     20.0  NaN  \n",
       " NaN    NaN    NaN     16.0\n",
       " NaN     14.0  NaN    NaN  \n",
       " NaN      8.0  NaN     12.0\n",
       " NaN     18.0   44.0  NaN  \n",
       "  48.0   20.0  NaN    NaN  "
      ]
     },
     "execution_count": 66,
     "metadata": {},
     "output_type": "execute_result"
    }
   ],
   "source": [
    "MCM(ex6_S, ex6_D, ex6_C)"
   ]
  },
  {
   "cell_type": "code",
   "execution_count": 67,
   "metadata": {},
   "outputs": [
    {
     "name": "stdout",
     "output_type": "stream",
     "text": [
      "Total Supply: 132\n",
      "Total Demand: 200\n"
     ]
    },
    {
     "data": {
      "text/plain": [
       "6×4 Array{Float64,2}:\n",
       " NaN    NaN     20.0  NaN  \n",
       " NaN    NaN    NaN     16.0\n",
       " NaN    NaN     10.0    4.0\n",
       " NaN    NaN     20.0  NaN  \n",
       "  48.0  NaN     14.0  NaN  \n",
       " NaN     60.0  NaN      8.0"
      ]
     },
     "execution_count": 67,
     "metadata": {},
     "output_type": "execute_result"
    }
   ],
   "source": [
    "Vogel(ex6_S, ex6_D, ex6_C)"
   ]
  },
  {
   "cell_type": "code",
   "execution_count": 24,
   "metadata": {},
   "outputs": [
    {
     "name": "stdout",
     "output_type": "stream",
     "text": [
      "Total Supply: 132\n",
      "Total Demand: 200\n",
      "\n",
      "Iterations: 1307504\n",
      "\n"
     ]
    }
   ],
   "source": [
    "ex6_sol = GeneralSolver(ex6_S, ex6_D, ex6_C);"
   ]
  },
  {
   "cell_type": "code",
   "execution_count": 25,
   "metadata": {},
   "outputs": [
    {
     "data": {
      "text/plain": [
       "13×2 Array{Any,2}:\n",
       " \"_\"          \"_\"\n",
       " \"Cost\"  63800.0 \n",
       " \"_\"          \"_\"\n",
       " \"x_13\"     20.0 \n",
       " \"x_24\"     16.0 \n",
       " \"x_32\"     14.0 \n",
       " \"x_43\"     20.0 \n",
       " \"x_51\"     48.0 \n",
       " \"x_53\"     14.0 \n",
       " \"x_62\"     46.0 \n",
       " \"x_63\"     10.0 \n",
       " \"x_64\"     12.0 \n",
       " \"_\"          \"_\""
      ]
     },
     "execution_count": 25,
     "metadata": {},
     "output_type": "execute_result"
    }
   ],
   "source": [
    "ex6_sol[2]"
   ]
  },
  {
   "cell_type": "markdown",
   "metadata": {},
   "source": [
    "### 7"
   ]
  },
  {
   "cell_type": "code",
   "execution_count": 99,
   "metadata": {},
   "outputs": [
    {
     "data": {
      "text/plain": [
       "7×3 Array{Float64,2}:\n",
       "    0.0  1000.0   1000.0 \n",
       "   25.0    25.75    26.5 \n",
       "   30.0    30.9     31.8 \n",
       " 1000.0    26.0     26.78\n",
       " 1000.0    32.0     32.96\n",
       " 1000.0  1000.0     29.0 \n",
       " 1000.0  1000.0     37.0 "
      ]
     },
     "execution_count": 99,
     "metadata": {},
     "output_type": "execute_result"
    }
   ],
   "source": [
    "ex7_S = [200, 1000, 500, 800, 400, 400, 200]\n",
    "ex7_D = [400, 600, 2200]\n",
    "M = 1000\n",
    "ex7_C = [0 copy(M) copy(M);\n",
    "    25 25.75 26.5;\n",
    "    30 30.9 31.8;\n",
    "    copy(M) 26 26.78;\n",
    "    copy(M) 32 32.96;\n",
    "    copy(M) copy(M) 29;\n",
    "    copy(M) copy(M) 37]"
   ]
  },
  {
   "cell_type": "code",
   "execution_count": 100,
   "metadata": {},
   "outputs": [
    {
     "name": "stdout",
     "output_type": "stream",
     "text": [
      "Total Supply: 3500\n",
      "Total Demand: 3200\n"
     ]
    },
    {
     "data": {
      "text/plain": [
       "7×4 Array{Float64,2}:\n",
       " 200.0  NaN    NaN    NaN  \n",
       " 200.0  600.0  200.0  NaN  \n",
       " NaN    NaN    500.0  NaN  \n",
       " NaN    NaN    800.0  NaN  \n",
       " NaN    NaN    400.0  NaN  \n",
       " NaN    NaN    300.0  100.0\n",
       " NaN    NaN    NaN    200.0"
      ]
     },
     "execution_count": 100,
     "metadata": {},
     "output_type": "execute_result"
    }
   ],
   "source": [
    "NCM(ex7_S, ex7_D, ex7_C)"
   ]
  },
  {
   "cell_type": "code",
   "execution_count": 101,
   "metadata": {},
   "outputs": [
    {
     "name": "stdout",
     "output_type": "stream",
     "text": [
      "Total Supply: 3500\n",
      "Total Demand: 3200\n"
     ]
    },
    {
     "data": {
      "text/plain": [
       "7×4 Array{Float64,2}:\n",
       " 200.0  NaN    NaN    NaN  \n",
       " 200.0  500.0  NaN    300.0\n",
       " NaN    NaN    500.0  NaN  \n",
       " NaN    100.0  700.0  NaN  \n",
       " NaN    NaN    400.0  NaN  \n",
       " NaN    NaN    400.0  NaN  \n",
       " NaN    NaN    200.0  NaN  "
      ]
     },
     "execution_count": 101,
     "metadata": {},
     "output_type": "execute_result"
    }
   ],
   "source": [
    "MCM(ex7_S, ex7_D, ex7_C)"
   ]
  },
  {
   "cell_type": "code",
   "execution_count": 102,
   "metadata": {},
   "outputs": [
    {
     "name": "stdout",
     "output_type": "stream",
     "text": [
      "Total Supply: 3500\n",
      "Total Demand: 3200\n"
     ]
    },
    {
     "data": {
      "text/plain": [
       "7×4 Array{Float64,2}:\n",
       " 200.0  NaN    NaN    NaN  \n",
       " 200.0  NaN    800.0  NaN  \n",
       " NaN    300.0  200.0  NaN  \n",
       " NaN    NaN    800.0  NaN  \n",
       " NaN    300.0  NaN    100.0\n",
       " NaN    NaN    400.0  NaN  \n",
       " NaN    NaN    NaN    200.0"
      ]
     },
     "execution_count": 102,
     "metadata": {},
     "output_type": "execute_result"
    }
   ],
   "source": [
    "Vogel(ex7_S, ex7_D, ex7_C)"
   ]
  },
  {
   "cell_type": "code",
   "execution_count": 103,
   "metadata": {},
   "outputs": [
    {
     "name": "stdout",
     "output_type": "stream",
     "text": [
      "Total Supply: 3500\n",
      "Total Demand: 3200\n"
     ]
    },
    {
     "ename": "LoadError",
     "evalue": "\u001b[91mInterruptException:\u001b[39m",
     "output_type": "error",
     "traceback": [
      "\u001b[91mInterruptException:\u001b[39m",
      "",
      "Stacktrace:",
      " [1] \u001b[1mtyped_vcat\u001b[22m\u001b[22m\u001b[1m(\u001b[22m\u001b[22m::Type{Float64}, ::Array{Float64,2}, ::RowVector{Float64,Array{Float64,1}}\u001b[1m)\u001b[22m\u001b[22m at \u001b[1m./abstractarray.jl:1144\u001b[22m\u001b[22m",
      " [2] \u001b[1mvcat\u001b[22m\u001b[22m\u001b[1m(\u001b[22m\u001b[22m::Array{Float64,2}, ::RowVector{Float64,Array{Float64,1}}\u001b[1m)\u001b[22m\u001b[22m at \u001b[1m./sparse/sparsevector.jl:996\u001b[22m\u001b[22m",
      " [3] \u001b[1mGeneralSolver\u001b[22m\u001b[22m\u001b[1m(\u001b[22m\u001b[22m::Array{Int64,1}, ::Array{Int64,1}, ::Array{Float64,2}\u001b[1m)\u001b[22m\u001b[22m at \u001b[1m./In[5]:50\u001b[22m\u001b[22m"
     ]
    }
   ],
   "source": [
    "ex7_sol = GeneralSolver(ex7_S, ex7_D, ex7_C);"
   ]
  },
  {
   "cell_type": "code",
   "execution_count": null,
   "metadata": {
    "collapsed": true
   },
   "outputs": [],
   "source": [
    "ex7_sol[1]"
   ]
  },
  {
   "cell_type": "markdown",
   "metadata": {},
   "source": [
    "### 8"
   ]
  },
  {
   "cell_type": "code",
   "execution_count": 26,
   "metadata": {
    "collapsed": true
   },
   "outputs": [],
   "source": [
    "ex8_S = [1, 1, 1, 1]\n",
    "ex8_D = [2, 1, 1, 1]\n",
    "M = 1000; \n",
    "ex8_C = -1000*[85 110 -copy(M) -copy(M);\n",
    "    93 113 125 76; \n",
    "    97 -copy(M) 116 59; \n",
    "    -copy(M) -copy(M) 124 72]';"
   ]
  },
  {
   "cell_type": "code",
   "execution_count": 27,
   "metadata": {},
   "outputs": [
    {
     "name": "stdout",
     "output_type": "stream",
     "text": [
      "Total Supply: 4\n",
      "Total Demand: 5\n"
     ]
    },
    {
     "data": {
      "text/plain": [
       "5×4 Array{Float64,2}:\n",
       "   1.0  NaN    NaN    NaN  \n",
       "   1.0  NaN    NaN    NaN  \n",
       "   0.0    1.0  NaN    NaN  \n",
       " NaN      0.0    1.0  NaN  \n",
       " NaN    NaN      0.0    1.0"
      ]
     },
     "execution_count": 27,
     "metadata": {},
     "output_type": "execute_result"
    }
   ],
   "source": [
    "NCM(ex8_S, ex8_D, ex8_C)"
   ]
  },
  {
   "cell_type": "code",
   "execution_count": 28,
   "metadata": {},
   "outputs": [
    {
     "name": "stdout",
     "output_type": "stream",
     "text": [
      "Total Supply: 4\n",
      "Total Demand: 5\n"
     ]
    },
    {
     "data": {
      "text/plain": [
       "5×4 Array{Float64,2}:\n",
       "   0.0  NaN      1.0  NaN  \n",
       "   1.0    0.0  NaN    NaN  \n",
       " NaN      1.0  NaN    NaN  \n",
       "   0.0  NaN    NaN      1.0\n",
       "   1.0  NaN    NaN    NaN  "
      ]
     },
     "execution_count": 28,
     "metadata": {},
     "output_type": "execute_result"
    }
   ],
   "source": [
    "MCM(ex8_S, ex8_D, ex8_C)"
   ]
  },
  {
   "cell_type": "code",
   "execution_count": 29,
   "metadata": {},
   "outputs": [
    {
     "name": "stdout",
     "output_type": "stream",
     "text": [
      "Total Supply: 4\n",
      "Total Demand: 5\n"
     ]
    },
    {
     "data": {
      "text/plain": [
       "5×4 Array{Float64,2}:\n",
       " NaN    NaN      1.0  NaN  \n",
       "   1.0  NaN    NaN    NaN  \n",
       " NaN    NaN    NaN      1.0\n",
       " NaN      1.0    0.0    0.0\n",
       "   1.0  NaN      0.0  NaN  "
      ]
     },
     "execution_count": 29,
     "metadata": {},
     "output_type": "execute_result"
    }
   ],
   "source": [
    "Vogel(ex8_S, ex8_D, ex8_C)"
   ]
  },
  {
   "cell_type": "code",
   "execution_count": 30,
   "metadata": {},
   "outputs": [
    {
     "name": "stdout",
     "output_type": "stream",
     "text": [
      "Total Supply: 4\n",
      "Total Demand: 5\n",
      "\n",
      "Iterations: 125970\n",
      "\n"
     ]
    }
   ],
   "source": [
    "ex8_sol = GeneralSolver(ex8_S, ex8_D, ex8_C);"
   ]
  },
  {
   "cell_type": "code",
   "execution_count": 31,
   "metadata": {},
   "outputs": [
    {
     "data": {
      "text/plain": [
       "12×2 Array{Any,2}:\n",
       " \"_\"            \"_\"\n",
       " \"Cost\"  -407000.0 \n",
       " \"_\"            \"_\"\n",
       " \"x_11\"        0.0 \n",
       " \"x_12\"        0.0 \n",
       " \"x_13\"        1.0 \n",
       " \"x_14\"        0.0 \n",
       " \"x_21\"        1.0 \n",
       " \"x_34\"        1.0 \n",
       " \"x_42\"        1.0 \n",
       " \"x_51\"        1.0 \n",
       " \"_\"            \"_\""
      ]
     },
     "execution_count": 31,
     "metadata": {},
     "output_type": "execute_result"
    }
   ],
   "source": [
    "ex8_sol[2]"
   ]
  },
  {
   "cell_type": "markdown",
   "metadata": {},
   "source": [
    "### 9"
   ]
  },
  {
   "cell_type": "code",
   "execution_count": 44,
   "metadata": {},
   "outputs": [
    {
     "data": {
      "text/plain": [
       "4×3 Array{Int64,2}:\n",
       " 6  15  68\n",
       " 3  10  67\n",
       " 0  12  70\n",
       " 0  10  65"
      ]
     },
     "execution_count": 44,
     "metadata": {},
     "output_type": "execute_result"
    }
   ],
   "source": [
    "ex9_S = [24/4, 4/4, 8/4, 4/4]\n",
    "ex9_D = [20/4, 12/4, 8/2]\n",
    "ex9_C = [6 15 68; 3 10 67; 0 12 70; 0 10 65]"
   ]
  },
  {
   "cell_type": "code",
   "execution_count": 45,
   "metadata": {},
   "outputs": [
    {
     "name": "stdout",
     "output_type": "stream",
     "text": [
      "Total Supply: 10.0\n",
      "Total Demand: 12.0\n"
     ]
    },
    {
     "data": {
      "text/plain": [
       "5×3 Array{Float64,2}:\n",
       "   5.0    1.0  NaN  \n",
       " NaN      1.0  NaN  \n",
       " NaN      1.0    1.0\n",
       " NaN    NaN      1.0\n",
       " NaN    NaN      2.0"
      ]
     },
     "execution_count": 45,
     "metadata": {},
     "output_type": "execute_result"
    }
   ],
   "source": [
    "NCM(ex9_S, ex9_D, ex9_C)"
   ]
  },
  {
   "cell_type": "code",
   "execution_count": 47,
   "metadata": {
    "scrolled": true
   },
   "outputs": [
    {
     "name": "stdout",
     "output_type": "stream",
     "text": [
      "Total Supply: 10.0\n",
      "Total Demand: 12.0\n",
      "\n",
      "Iterations: 6435\n",
      "\n"
     ]
    },
    {
     "data": {
      "text/plain": [
       "Dict{Any,Any} with 3 entries:\n",
       "  \"Cost\"       => 188.0\n",
       "  \"Value\"      => [2.0, 2.0, 2.0, 1.0, 2.0, 1.0, 2.0]\n",
       "  \"Basic Pair\" => String[\"x_11\", \"x_12\", \"x_13\", \"x_22\", \"x_31\", \"x_41\", \"x_53\"]"
      ]
     },
     "execution_count": 47,
     "metadata": {},
     "output_type": "execute_result"
    }
   ],
   "source": [
    "ex9_sol = GeneralSolver(ex9_S, ex9_D, ex9_C)[1]"
   ]
  },
  {
   "cell_type": "markdown",
   "metadata": {},
   "source": [
    "<br>\n",
    "\n",
    "- - -\n",
    "\n",
    "<br>\n",
    "\n",
    "# Triangularization"
   ]
  },
  {
   "cell_type": "code",
   "execution_count": 32,
   "metadata": {},
   "outputs": [
    {
     "data": {
      "text/plain": [
       "make_triang (generic function with 1 method)"
      ]
     },
     "execution_count": 32,
     "metadata": {},
     "output_type": "execute_result"
    }
   ],
   "source": [
    "function make_triang(in_A)\n",
    "    \n",
    "    A = float(copy(in_A))\n",
    "    \n",
    "    m, n = size(A)\n",
    "    left_vec = fill(NaN, m, 1)\n",
    "    down_vec = fill(NaN, 1, n)\n",
    "    \n",
    "    counter = 0\n",
    "    while count(.!isnan.(A)) > 0\n",
    "        for i in 1:m\n",
    "            if count(A[i,:] .!= 0) - count(isnan.(A[i,:])) == 1 \n",
    "                counter += 1\n",
    "                j = indmax(abs.(A[i,:]))\n",
    "                down_vec[j] = counter\n",
    "                left_vec[i] = counter\n",
    "                A[i,:] .= NaN\n",
    "                A[:,j] .= NaN\n",
    "                break\n",
    "            elseif count(A[i,:] .== 0) == count(.!isnan.(A[i,:])) && count(A[i,:] .== 0) > 0\n",
    "                counter += 1\n",
    "                j = indmax(abs.(A[i,:]))\n",
    "                down_vec[j] = counter\n",
    "                left_vec[i] = counter\n",
    "                A[i,:] .= NaN\n",
    "                A[:,j] .= NaN\n",
    "                break                \n",
    "            end\n",
    "        end\n",
    "    end\n",
    "    \n",
    "    for (index_i, i) in enumerate(left_vec), (index_j, j) in enumerate(down_vec)\n",
    "        A[Int(i), Int(j)] = in_A[index_i, index_j]\n",
    "    end\n",
    "                                \n",
    "    return A\n",
    "end"
   ]
  },
  {
   "cell_type": "code",
   "execution_count": 33,
   "metadata": {},
   "outputs": [
    {
     "data": {
      "text/plain": [
       "5×5 Array{Int64,2}:\n",
       " 4  2  3  2  0\n",
       " 0  2  0  0  0\n",
       " 0  4  3  2  0\n",
       " 1  4  5  0  0\n",
       " 2  2  0  0  0"
      ]
     },
     "execution_count": 33,
     "metadata": {},
     "output_type": "execute_result"
    }
   ],
   "source": [
    "mat = [4 2 3 2 0; 0 2 0 0 0; 0 4 3 2 0; 1 4 5 0 0; 2 2 0 0 0]"
   ]
  },
  {
   "cell_type": "code",
   "execution_count": 34,
   "metadata": {
    "scrolled": false
   },
   "outputs": [
    {
     "data": {
      "text/plain": [
       "5×5 Array{Float64,2}:\n",
       " 2.0  0.0  0.0  0.0  0.0\n",
       " 2.0  2.0  0.0  0.0  0.0\n",
       " 4.0  1.0  5.0  0.0  0.0\n",
       " 2.0  4.0  3.0  2.0  0.0\n",
       " 4.0  0.0  3.0  2.0  0.0"
      ]
     },
     "execution_count": 34,
     "metadata": {},
     "output_type": "execute_result"
    }
   ],
   "source": [
    "make_triang(mat)"
   ]
  },
  {
   "cell_type": "code",
   "execution_count": 35,
   "metadata": {},
   "outputs": [
    {
     "data": {
      "text/plain": [
       "6×6 Array{Int64,2}:\n",
       " 1  2  0  1  0  2\n",
       " 4  1  0  5  0  0\n",
       " 0  0  0  4  0  0\n",
       " 2  1  7  2  1  3\n",
       " 2  3  2  0  0  3\n",
       " 0  2  0  1  0  0"
      ]
     },
     "execution_count": 35,
     "metadata": {},
     "output_type": "execute_result"
    }
   ],
   "source": [
    "ex_mat = [1 2 0 1 0 2; 4 1 0 5 0 0; 0 0 0 4 0 0; 2 1 7 2 1 3; 2 3 2 0 0 3; 0 2 0 1 0 0]"
   ]
  },
  {
   "cell_type": "code",
   "execution_count": 36,
   "metadata": {
    "scrolled": true
   },
   "outputs": [
    {
     "data": {
      "text/plain": [
       "6×6 Array{Float64,2}:\n",
       " 4.0  0.0  0.0  0.0  0.0  0.0\n",
       " 1.0  2.0  0.0  0.0  0.0  0.0\n",
       " 5.0  1.0  4.0  0.0  0.0  0.0\n",
       " 1.0  2.0  1.0  2.0  0.0  0.0\n",
       " 0.0  3.0  2.0  3.0  2.0  0.0\n",
       " 2.0  1.0  2.0  3.0  7.0  1.0"
      ]
     },
     "execution_count": 36,
     "metadata": {},
     "output_type": "execute_result"
    }
   ],
   "source": [
    "make_triang(ex_mat)"
   ]
  },
  {
   "cell_type": "code",
   "execution_count": 37,
   "metadata": {},
   "outputs": [
    {
     "data": {
      "text/plain": [
       "3×3 Array{Float64,2}:\n",
       " 0.0  0.0  0.0\n",
       " 0.0  0.0  0.0\n",
       " 0.0  0.0  0.0"
      ]
     },
     "execution_count": 37,
     "metadata": {},
     "output_type": "execute_result"
    }
   ],
   "source": [
    "make_triang(zeros(3,3))"
   ]
  },
  {
   "cell_type": "code",
   "execution_count": 38,
   "metadata": {},
   "outputs": [
    {
     "name": "stdout",
     "output_type": "stream",
     "text": [
      "Total Supply: 4\n",
      "Total Demand: 5\n"
     ]
    }
   ],
   "source": [
    "response = Vogel(ex8_S, ex8_D, ex8_C);"
   ]
  },
  {
   "cell_type": "code",
   "execution_count": 39,
   "metadata": {},
   "outputs": [
    {
     "data": {
      "text/plain": [
       "5×4 Array{Float64,2}:\n",
       " NaN    NaN      1.0  NaN  \n",
       "   1.0  NaN    NaN    NaN  \n",
       " NaN    NaN    NaN      1.0\n",
       " NaN      1.0    0.0    0.0\n",
       "   1.0  NaN      0.0  NaN  "
      ]
     },
     "execution_count": 39,
     "metadata": {},
     "output_type": "execute_result"
    }
   ],
   "source": [
    "response"
   ]
  },
  {
   "cell_type": "code",
   "execution_count": 40,
   "metadata": {
    "collapsed": true
   },
   "outputs": [],
   "source": [
    "basis_vec = []\n",
    "basis_order_vec = []\n",
    "for (index, i) in enumerate(vec(response))\n",
    "    if !isnan(i)\n",
    "        push!(basis_vec, i)\n",
    "        push!(basis_order_vec, index)\n",
    "    end\n",
    "end"
   ]
  },
  {
   "cell_type": "code",
   "execution_count": 41,
   "metadata": {},
   "outputs": [
    {
     "data": {
      "text/plain": [
       "8-element Array{Any,1}:\n",
       " 1.0\n",
       " 1.0\n",
       " 1.0\n",
       " 1.0\n",
       " 0.0\n",
       " 0.0\n",
       " 1.0\n",
       " 0.0"
      ]
     },
     "execution_count": 41,
     "metadata": {},
     "output_type": "execute_result"
    }
   ],
   "source": [
    "basis_vec"
   ]
  },
  {
   "cell_type": "code",
   "execution_count": 42,
   "metadata": {},
   "outputs": [
    {
     "data": {
      "text/plain": [
       "8-element Array{Any,1}:\n",
       "  2\n",
       "  5\n",
       "  9\n",
       " 11\n",
       " 14\n",
       " 15\n",
       " 18\n",
       " 19"
      ]
     },
     "execution_count": 42,
     "metadata": {},
     "output_type": "execute_result"
    }
   ],
   "source": [
    "basis_order_vec"
   ]
  },
  {
   "cell_type": "markdown",
   "metadata": {},
   "source": [
    "<br>"
   ]
  }
 ],
 "metadata": {
  "kernelspec": {
   "display_name": "Julia 0.6.2",
   "language": "julia",
   "name": "julia-0.6"
  },
  "language_info": {
   "file_extension": ".jl",
   "mimetype": "application/julia",
   "name": "julia",
   "version": "0.6.2"
  }
 },
 "nbformat": 4,
 "nbformat_minor": 2
}
