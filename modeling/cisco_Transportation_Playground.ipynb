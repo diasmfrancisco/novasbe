{
 "cells": [
  {
   "cell_type": "code",
   "execution_count": 1,
   "metadata": {},
   "outputs": [
    {
     "name": "stderr",
     "output_type": "stream",
     "text": [
      "\u001b[1m\u001b[36mINFO: \u001b[39m\u001b[22m\u001b[36mRecompiling stale cache file /Users/fmcdg/.julia/lib/v0.6/Combinatorics.ji for module Combinatorics.\n",
      "\u001b[39m"
     ]
    }
   ],
   "source": [
    "using Combinatorics"
   ]
  },
  {
   "cell_type": "code",
   "execution_count": 2,
   "metadata": {},
   "outputs": [],
   "source": [
    "ex1_A = [50, 50]\n",
    "ex1_B = [20, 20, 20]\n",
    "ex1_C = [800 700 400; 600 800 500];"
   ]
  },
  {
   "cell_type": "code",
   "execution_count": 3,
   "metadata": {},
   "outputs": [],
   "source": [
    "ex2_A = [10, 10, 20]\n",
    "ex2_B = [15, 10, 5, 10]\n",
    "ex2_C = [4 6 9 2; 5 2 4 8; 7 4 9 12];"
   ]
  },
  {
   "cell_type": "markdown",
   "metadata": {},
   "source": [
    "# Northwest Corner Method"
   ]
  },
  {
   "cell_type": "code",
   "execution_count": 4,
   "metadata": {},
   "outputs": [
    {
     "data": {
      "text/plain": [
       "NCM (generic function with 1 method)"
      ]
     },
     "execution_count": 4,
     "metadata": {},
     "output_type": "execute_result"
    }
   ],
   "source": [
    "function NCM(in_A, in_B, in_C)\n",
    "    A, B, C = copy(in_A), copy(in_B), copy(in_C)\n",
    "    \n",
    "    #compare supply and demand\n",
    "    if sum(A) != sum(B) \n",
    "        B = [B; sum(A)-sum(B)]\n",
    "        C = [C zeros(size(A)[1])]\n",
    "    end\n",
    "    \n",
    "    #get m and n\n",
    "    m, n = size(C)\n",
    "    \n",
    "    #get X vector\n",
    "    X = fill(NaN, m, n)\n",
    "    \n",
    "    #start algorithm\n",
    "    i, j = 1, 1\n",
    "    while count(.!isnan.(X)) < m + n - 1\n",
    "        x = min(A[i], B[j])\n",
    "        X[i,j] = x\n",
    "        if x == A[i]\n",
    "            i += 1\n",
    "            B[j] -= x\n",
    "        else\n",
    "            j += 1\n",
    "            A[i] -= x\n",
    "        end\n",
    "    end\n",
    "    \n",
    "    return X\n",
    "end"
   ]
  },
  {
   "cell_type": "code",
   "execution_count": 5,
   "metadata": {
    "scrolled": true
   },
   "outputs": [
    {
     "data": {
      "text/plain": [
       "2×4 Array{Float64,2}:\n",
       "  20.0   20.0  10.0  NaN  \n",
       " NaN    NaN    10.0   40.0"
      ]
     },
     "execution_count": 5,
     "metadata": {},
     "output_type": "execute_result"
    }
   ],
   "source": [
    "NCM(ex1_A, ex1_B, ex1_C)"
   ]
  },
  {
   "cell_type": "code",
   "execution_count": 6,
   "metadata": {},
   "outputs": [
    {
     "data": {
      "text/plain": [
       "3×4 Array{Float64,2}:\n",
       "  10.0  NaN    NaN    NaN  \n",
       "   5.0    5.0  NaN    NaN  \n",
       " NaN      5.0    5.0   10.0"
      ]
     },
     "execution_count": 6,
     "metadata": {},
     "output_type": "execute_result"
    }
   ],
   "source": [
    "NCM(ex2_A, ex2_B, ex2_C)"
   ]
  },
  {
   "cell_type": "markdown",
   "metadata": {},
   "source": [
    "# Minimum-Cost Method"
   ]
  },
  {
   "cell_type": "code",
   "execution_count": 7,
   "metadata": {},
   "outputs": [
    {
     "data": {
      "text/plain": [
       "MCM (generic function with 1 method)"
      ]
     },
     "execution_count": 7,
     "metadata": {},
     "output_type": "execute_result"
    }
   ],
   "source": [
    "function MCM(in_A, in_B, in_C)\n",
    "    A, B, C = copy(float(in_A)), copy(float(in_B)), copy(float(in_C))\n",
    "    \n",
    "    #compare supply and demand\n",
    "    if sum(A) != sum(B) \n",
    "        B = [B; sum(A)-sum(B)]\n",
    "        C = [C zeros(size(A)[1])]\n",
    "    end\n",
    "    \n",
    "    #get m and n\n",
    "    m, n = size(C)\n",
    "    \n",
    "    #get X vector\n",
    "    X = fill(NaN, m, n)\n",
    "    \n",
    "    #start algorithm\n",
    "    while count(.!isnan.(X)) < m + n - 1\n",
    "        #get min cost\n",
    "        i, j = ind2sub(size(C),indmin(C))\n",
    "        \n",
    "        #get entry value\n",
    "        x = min(A[i], B[j])\n",
    "        X[i,j] = x\n",
    "        \n",
    "        #adjust supply/demand remaining and remove min cost\n",
    "        if x == A[i]\n",
    "            B[j] -= x\n",
    "            C[i,:] .= NaN \n",
    "        else\n",
    "            A[i] -= x\n",
    "            C[:,j] .= NaN \n",
    "        end\n",
    "    end\n",
    "    \n",
    "    return X\n",
    "end"
   ]
  },
  {
   "cell_type": "code",
   "execution_count": 8,
   "metadata": {},
   "outputs": [
    {
     "data": {
      "text/plain": [
       "2×4 Array{Float64,2}:\n",
       " NaN    NaN    10.0   40.0\n",
       "  20.0   20.0  10.0  NaN  "
      ]
     },
     "execution_count": 8,
     "metadata": {},
     "output_type": "execute_result"
    }
   ],
   "source": [
    "MCM(ex1_A, ex1_B, ex1_C)"
   ]
  },
  {
   "cell_type": "code",
   "execution_count": 9,
   "metadata": {},
   "outputs": [
    {
     "data": {
      "text/plain": [
       "3×4 Array{Float64,2}:\n",
       " NaN    NaN    NaN     10.0\n",
       " NaN     10.0  NaN    NaN  \n",
       "  15.0    0.0    5.0    0.0"
      ]
     },
     "execution_count": 9,
     "metadata": {},
     "output_type": "execute_result"
    }
   ],
   "source": [
    "MCM(ex2_A, ex2_B, ex2_C)"
   ]
  },
  {
   "cell_type": "markdown",
   "metadata": {},
   "source": [
    "# Vogel Method"
   ]
  },
  {
   "cell_type": "code",
   "execution_count": 10,
   "metadata": {},
   "outputs": [
    {
     "data": {
      "text/plain": [
       "Vogel (generic function with 1 method)"
      ]
     },
     "execution_count": 10,
     "metadata": {},
     "output_type": "execute_result"
    }
   ],
   "source": [
    "function Vogel(in_A, in_B, in_C)\n",
    "    A, B, C = copy(float(in_A)), copy(float(in_B)), copy(float(in_C))\n",
    "    \n",
    "    #compare supply and demand\n",
    "    if sum(A) != sum(B) \n",
    "        B = [B; sum(A)-sum(B)]\n",
    "        C = [C zeros(size(A)[1])]\n",
    "    end\n",
    "    \n",
    "    #get m and n\n",
    "    m, n = size(C)\n",
    "    \n",
    "    #get X vector\n",
    "    X = fill(NaN, m, n)\n",
    "    \n",
    "    #start algorithm\n",
    "    while count(.!isnan.(X)) < m + n - 1\n",
    "        \n",
    "        r_dif = sort(C, 2)[:,2]-sort(C, 2)[:,1]\n",
    "        d_dif = sort(C, 1)[2,:]-sort(C, 1)[1,:]\n",
    "        \n",
    "        if count(.!isnan.(r_dif)) >= 1 && count(.!isnan.(d_dif)) >= 1\n",
    "            if findmax(r_dif)[1] >= findmax(d_dif)[1]\n",
    "                i = indmax(r_dif)\n",
    "                j = indmin(C[i,:])\n",
    "            else\n",
    "                j = indmax(d_dif)\n",
    "                i = indmin(C[:,j])\n",
    "            end\n",
    "        elseif count(.!isnan.(r_dif)) == 0 && count(.!isnan.(d_dif)) >= 1\n",
    "            j = indmax(d_dif)\n",
    "            i = indmin(C[:,j])\n",
    "        elseif count(.!isnan.(d_dif)) == 0 && count(.!isnan.(r_dif)) >= 1\n",
    "            i = indmax(r_dif)\n",
    "            j = indmin(C[i,:])\n",
    "        else\n",
    "            i, j = ind2sub(size(C),indmin(C))\n",
    "        end\n",
    "\n",
    "        #get entry value\n",
    "        x = min(A[i], B[j])\n",
    "        X[i,j] = x\n",
    "        \n",
    "        #adjust supply/demand remaining and remove min cost\n",
    "        if x == A[i]\n",
    "            A[i] -= x \n",
    "            B[j] -= x\n",
    "            C[i,:] .= NaN \n",
    "        else\n",
    "            A[i] -= x\n",
    "            B[j] -= x\n",
    "            C[:,j] .= NaN \n",
    "        end\n",
    "    end\n",
    "    \n",
    "    return X\n",
    "end"
   ]
  },
  {
   "cell_type": "code",
   "execution_count": 11,
   "metadata": {},
   "outputs": [
    {
     "data": {
      "text/plain": [
       "2×4 Array{Float64,2}:\n",
       " 10.0   20.0   20.0  NaN  \n",
       " 10.0  NaN    NaN     40.0"
      ]
     },
     "execution_count": 11,
     "metadata": {},
     "output_type": "execute_result"
    }
   ],
   "source": [
    "Vogel(ex1_A, ex1_B, ex1_C)"
   ]
  },
  {
   "cell_type": "code",
   "execution_count": 12,
   "metadata": {
    "scrolled": false
   },
   "outputs": [
    {
     "data": {
      "text/plain": [
       "3×4 Array{Float64,2}:\n",
       " NaN    NaN    NaN     10.0\n",
       " NaN      5.0    5.0    0.0\n",
       "  15.0    5.0  NaN    NaN  "
      ]
     },
     "execution_count": 12,
     "metadata": {},
     "output_type": "execute_result"
    }
   ],
   "source": [
    "Vogel(ex2_A, ex2_B, ex2_C)"
   ]
  },
  {
   "cell_type": "markdown",
   "metadata": {},
   "source": [
    "# General Solver"
   ]
  },
  {
   "cell_type": "code",
   "execution_count": 61,
   "metadata": {},
   "outputs": [
    {
     "data": {
      "text/plain": [
       "GeneralSolver (generic function with 1 method)"
      ]
     },
     "execution_count": 61,
     "metadata": {},
     "output_type": "execute_result"
    }
   ],
   "source": [
    "function GeneralSolver(in_S, in_D, in_C)\n",
    "    S, D, C = copy(in_S), copy(in_D), copy(in_C)\n",
    "    \n",
    "    #compare supply and demand\n",
    "    if sum(S) != sum(D) \n",
    "        D = [D; sum(S)-sum(D)]\n",
    "        C = [C zeros(size(S)[1])]\n",
    "    end\n",
    "    \n",
    "    #get m and n\n",
    "    m, n = size(C)\n",
    "    \n",
    "    #define constraint table\n",
    "    a1 = zeros(0)\n",
    "    a2 = zeros(0)\n",
    "    for i in 1:m\n",
    "        Z = zeros(m,n)\n",
    "        Z[i,:] .= 1\n",
    "        a1 = [a1; Z'] \n",
    "        a2 = [a2; eye(n)]\n",
    "    end\n",
    "    \n",
    "    A = [a1'; a2']\n",
    "    b = [S; D]\n",
    "    c = vec(C')'\n",
    "    \n",
    "    var_names = []\n",
    "    for i in 1:m, j in 1:n\n",
    "        push!(var_names, \"x_$(i)$(j)\")\n",
    "    end\n",
    "    \n",
    "    var_numbers = []\n",
    "    for i in 1:m, j in 1:n\n",
    "        push!(var_numbers, float(\"$(i)$(j)\"))\n",
    "    end\n",
    "    var_numbers = var_numbers'\n",
    "    \n",
    "    A = A[2:end,:]\n",
    "    b = b[2:end]\n",
    "\n",
    "    #output\n",
    "    output = Dict()\n",
    "    \n",
    "    for basic_pair in collect(combinations(1:length(var_names), m+n-1))\n",
    "        \n",
    "        B = zeros(0)\n",
    "        for t in 1:m+n-1 \n",
    "            B = [B; A[:,basic_pair[t]]'] \n",
    "        end\n",
    "        B = B'\n",
    "        \n",
    "        if det(B) != 0\n",
    "            x_B = inv(B)*b\n",
    "            \n",
    "            c_B = zeros(0)\n",
    "            for t in 1:m+n-1 c_B = [c_B; c[basic_pair[t]]] end\n",
    "            \n",
    "            c_B = c_B'\n",
    "            \n",
    "            z = c_B*x_B\n",
    "            \n",
    "            if \"Cost\" in keys(output)\n",
    "                if output[\"Cost\"] > z && sum(abs.(x_B)) == sum(x_B)\n",
    "                    output[\"Cost\"] = z\n",
    "                    \n",
    "                    basis = zeros(0) #collecting var names as opposed to entry numbers\n",
    "                    for item in basic_pair\n",
    "                        basis = [basis; var_numbers[item]]\n",
    "                    end\n",
    "                    \n",
    "                    output[\"Basic Variables\"] = basis\n",
    "\n",
    "                    output[\"Amounts\"] = x_B\n",
    "                end\n",
    "            else\n",
    "                if sum(abs.(x_B)) == sum(x_B)\n",
    "                    output[\"Cost\"] = z\n",
    "                \n",
    "                    basis = zeros(0) #collecting var names as opposed to entry numbers\n",
    "                    for item in basic_pair\n",
    "                        basis = [basis; var_numbers[item]]\n",
    "                    end\n",
    "                        \n",
    "                    output[\"Basic Variables\"] = basis\n",
    "                    output[\"Amounts\"] = x_B\n",
    "                end\n",
    "            end\n",
    "                      \n",
    "        end\n",
    "    end\n",
    "    \n",
    "    return output\n",
    "end"
   ]
  },
  {
   "cell_type": "code",
   "execution_count": 62,
   "metadata": {},
   "outputs": [
    {
     "data": {
      "text/plain": [
       "Dict{Any,Any} with 3 entries:\n",
       "  \"Cost\"            => 175.0\n",
       "  \"Basic Variables\" => [11.0, 14.0, 21.0, 23.0, 31.0, 32.0]\n",
       "  \"Amounts\"         => [0.0, 10.0, 5.0, 5.0, 10.0, 10.0]"
      ]
     },
     "execution_count": 62,
     "metadata": {},
     "output_type": "execute_result"
    }
   ],
   "source": [
    "GeneralSolver(ex2_A, ex2_B, ex2_C)"
   ]
  },
  {
   "cell_type": "code",
   "execution_count": 63,
   "metadata": {},
   "outputs": [
    {
     "data": {
      "text/plain": [
       "Dict{Any,Any} with 3 entries:\n",
       "  \"Cost\"            => 34000.0\n",
       "  \"Basic Variables\" => [12.0, 13.0, 14.0, 21.0, 24.0]\n",
       "  \"Amounts\"         => [20.0, 20.0, 10.0, 20.0, 30.0]"
      ]
     },
     "execution_count": 63,
     "metadata": {},
     "output_type": "execute_result"
    }
   ],
   "source": [
    "GeneralSolver(ex1_A, ex1_B, ex1_C)"
   ]
  },
  {
   "cell_type": "markdown",
   "metadata": {},
   "source": [
    "<br>"
   ]
  }
 ],
 "metadata": {
  "kernelspec": {
   "display_name": "Julia 0.6.2",
   "language": "julia",
   "name": "julia-0.6"
  },
  "language_info": {
   "file_extension": ".jl",
   "mimetype": "application/julia",
   "name": "julia",
   "version": "0.6.2"
  }
 },
 "nbformat": 4,
 "nbformat_minor": 2
}
