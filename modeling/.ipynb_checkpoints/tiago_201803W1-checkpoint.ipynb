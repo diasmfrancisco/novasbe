{
 "cells": [
  {
   "cell_type": "code",
   "execution_count": 1,
   "metadata": {
    "collapsed": true
   },
   "outputs": [],
   "source": [
    "using Combinatorics"
   ]
  },
  {
   "cell_type": "markdown",
   "metadata": {},
   "source": [
    "# Initial Setup"
   ]
  },
  {
   "cell_type": "markdown",
   "metadata": {},
   "source": [
    "__ Problem Statement __"
   ]
  },
  {
   "cell_type": "markdown",
   "metadata": {},
   "source": [
    "\\begin{equation*}\n",
    "\\begin{aligned}\n",
    "& \\underset{\\textbf{x}}{\\text{Max}}\n",
    "& & z = \\textbf{cx} \\\\\n",
    "& \\text{subject to}\n",
    "& & \\textbf{Ax} = \\textbf{b}, \\\\\n",
    "&&& \\textbf{x} \\geq \\textbf{0}.\n",
    "\\end{aligned}\n",
    "\\end{equation*}"
   ]
  },
  {
   "cell_type": "markdown",
   "metadata": {},
   "source": [
    "\n",
    "Where:"
   ]
  },
  {
   "cell_type": "markdown",
   "metadata": {},
   "source": [
    "$$ \\textbf{c} =\n",
    "\\begin{bmatrix}\n",
    "    c_{1} & c_{2} & \\dots  & c_{n} \\\\\n",
    "\\end{bmatrix}\n",
    ", \\quad \\textbf{x} =\n",
    "\\begin{bmatrix}\n",
    "    x_{1}  \\\\\n",
    "    x_{2}  \\\\\n",
    "    \\vdots \\\\\n",
    "    x_{n} \n",
    "\\end{bmatrix}\n",
    ", \\quad \\textbf{b} =\n",
    "\\begin{bmatrix}\n",
    "    0  \\\\\n",
    "    0  \\\\\n",
    "    \\vdots \\\\\n",
    "    0 \n",
    "\\end{bmatrix}\n",
    ", \\quad \\textbf{A} =\n",
    "\\begin{bmatrix}\n",
    "    a_{11} & a_{12} & \\dots  & a_{1n} \\\\\n",
    "    a_{21} & a_{22} & \\dots  & a_{2n} \\\\\n",
    "    \\vdots & \\vdots & \\ddots & \\vdots \\\\\n",
    "    a_{m1} & a_{m2} & \\dots  & a_{mn}\n",
    "\\end{bmatrix}\n",
    "$$"
   ]
  },
  {
   "cell_type": "markdown",
   "metadata": {},
   "source": [
    "__________"
   ]
  },
  {
   "cell_type": "markdown",
   "metadata": {},
   "source": [
    "_ Class Example _"
   ]
  },
  {
   "cell_type": "markdown",
   "metadata": {},
   "source": [
    "$$ \\begin{equation*}\n",
    "\\begin{aligned}\n",
    "& \\underset{x_1, x_2}{\\text{Max}}\n",
    "& & z = x_1 + x_2 \\\\\n",
    "& \\text{subject to}\n",
    "& & 2x_1 + x_2 \\leq 2, \\\\\n",
    "&&& x_1 + 2x_2 \\leq 2, \\\\\n",
    "&&& x_1, x_2 \\geq 0.\n",
    "\\end{aligned}\n",
    "\\end{equation*}\n",
    "$$"
   ]
  },
  {
   "cell_type": "markdown",
   "metadata": {},
   "source": [
    "Stated as:"
   ]
  },
  {
   "cell_type": "markdown",
   "metadata": {},
   "source": [
    "$$ \\begin{equation*}\n",
    "\\begin{aligned}\n",
    "& \\underset{x_1, x_2}{\\text{Max}}\n",
    "& & z = 1\\cdot x_1 +1 \\cdot x_2 \\\\\n",
    "& \\text{subject to}\n",
    "& & 2x_1 + x_2 + s_1 = 2, \\\\\n",
    "&&& x_1 + 2x_2 +s_2 = 2, \\\\\n",
    "&&& x_1, x_2, s_1, s_2 \\geq 0.\n",
    "\\end{aligned}\n",
    "\\end{equation*}\n",
    "$$"
   ]
  },
  {
   "cell_type": "markdown",
   "metadata": {},
   "source": [
    "Where:"
   ]
  },
  {
   "cell_type": "markdown",
   "metadata": {},
   "source": [
    "$$ \\textbf{c} =\n",
    "\\begin{bmatrix}\n",
    "    1 & 1\n",
    "\\end{bmatrix}\n",
    ", \\quad \\textbf{x} =\n",
    "\\begin{bmatrix}\n",
    "    x_{1}  \\\\\n",
    "    x_{2}\n",
    "\\end{bmatrix}\n",
    ", \\quad \\textbf{b} =\n",
    "\\begin{bmatrix}\n",
    "    2  \\\\\n",
    "    2  \n",
    "\\end{bmatrix}\n",
    ", \\quad \\textbf{A} =\n",
    "\\begin{bmatrix}\n",
    "    2 & 1 & 1  & 0 \\\\\n",
    "    1 & 2 & 0  & 1\n",
    "\\end{bmatrix}\n",
    "$$"
   ]
  },
  {
   "cell_type": "markdown",
   "metadata": {},
   "source": [
    "__________"
   ]
  },
  {
   "cell_type": "markdown",
   "metadata": {},
   "source": [
    "# Basic and Nonbasic Setup"
   ]
  },
  {
   "cell_type": "markdown",
   "metadata": {},
   "source": [
    "$$\\begin{equation*}\n",
    "\\begin{aligned}\n",
    "& \\underset{\\textbf{x}_B, \\textbf{x}_D}{\\text{Max}}\n",
    "& & z = \\textbf{c}_B \\textbf{x}_B+\\textbf{c}_D \\textbf{x}_D \\\\\n",
    "& \\text{subject to}\n",
    "& & \\textbf{B}\\textbf{x}_B +\\textbf{D}\\textbf{x}_D = \\textbf{b}, \\\\\n",
    "&&& \\textbf{x}_B, \\textbf{x}_D \\geq \\textbf{0}.\n",
    "\\end{aligned}\n",
    "\\end{equation*}$$"
   ]
  },
  {
   "cell_type": "markdown",
   "metadata": {},
   "source": [
    "Where:"
   ]
  },
  {
   "cell_type": "markdown",
   "metadata": {},
   "source": [
    "$$ \\textbf{x}_B \\quad \\text{is the basic variables vector} \\\\ \\textbf{x}_D \\quad \\text{is the nonbasic variables vector}$$"
   ]
  },
  {
   "cell_type": "markdown",
   "metadata": {},
   "source": [
    "__ For a Basic Feasible solution: __"
   ]
  },
  {
   "cell_type": "markdown",
   "metadata": {},
   "source": [
    "$$ \\textbf{x}_D = \\textbf{0} \\quad \\Rightarrow \\quad \\textbf{x}_B = \\textbf{B}^{-1}\\textbf{b} \\quad \\textbf{and} \\quad z = \\textbf{c}_B \\textbf{B}^{-1} \\textbf{b}$$"
   ]
  },
  {
   "cell_type": "markdown",
   "metadata": {},
   "source": [
    "__________"
   ]
  },
  {
   "cell_type": "markdown",
   "metadata": {},
   "source": [
    "## _ Class Example _"
   ]
  },
  {
   "cell_type": "markdown",
   "metadata": {},
   "source": [
    "### Starting with the slack variables as the basic variables:"
   ]
  },
  {
   "cell_type": "markdown",
   "metadata": {},
   "source": [
    "$$ \\textbf{x}_D = \n",
    "\\begin{bmatrix}\n",
    "    x_{1}  \\\\\n",
    "    x_{2}\n",
    "\\end{bmatrix} \n",
    "= \n",
    "\\begin{bmatrix}\n",
    "    0 \\\\\n",
    "    0\n",
    "\\end{bmatrix}\n",
    ", \\quad \n",
    "\\textbf{x}_B =\n",
    "\\begin{bmatrix}\n",
    "    s_{1}  \\\\\n",
    "    s_{2}\n",
    "\\end{bmatrix} \n",
    "$$"
   ]
  },
  {
   "cell_type": "markdown",
   "metadata": {},
   "source": [
    "$$ \\textbf{A} =\n",
    "\\begin{bmatrix}\n",
    "    \\textbf{D} & \\textbf{B}\n",
    "\\end{bmatrix}\n",
    ", \\quad \\textbf{D} =\n",
    "\\begin{bmatrix}\n",
    "    2 & 1 \\\\\n",
    "    1 & 2\n",
    "\\end{bmatrix}\n",
    ", \\quad \\textbf{B} =\n",
    "\\begin{bmatrix}\n",
    "    1 & 0 \\\\\n",
    "    0 & 1   \n",
    "\\end{bmatrix}\n",
    "$$"
   ]
  },
  {
   "cell_type": "markdown",
   "metadata": {},
   "source": [
    "__ Let us calculate $\\textbf{x}_B = \\textbf{B}^{-1}\\textbf{b}$ :__"
   ]
  },
  {
   "cell_type": "code",
   "execution_count": 2,
   "metadata": {},
   "outputs": [
    {
     "data": {
      "text/plain": [
       "2-element Array{Float64,1}:\n",
       " 2.0\n",
       " 2.0"
      ]
     },
     "execution_count": 2,
     "metadata": {},
     "output_type": "execute_result"
    }
   ],
   "source": [
    "B = eye(2); b = [2;2];\n",
    "x_B = inv(B)*b"
   ]
  },
  {
   "cell_type": "markdown",
   "metadata": {},
   "source": [
    "__ And $ z = \\textbf{c}_B \\textbf{B}^{-1} \\textbf{b} $ : __"
   ]
  },
  {
   "cell_type": "code",
   "execution_count": 3,
   "metadata": {},
   "outputs": [
    {
     "data": {
      "text/plain": [
       "1-element Array{Float64,1}:\n",
       " 0.0"
      ]
     },
     "execution_count": 3,
     "metadata": {},
     "output_type": "execute_result"
    }
   ],
   "source": [
    "c_B = [0 0];\n",
    "z = c_B*inv(B)*b"
   ]
  },
  {
   "cell_type": "markdown",
   "metadata": {},
   "source": [
    "### Changing the slack variables to the nonbasic variables:"
   ]
  },
  {
   "cell_type": "markdown",
   "metadata": {},
   "source": [
    "$$ \\textbf{x}_D = \n",
    "\\begin{bmatrix}\n",
    "    s_{1}  \\\\\n",
    "    s_{2}\n",
    "\\end{bmatrix} \n",
    "= \n",
    "\\begin{bmatrix}\n",
    "    0 \\\\\n",
    "    0\n",
    "\\end{bmatrix}\n",
    ", \\quad \n",
    "\\textbf{x}_B =\n",
    "\\begin{bmatrix}\n",
    "    x_{1}  \\\\\n",
    "    x_{2}\n",
    "\\end{bmatrix} \n",
    "$$"
   ]
  },
  {
   "cell_type": "markdown",
   "metadata": {},
   "source": [
    "$$ \\textbf{A} =\n",
    "\\begin{bmatrix}\n",
    "    \\textbf{B} & \\textbf{D}\n",
    "\\end{bmatrix}\n",
    ", \\quad \\textbf{B} =\n",
    "\\begin{bmatrix}\n",
    "    2 & 1 \\\\\n",
    "    1 & 2\n",
    "\\end{bmatrix}\n",
    ", \\quad \\textbf{D} =\n",
    "\\begin{bmatrix}\n",
    "    1 & 0 \\\\\n",
    "    0 & 1   \n",
    "\\end{bmatrix}\n",
    "$$"
   ]
  },
  {
   "cell_type": "markdown",
   "metadata": {},
   "source": [
    "__ Let us calculate $\\textbf{x}_B = \\textbf{B}^{-1}\\textbf{b}$ :__"
   ]
  },
  {
   "cell_type": "code",
   "execution_count": 4,
   "metadata": {},
   "outputs": [
    {
     "data": {
      "text/plain": [
       "2-element Array{Float64,1}:\n",
       " 0.666667\n",
       " 0.666667"
      ]
     },
     "execution_count": 4,
     "metadata": {},
     "output_type": "execute_result"
    }
   ],
   "source": [
    "B = [2 1; 1 2]; b = [2;2];\n",
    "x_B = inv(B)*b"
   ]
  },
  {
   "cell_type": "markdown",
   "metadata": {},
   "source": [
    "__ And $ z = \\textbf{c}_B \\textbf{B}^{-1} \\textbf{b} $ : __"
   ]
  },
  {
   "cell_type": "code",
   "execution_count": 5,
   "metadata": {},
   "outputs": [
    {
     "data": {
      "text/plain": [
       "1-element Array{Float64,1}:\n",
       " 1.33333"
      ]
     },
     "execution_count": 5,
     "metadata": {},
     "output_type": "execute_result"
    }
   ],
   "source": [
    "c_B = [1 1];\n",
    "z = c_B*inv(B)*b"
   ]
  },
  {
   "cell_type": "markdown",
   "metadata": {},
   "source": [
    "# 20180309 Practical"
   ]
  },
  {
   "cell_type": "code",
   "execution_count": 6,
   "metadata": {},
   "outputs": [
    {
     "data": {
      "text/plain": [
       "Combination_Results_C3 (generic function with 1 method)"
      ]
     },
     "execution_count": 6,
     "metadata": {},
     "output_type": "execute_result"
    }
   ],
   "source": [
    "function Combination_Results_C3(basic_pair)\n",
    "    B = [A[:,basic_pair[1]] A[:,basic_pair[2]] A[:,basic_pair[3]]]\n",
    "    if det(B) != 0 \n",
    "        x_B = inv(B)*b\n",
    "        c_B = [c[basic_pair[1]] c[basic_pair[2]] c[basic_pair[3]]]\n",
    "        z = c_B*x_B\n",
    "        if x_B[1] >= 0 && x_B[2] >= 0 && x_B[3] >= 0  \n",
    "            println(\"Basic Variables: (\", variables[basic_pair[1]], \", \", variables[basic_pair[2]], \", \", variables[basic_pair[3]],\") = (\", round(x_B[1],2), \", \", round(x_B[2],2), \", \", round(x_B[3],2),\"). Objective: z = \", round(z[1],2), \".\")\n",
    "        end\n",
    "    end\n",
    "end"
   ]
  },
  {
   "cell_type": "markdown",
   "metadata": {},
   "source": [
    "## Homework"
   ]
  },
  {
   "cell_type": "markdown",
   "metadata": {},
   "source": [
    "$$ \\begin{equation*}\n",
    "\\begin{aligned}\n",
    "& \\underset{x_1, x_2, x_3}{\\text{Max}}\n",
    "& & z = 3x_1 + x_2 + 3x_3 \\\\\n",
    "& \\text{subject to}\n",
    "& & 2x_1 + 2x_2 + x_3 \\leq 30, \\\\\n",
    "&&& x_1 + 2x_2 + 3x_3 \\leq 25, \\\\\n",
    "&&& 2x_1 + x_2 + x_3 \\leq 20, \\\\\n",
    "&&& x_1, x_2, x_3 \\geq 0.\n",
    "\\end{aligned}\n",
    "\\end{equation*}\n",
    "$$"
   ]
  },
  {
   "cell_type": "markdown",
   "metadata": {},
   "source": [
    "### Checking all combinations:"
   ]
  },
  {
   "cell_type": "code",
   "execution_count": 7,
   "metadata": {
    "scrolled": true
   },
   "outputs": [
    {
     "name": "stdout",
     "output_type": "stream",
     "text": [
      "Basic Variables: (x_1, x_2, s_1) = (5.0, 10.0, 0.0). Objective: z = 25.0.\n",
      "Basic Variables: (x_1, x_2, s_2) = (5.0, 10.0, 0.0). Objective: z = 25.0.\n",
      "Basic Variables: (x_1, x_2, s_3) = (5.0, 10.0, 0.0). Objective: z = 25.0.\n",
      "Basic Variables: (x_1, x_3, s_1) = (7.0, 6.0, 10.0). Objective: z = 39.0.\n",
      "Basic Variables: (x_1, s_1, s_2) = (10.0, 10.0, 15.0). Objective: z = 30.0.\n",
      "Basic Variables: (x_2, s_1, s_3) = (12.5, 5.0, 7.5). Objective: z = 12.5.\n",
      "Basic Variables: (x_3, s_1, s_3) = (8.33, 21.67, 11.67). Objective: z = 25.0.\n",
      "Basic Variables: (s_1, s_2, s_3) = (30.0, 25.0, 20.0). Objective: z = 0.0.\n"
     ]
    }
   ],
   "source": [
    "# Exercise information\n",
    "variables = [\"x_1\", \"x_2\", \"x_3\", \"s_1\", \"s_2\", \"s_3\"]\n",
    "A = [2 2 1 1 0 0; 1 2 3 0 1 0; 2 1 1 0 0 1]\n",
    "b = [30; 25; 20]\n",
    "c = [3 1 3 0 0 0]\n",
    "\n",
    "# Results\n",
    "for basic_variable in collect(combinations(1:length(variables), 3))\n",
    "    Combination_Results_C3(basic_variable)\n",
    "end"
   ]
  },
  {
   "cell_type": "markdown",
   "metadata": {},
   "source": [
    "## W1E20c"
   ]
  },
  {
   "cell_type": "markdown",
   "metadata": {},
   "source": [
    "$$ \\begin{equation*}\n",
    "\\begin{aligned}\n",
    "& \\underset{x_1, x_2, x_3, x_4, x_5, x_6}{\\text{Max}}\n",
    "& & z = x_1 - 2x_2 + x_3 + x_4 + x_5 - x_6 \\\\\n",
    "& \\text{subject to}\n",
    "& & x_1 + x_4 + 6x_6 = 9, \\\\\n",
    "&&& 3x_1 + x_2 - 4x_3 = 2, \\\\\n",
    "&&& x_1 + 2x_3 + x_5 + 2x_6 = 9, \\\\\n",
    "&&& x_1, x_2, x_3, x_4, x_5, x_6 \\geq 0.\n",
    "\\end{aligned}\n",
    "\\end{equation*}\n",
    "$$"
   ]
  },
  {
   "cell_type": "code",
   "execution_count": 8,
   "metadata": {},
   "outputs": [
    {
     "name": "stdout",
     "output_type": "stream",
     "text": [
      "Basic Variables: (x_1, x_3, x_4) = (5.43, 1.79, 3.57). Objective: z = 10.79.\n",
      "Basic Variables: (x_1, x_3, x_6) = (0.67, 2.78, 1.39). Objective: z = 2.06.\n",
      "Basic Variables: (x_1, x_4, x_5) = (5.43, 3.57, 3.57). Objective: z = 12.57.\n",
      "Basic Variables: (x_1, x_5, x_6) = (0.67, 5.56, 1.39). Objective: z = 4.83.\n",
      "Basic Variables: (x_2, x_3, x_4) = (38.0, 4.5, 9.0). Objective: z = -62.5.\n",
      "Basic Variables: (x_2, x_3, x_6) = (2.0, 3.0, 1.5). Objective: z = -2.5.\n",
      "Basic Variables: (x_2, x_4, x_5) = (38.0, 9.0, 9.0). Objective: z = -58.0.\n",
      "Basic Variables: (x_2, x_5, x_6) = (2.0, 6.0, 1.5). Objective: z = 0.5.\n"
     ]
    }
   ],
   "source": [
    "# Exercise information\n",
    "variables = [\"x_1\", \"x_2\", \"x_3\", \"x_4\", \"x_5\", \"x_6\"]\n",
    "A = [1 0 0 1 0 6; 3 1 0 -4 0 0; 1 0 2 0 1 2]\n",
    "b = [9; 2; 9]\n",
    "c = [1 -2 1 1 1 -1]\n",
    "\n",
    "# Results\n",
    "for basic_variable in collect(combinations(1:length(variables), 3))\n",
    "    Combination_Results_C3(basic_variable)\n",
    "end"
   ]
  },
  {
   "cell_type": "markdown",
   "metadata": {},
   "source": [
    "## W1E20f"
   ]
  },
  {
   "cell_type": "markdown",
   "metadata": {},
   "source": [
    "$$ \\begin{equation*}\n",
    "\\begin{aligned}\n",
    "& \\underset{x_1, x_2, x_3}{\\text{Max}}\n",
    "& & z = 4x_1 + 2x_2 + 3x_3\\\\\n",
    "& \\text{subject to}\n",
    "& & x_1 - 2x_2 + x_3 \\leq 5, \\\\\n",
    "&&& 2x_1 + 3x_2 - x_3 = 2, \\\\\n",
    "&&& x_1 - 5x_2 + 3x_3 \\geq 3, \\\\\n",
    "&&& x_1, x_2, x_3 \\geq 0.\n",
    "\\end{aligned}\n",
    "\\end{equation*}\n",
    "$$"
   ]
  },
  {
   "cell_type": "code",
   "execution_count": 9,
   "metadata": {},
   "outputs": [
    {
     "name": "stdout",
     "output_type": "stream",
     "text": [
      "Basic Variables: (x_1, x_3, s_1) = (1.29, 0.57, 3.14). Objective: z = 6.86.\n",
      "Basic Variables: (x_1, x_3, s_3) = (2.33, 2.67, 7.33). Objective: z = 17.33.\n",
      "Basic Variables: (x_2, x_3, s_1) = (2.25, 4.75, 4.75). Objective: z = 18.75.\n",
      "Basic Variables: (x_2, x_3, s_3) = (7.0, 19.0, 19.0). Objective: z = 71.0.\n"
     ]
    }
   ],
   "source": [
    "# Exercise information\n",
    "variables = [\"x_1\", \"x_2\", \"x_3\", \"s_1\", \"s_3\"]\n",
    "A = [1 -2 1 1 0; 2 3 -1 0 0; 1 -5 3 0 -1]\n",
    "b = [5; 2; 3]\n",
    "c = [4 2 3 0 0]\n",
    "\n",
    "# Results\n",
    "for basic_variable in collect(combinations(1:length(variables), 3))\n",
    "    Combination_Results_C3(basic_variable)\n",
    "end"
   ]
  },
  {
   "cell_type": "markdown",
   "metadata": {},
   "source": [
    "<br>"
   ]
  }
 ],
 "metadata": {
  "kernelspec": {
   "display_name": "Julia 0.6.2",
   "language": "julia",
   "name": "julia-0.6"
  },
  "language_info": {
   "file_extension": ".jl",
   "mimetype": "application/julia",
   "name": "julia",
   "version": "0.6.2"
  }
 },
 "nbformat": 4,
 "nbformat_minor": 2
}
