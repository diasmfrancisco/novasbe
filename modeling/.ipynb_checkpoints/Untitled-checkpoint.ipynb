{
 "cells": [
  {
   "cell_type": "code",
   "execution_count": null,
   "metadata": {},
   "outputs": [],
   "source": []
  },
  {
   "cell_type": "markdown",
   "metadata": {},
   "source": [
    "$\\LARGE \\textsf{The Simplex Method in Matrix Form}$"
   ]
  },
  {
   "cell_type": "markdown",
   "metadata": {},
   "source": [
    "For the _original set_ of equations, the matrix form is:"
   ]
  },
  {
   "cell_type": "markdown",
   "metadata": {},
   "source": [
    "$$\\begin{bmatrix} 1 & \\mathbf{-c} & \\mathbf{0} \\\\ \\mathbf{0} & \\mathbf{A} & \\mathbf{I} \\\\ \\end{bmatrix}\n",
    "\\begin{bmatrix} Z \\\\ \\mathbf{x} \\\\ \\mathbf{x_s} \\end{bmatrix}\n",
    "=\n",
    "\\begin{bmatrix} 0 \\\\ \\mathbf{b} \\end{bmatrix} $$"
   ]
  },
  {
   "cell_type": "markdown",
   "metadata": {},
   "source": [
    "Given that after any iteration, $\\mathbf{x_B} = \\mathbf{B^{-1}b}$ and $Z = \\mathbf{c_BB^{-1}b}$, we also know that the LHS of the new set of equations has become:"
   ]
  },
  {
   "cell_type": "markdown",
   "metadata": {},
   "source": [
    "$$\n",
    "\\begin{bmatrix} Z \\\\ \\mathbf{x_B} \\end{bmatrix}\n",
    "=\n",
    "\\begin{bmatrix} \\mathbf{c_BB^{-1}b} \\\\ \\mathbf{B^{-1}b} \\end{bmatrix}\n",
    "=\n",
    "\\begin{bmatrix} 1 & \\mathbf{c_BB^{-1}} \\\\ \\mathbf{0} & \\mathbf{B^{-1}} \\end{bmatrix}\n",
    "\\begin{bmatrix} 0 \\\\ \\mathbf{b} \\end{bmatrix}\n",
    "$$"
   ]
  },
  {
   "cell_type": "markdown",
   "metadata": {},
   "source": [
    "Thus, we premultiply both sides as such:"
   ]
  },
  {
   "cell_type": "markdown",
   "metadata": {},
   "source": [
    "$$\n",
    "\\begin{bmatrix} 1 & \\mathbf{c_BB^{-1}} \\\\ \\mathbf{0} & \\mathbf{B^{-1}} \\end{bmatrix}\n",
    "\\times\n",
    "\\begin{bmatrix} 1 & \\mathbf{-c} & \\mathbf{0} \\\\ \\mathbf{0} & \\mathbf{A} & \\mathbf{I} \\\\ \\end{bmatrix}\n",
    "\\begin{bmatrix} Z \\\\ \\mathbf{x} \\\\ \\mathbf{x_s} \\end{bmatrix}\n",
    "=\n",
    "\\begin{bmatrix} 1 & \\mathbf{c_BB^{-1}} \\\\ \\mathbf{0} & \\mathbf{B^{-1}} \\end{bmatrix}\n",
    "\\times\n",
    "\\begin{bmatrix} 0 \\\\ \\mathbf{b} \\end{bmatrix}\n",
    "$$"
   ]
  },
  {
   "cell_type": "markdown",
   "metadata": {},
   "source": [
    "To get the  desired matrix form of the set of equations after any iteration:"
   ]
  },
  {
   "cell_type": "markdown",
   "metadata": {},
   "source": [
    "$$\n",
    "\\begin{bmatrix} 1 & \\mathbf{-c} + \\mathbf{c_BB^{-1}A} & \\mathbf{c_BB^{-1}} \\\\ \\mathbf{0} & \\mathbf{B^{-1}A} & \\mathbf{B^{-1}} \\end{bmatrix}\n",
    "\\times\n",
    "\\begin{bmatrix} Z \\\\ \\mathbf{x} \\\\ \\mathbf{x_s} \\end{bmatrix}\n",
    "=\n",
    "\\begin{bmatrix} \\mathbf{c_BB^{-1}b} \\\\ \\mathbf{B^{-1}b} \\end{bmatrix}\n",
    "$$"
   ]
  },
  {
   "cell_type": "markdown",
   "metadata": {},
   "source": [
    "<br>"
   ]
  },
  {
   "cell_type": "markdown",
   "metadata": {},
   "source": [
    "$\\LARGE \\textsf{A Fundamental Insight}$"
   ]
  },
  {
   "cell_type": "markdown",
   "metadata": {},
   "source": []
  },
  {
   "cell_type": "markdown",
   "metadata": {},
   "source": []
  },
  {
   "cell_type": "code",
   "execution_count": null,
   "metadata": {},
   "outputs": [],
   "source": []
  },
  {
   "cell_type": "code",
   "execution_count": null,
   "metadata": {},
   "outputs": [],
   "source": []
  },
  {
   "cell_type": "code",
   "execution_count": null,
   "metadata": {},
   "outputs": [],
   "source": []
  }
 ],
 "metadata": {
  "kernelspec": {
   "display_name": "Julia 0.6.2",
   "language": "julia",
   "name": "julia-0.6"
  },
  "language_info": {
   "file_extension": ".jl",
   "mimetype": "application/julia",
   "name": "julia",
   "version": "0.6.2"
  }
 },
 "nbformat": 4,
 "nbformat_minor": 2
}
