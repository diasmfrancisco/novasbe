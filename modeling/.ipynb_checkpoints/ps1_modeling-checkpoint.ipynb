{
 "cells": [
  {
   "cell_type": "markdown",
   "metadata": {},
   "source": [
    "<br>\n",
    "\n",
    "$\\LARGE \\textsf{PS1 - Modelling & Optimization}$"
   ]
  },
  {
   "cell_type": "markdown",
   "metadata": {},
   "source": [
    "<br>\n",
    "\n",
    "---\n",
    "\n",
    "$\\large \\textsf{EXERCISE 4.}$  \n",
    "\n",
    "Consider the linear programming problem in the standard maximization form, with 3 variables and 3 constraints, denoted by the following matrices:\n",
    "\n",
    "$$\n",
    "A = \\begin{bmatrix}\n",
    "0 & 1 & 5 \\\\\n",
    "1 & 2 & 0 \\\\\n",
    "1 & 1 & -2 \\\\\n",
    "\\end{bmatrix},\n",
    "\\quad\n",
    "b = \\begin{bmatrix}\n",
    "5 \\\\\n",
    "2 \\\\\n",
    "1 \\\\\n",
    "\\end{bmatrix},\n",
    "\\quad\n",
    "c = \\begin{bmatrix}\n",
    "3 & 4 & 10 \\\\\n",
    "\\end{bmatrix}\n",
    "$$\n",
    "\n",
    "The following simplex tableau is associated with the optimal solution for the problem. Answer every question in regard to this tableau/solution, showing all your computations.\n",
    "\n",
    "| Max || x1 | x2 | x3 | s1 | s2 | s3 |  \n",
    "| :-: | :-: | :-: | :-: | :-: | :-: | :-: | :-: |  \n",
    "| z | 16 | 0 | 4 | 0 | 2 | 3 | 0 |  \n",
    "| x3 | 1 | 0 | $\\frac{1}{5}$ | 1 | $\\frac{1}{5}$ | 0 | 0 |  \n",
    "| x1 | 2 | 1 | 2 | 0 | 0 | 1 | 0 |  \n",
    "| s3 | 1 | 0 | $\\frac{-3}{5}$ | 0 | $\\frac{2}{5}$ | -1 | 1 |  "
   ]
  },
  {
   "cell_type": "markdown",
   "metadata": {},
   "source": [
    "<br> \n",
    "\n",
    "> $\\small \\textsf{PART A.}$ Show that the basic solution associated to this tableau is optimal, indicating the basic and non-basic variables, their respective values and the optimal value for the problem. Write the $B$ and $B ^ {−1}$ matrices."
   ]
  },
  {
   "cell_type": "code",
   "execution_count": 2,
   "metadata": {},
   "outputs": [
    {
     "data": {
      "text/plain": [
       "3×3 Array{Int64,2}:\n",
       "  5  0  0\n",
       "  0  1  0\n",
       " -2  1  1"
      ]
     },
     "execution_count": 2,
     "metadata": {},
     "output_type": "execute_result"
    }
   ],
   "source": [
    "# B1, i.e. the first Basis Matrix, given by original tableau's columns for x3, x1, and s3, respectively\n",
    "B1 = [5 0 0; 0 1 0; -2 1 1]"
   ]
  },
  {
   "cell_type": "code",
   "execution_count": 4,
   "metadata": {},
   "outputs": [
    {
     "data": {
      "text/plain": [
       "3×3 Array{Float64,2}:\n",
       " 0.2   0.0  0.0\n",
       " 0.0   1.0  0.0\n",
       " 0.4  -1.0  1.0"
      ]
     },
     "execution_count": 4,
     "metadata": {},
     "output_type": "execute_result"
    }
   ],
   "source": [
    "# The inverse of this basis matrix is indicated by columns for s1, s2, and s3 for rows 1, 2, and 3\n",
    "B1_inv = [1/5 0 0; 0 1 0; 2/5 -1 1]"
   ]
  },
  {
   "cell_type": "code",
   "execution_count": 5,
   "metadata": {},
   "outputs": [
    {
     "data": {
      "text/plain": [
       "true"
      ]
     },
     "execution_count": 5,
     "metadata": {},
     "output_type": "execute_result"
    }
   ],
   "source": [
    "# Note that:\n",
    "B1_inv == inv(B1)"
   ]
  },
  {
   "cell_type": "markdown",
   "metadata": {},
   "source": [
    "Given that this is a maximization problem and that all reduced costs are non-negative and the RHS is non-negative, the basic solution is, respectively, optimal and feasible."
   ]
  },
  {
   "cell_type": "markdown",
   "metadata": {},
   "source": [
    "Therefore, the basic feasible solution is given by:\n",
    "\n",
    "$$ BFS = (2, 0, 1, 0, 0, 1) \\ \\textrm{where} \\ z_0 = 16 $$"
   ]
  },
  {
   "cell_type": "code",
   "execution_count": 11,
   "metadata": {},
   "outputs": [
    {
     "data": {
      "text/plain": [
       "1×1 Array{Float64,2}:\n",
       " 16.0"
      ]
     },
     "execution_count": 11,
     "metadata": {},
     "output_type": "execute_result"
    }
   ],
   "source": [
    "# z0 is given by y*b = c_bv * Bˆ{-1} * b\n",
    "y0 = [10 3 0] * B1_inv\n",
    "b0 = [5 2 1]'\n",
    "z0 = y0 * b0"
   ]
  },
  {
   "cell_type": "markdown",
   "metadata": {},
   "source": [
    "The respective matrices $B_0$ and $B_0ˆ{-1}$ are:\n",
    "\n",
    "$$\n",
    "B = \\begin{bmatrix}\n",
    "5 & 0 & 0 \\\\\n",
    "0 & 1 & 0 \\\\\n",
    "-2 & 1 & 1 \\\\\n",
    "\\end{bmatrix},\n",
    "\\quad\n",
    "B ^ {-1} = \\begin{bmatrix}\n",
    "\\frac{1}{5} & 0 & 0 \\\\\n",
    "0 & 1 & 0 \\\\\n",
    "\\frac{2}{5} & -1 & 1 \\\\\n",
    "\\end{bmatrix}\n",
    "$$"
   ]
  },
  {
   "cell_type": "markdown",
   "metadata": {},
   "source": [
    "<br>"
   ]
  },
  {
   "cell_type": "markdown",
   "metadata": {},
   "source": [
    "---\n",
    "\n",
    "**c.** Consider a change in the right hand side of the second constraint from 2 to 4. How does this affect the current solution? If pertinent, find the new optimal value and/or solution."
   ]
  },
  {
   "cell_type": "markdown",
   "metadata": {},
   "source": [
    "<br>"
   ]
  },
  {
   "cell_type": "markdown",
   "metadata": {},
   "source": [
    "Changes to RHS do not affect R0 of the tableau. They affect the feasibility of the BFS. To understand whether this is the case or not, we want to get the new RHS after performing EROs given by the $B ^{-1}$ matrix.\n",
    "\n"
   ]
  },
  {
   "cell_type": "code",
   "execution_count": 4,
   "metadata": {},
   "outputs": [
    {
     "data": {
      "text/plain": [
       "3×3 Array{Int64,2}:\n",
       "  5  0  0\n",
       "  0  1  0\n",
       " -2  1  1"
      ]
     },
     "execution_count": 4,
     "metadata": {},
     "output_type": "execute_result"
    }
   ],
   "source": [
    "B0 = [5 0 0; 0 1 0; -2 1 1]"
   ]
  },
  {
   "cell_type": "code",
   "execution_count": 5,
   "metadata": {},
   "outputs": [
    {
     "data": {
      "text/plain": [
       "3×3 Array{Float64,2}:\n",
       " 0.2   0.0  0.0\n",
       " 0.0   1.0  0.0\n",
       " 0.4  -1.0  1.0"
      ]
     },
     "execution_count": 5,
     "metadata": {},
     "output_type": "execute_result"
    }
   ],
   "source": [
    "invB0 = inv(B0)"
   ]
  },
  {
   "cell_type": "code",
   "execution_count": 6,
   "metadata": {},
   "outputs": [
    {
     "data": {
      "text/plain": [
       "3-element Array{Int64,1}:\n",
       " 5\n",
       " 4\n",
       " 1"
      ]
     },
     "execution_count": 6,
     "metadata": {},
     "output_type": "execute_result"
    }
   ],
   "source": [
    "b0 = [5; 2; 1]\n",
    "b1 = [5; 4; 1]"
   ]
  },
  {
   "cell_type": "code",
   "execution_count": 7,
   "metadata": {},
   "outputs": [
    {
     "data": {
      "text/plain": [
       "3-element Array{Float64,1}:\n",
       "  1.0\n",
       "  4.0\n",
       " -1.0"
      ]
     },
     "execution_count": 7,
     "metadata": {},
     "output_type": "execute_result"
    }
   ],
   "source": [
    "invB0 * b1"
   ]
  },
  {
   "cell_type": "markdown",
   "metadata": {},
   "source": [
    "As can be seen from above,\n",
    "\n",
    "$$\n",
    "B ^ {-1} \\overline{b}\n",
    "=\n",
    "\\begin{bmatrix}\n",
    "\\frac{1}{5} & 0 & 0 \\\\\n",
    "0 & 1 & 0 \\\\\n",
    "\\frac{2}{5} & -1 & 1 \\\\\n",
    "\\end{bmatrix}\n",
    "\\times\n",
    "\\begin{bmatrix}\n",
    "5 \\\\\n",
    "4 \\\\\n",
    "1 \\\\\n",
    "\\end{bmatrix}\n",
    "=\n",
    "\\begin{bmatrix}\n",
    "1 \\\\\n",
    "4 \\\\\n",
    "-1 \\\\\n",
    "\\end{bmatrix}\n",
    "\\quad \\Longrightarrow \\quad\n",
    "\\textit{primal basic solution is no longer feasible}\n",
    "$$"
   ]
  },
  {
   "cell_type": "code",
   "execution_count": 9,
   "metadata": {},
   "outputs": [
    {
     "data": {
      "text/plain": [
       "1-element Array{Float64,1}:\n",
       " 16.0"
      ]
     },
     "execution_count": 9,
     "metadata": {},
     "output_type": "execute_result"
    }
   ],
   "source": [
    "# Affect on current solution is given by Z = c_bv * Bˆ-1 * b\n",
    "\n",
    "Z0 = [10 3 0] * invB0 * b0"
   ]
  },
  {
   "cell_type": "code",
   "execution_count": 10,
   "metadata": {},
   "outputs": [
    {
     "data": {
      "text/plain": [
       "1-element Array{Float64,1}:\n",
       " 22.0"
      ]
     },
     "execution_count": 10,
     "metadata": {},
     "output_type": "execute_result"
    }
   ],
   "source": [
    "Z0 = [10 3 0] * invB0 * b1"
   ]
  },
  {
   "cell_type": "markdown",
   "metadata": {},
   "source": [
    "The variable that will leave the basis is $s_3$. We must look across our tableau for a minimum ratio test between the reduced costs and negative values in the respect of columns. \n",
    "\n",
    "| Max || x1 | x2 | x3 | s1 | **s2** | s3 |  \n",
    "| :-: | :-: | :-: | :-: | :-: | :-: | :-: | :-: |  \n",
    "| z | 16 | 0 | 4 | 0 | 2 | 3 | 0 |  \n",
    "| x3 | 1 | 0 | $\\frac{1}{5}$ | 1 | $\\frac{1}{5}$ | 0 | 0 |  \n",
    "| x1 | 4 | 1 | 2 | 0 | 0 | 1 | 0 |  \n",
    "| **s3** | -1 | 0 | $\\frac{-3}{5}$ | 0 | $\\frac{2}{5}$ | **-1** | 1 |  \n",
    "\n",
    "\n",
    "As such, our entering variable will be $s_2$.\n",
    "\n",
    "The old basis was:\n",
    "\n",
    "$$\n",
    "B_0 = \\begin{bmatrix}\n",
    "5 & 0 & 0 \\\\\n",
    "0 & 1 & 0 \\\\\n",
    "-2 & 1 & 1 \\\\\n",
    "\\end{bmatrix},\n",
    "\\quad\n",
    "\\textrm{where}\n",
    "\\quad\n",
    "B_0 ^ {-1} = \\begin{bmatrix}\n",
    "\\frac{1}{5} & 0 & 0 \\\\\n",
    "0 & 1 & 0 \\\\\n",
    "\\frac{2}{5} & -1 & 1 \\\\\n",
    "\\end{bmatrix}\n",
    "$$\n",
    "\n",
    "Versus the new basis:\n",
    "\n",
    "$$\n",
    "B_1 = \\begin{bmatrix}\n",
    "5 & 0 & 0 \\\\\n",
    "0 & 1 & 1 \\\\\n",
    "-2 & 1 & 0 \\\\\n",
    "\\end{bmatrix},\n",
    "\\quad\n",
    "\\textrm{where}\n",
    "\\quad\n",
    "B_1 ^ {-1} = B_0 ^{-1} E_1\n",
    "$$"
   ]
  },
  {
   "cell_type": "code",
   "execution_count": 13,
   "metadata": {},
   "outputs": [
    {
     "data": {
      "text/plain": [
       "3×3 Array{Int64,2}:\n",
       "  5  0  0\n",
       "  0  1  1\n",
       " -2  1  0"
      ]
     },
     "execution_count": 13,
     "metadata": {},
     "output_type": "execute_result"
    }
   ],
   "source": [
    "B1 = [5 0 0; 0 1 1; -2 1 0]"
   ]
  },
  {
   "cell_type": "code",
   "execution_count": 11,
   "metadata": {},
   "outputs": [
    {
     "data": {
      "text/plain": [
       "3-element Array{Float64,1}:\n",
       "  0.0\n",
       "  1.0\n",
       " -1.0"
      ]
     },
     "execution_count": 11,
     "metadata": {},
     "output_type": "execute_result"
    }
   ],
   "source": [
    "invB0 * [0;1;0]"
   ]
  },
  {
   "cell_type": "markdown",
   "metadata": {},
   "source": [
    "Given the elements of the current column for $s_2$ in the tableau, we can find out matrix $E$:\n",
    "\n",
    "$$\n",
    "Mˆ{s_2}\n",
    "=\n",
    "\\begin{bmatrix}\n",
    "a_{11} \\\\\n",
    "a_{21} \\\\\n",
    "a_{31} \\\\\n",
    "\\end{bmatrix}\n",
    "=\n",
    "\\begin{bmatrix}\n",
    "0 \\\\\n",
    "1 \\\\\n",
    "-1 \\\\\n",
    "\\end{bmatrix}\n",
    "\\quad \\Longrightarrow \\quad\n",
    "E_1 = \\begin{bmatrix}\n",
    "0 & 0 & \\frac{-a_{11}}{a_{31}} \\\\\n",
    "0 & 0 & \\frac{-a_{21}}{a_{31}} \\\\\n",
    "0 & 0 & \\frac{a_{31}}{a_{31}} \\\\\n",
    "\\end{bmatrix}\n",
    "=\n",
    "\\begin{bmatrix}\n",
    "0 & 0 & \\frac{-0}{-1} \\\\\n",
    "0 & 0 & \\frac{-1}{-1} \\\\\n",
    "0 & 0 & \\frac{-1}{-1} \\\\\n",
    "\\end{bmatrix}\n",
    "=\n",
    "\\begin{bmatrix}\n",
    "0 & 0 & 0 \\\\\n",
    "0 & 0 & 1 \\\\\n",
    "0 & 0 & 1 \\\\\n",
    "\\end{bmatrix}\n",
    "$$"
   ]
  },
  {
   "cell_type": "code",
   "execution_count": 12,
   "metadata": {},
   "outputs": [
    {
     "data": {
      "text/plain": [
       "3×3 Array{Float64,2}:\n",
       " 0.0  0.0  0.0\n",
       " 0.0  0.0  1.0\n",
       " 0.0  0.0  0.0"
      ]
     },
     "execution_count": 12,
     "metadata": {},
     "output_type": "execute_result"
    }
   ],
   "source": [
    "E1 = [0 0 0; 0 0 1; 0 0 1]\n",
    "invB1 = invB0 * E1"
   ]
  },
  {
   "cell_type": "code",
   "execution_count": 14,
   "metadata": {},
   "outputs": [
    {
     "data": {
      "text/plain": [
       "3×3 Array{Float64,2}:\n",
       "  0.2  -0.0   0.0\n",
       "  0.4   0.0   1.0\n",
       " -0.4   1.0  -1.0"
      ]
     },
     "execution_count": 14,
     "metadata": {},
     "output_type": "execute_result"
    }
   ],
   "source": [
    "#Check\n",
    "inv(B1)"
   ]
  },
  {
   "cell_type": "markdown",
   "metadata": {},
   "source": [
    "Thus:\n",
    "\n",
    "$$\n",
    "B_1 = \\begin{bmatrix}\n",
    "5 & 0 & 0 \\\\\n",
    "0 & 1 & 1 \\\\\n",
    "-2 & 1 & 0 \\\\\n",
    "\\end{bmatrix},\n",
    "\\quad\n",
    "\\textrm{where}\n",
    "\\quad\n",
    "B_1 ^ {-1} = B_0 ^{-1} E_1 =\n",
    "\\begin{bmatrix}\n",
    "\\frac{1}{5} & 0 & 0 \\\\\n",
    "0 & 1 & 0 \\\\\n",
    "\\frac{2}{5} & -1 & 1 \\\\\n",
    "\\end{bmatrix}\n",
    "\\times\n",
    "\\begin{bmatrix}\n",
    "0 & 0 & 0 \\\\\n",
    "0 & 0 & 1 \\\\\n",
    "0 & 0 & 1 \\\\\n",
    "\\end{bmatrix}\n",
    "=\n",
    "$$"
   ]
  },
  {
   "cell_type": "code",
   "execution_count": null,
   "metadata": {
    "collapsed": true
   },
   "outputs": [],
   "source": [
    "B1 = [5 0 0; 0 1 1; -2 1 0]"
   ]
  },
  {
   "cell_type": "code",
   "execution_count": null,
   "metadata": {
    "collapsed": true
   },
   "outputs": [],
   "source": []
  },
  {
   "cell_type": "code",
   "execution_count": null,
   "metadata": {
    "collapsed": true
   },
   "outputs": [],
   "source": []
  },
  {
   "cell_type": "code",
   "execution_count": null,
   "metadata": {
    "collapsed": true
   },
   "outputs": [],
   "source": []
  },
  {
   "cell_type": "code",
   "execution_count": null,
   "metadata": {
    "collapsed": true
   },
   "outputs": [],
   "source": []
  },
  {
   "cell_type": "code",
   "execution_count": null,
   "metadata": {
    "collapsed": true
   },
   "outputs": [],
   "source": []
  },
  {
   "cell_type": "code",
   "execution_count": null,
   "metadata": {
    "collapsed": true
   },
   "outputs": [],
   "source": []
  }
 ],
 "metadata": {
  "kernelspec": {
   "display_name": "Julia 0.6.2",
   "language": "julia",
   "name": "julia-0.6"
  },
  "language_info": {
   "file_extension": ".jl",
   "mimetype": "application/julia",
   "name": "julia",
   "version": "0.6.2"
  }
 },
 "nbformat": 4,
 "nbformat_minor": 2
}
