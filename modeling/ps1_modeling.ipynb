{
 "cells": [
  {
   "cell_type": "markdown",
   "metadata": {},
   "source": [
    "<br>\n",
    "\n",
    "$\\LARGE \\textsf{PS1 - Modelling & Optimization}$"
   ]
  },
  {
   "cell_type": "markdown",
   "metadata": {},
   "source": [
    "<br>\n",
    "\n",
    "---\n",
    "\n",
    "$\\large \\textsf{EXERCISE 4.}$  \n",
    "\n",
    "Consider the linear programming problem in the standard maximization form, with 3 variables and 3 constraints, denoted by the following matrices:\n",
    "\n",
    "$$\n",
    "A = \\begin{bmatrix}\n",
    "0 & 1 & 5 \\\\\n",
    "1 & 2 & 0 \\\\\n",
    "1 & 1 & -2 \\\\\n",
    "\\end{bmatrix},\n",
    "\\quad\n",
    "b = \\begin{bmatrix}\n",
    "5 \\\\\n",
    "2 \\\\\n",
    "1 \\\\\n",
    "\\end{bmatrix},\n",
    "\\quad\n",
    "c = \\begin{bmatrix}\n",
    "3 & 4 & 10 \\\\\n",
    "\\end{bmatrix}\n",
    "$$\n",
    "\n",
    "The following simplex tableau is associated with the optimal solution for the problem. Answer every question in regard to this tableau/solution, showing all your computations.\n",
    "\n",
    "| Max || x1 | x2 | x3 | s1 | s2 | s3 |  \n",
    "| :-: | :-: | :-: | :-: | :-: | :-: | :-: | :-: |  \n",
    "| z | 16 | 0 | 4 | 0 | 2 | 3 | 0 |  \n",
    "| x3 | 1 | 0 | $\\frac{1}{5}$ | 1 | $\\frac{1}{5}$ | 0 | 0 |  \n",
    "| x1 | 2 | 1 | 2 | 0 | 0 | 1 | 0 |  \n",
    "| s3 | 1 | 0 | $\\frac{-3}{5}$ | 0 | $\\frac{2}{5}$ | -1 | 1 |  "
   ]
  },
  {
   "cell_type": "markdown",
   "metadata": {},
   "source": [
    "---\n",
    "\n",
    "<br> \n",
    "\n",
    "> $\\small \\textsf{PART A.}$ Show that the basic solution associated to this tableau is optimal, indicating the basic and non-basic variables, their respective values and the optimal value for the problem. Write the $B$ and $B ^ {−1}$ matrices."
   ]
  },
  {
   "cell_type": "code",
   "execution_count": 1,
   "metadata": {},
   "outputs": [
    {
     "data": {
      "text/plain": [
       "3×3 Array{Int64,2}:\n",
       "  5  0  0\n",
       "  0  1  0\n",
       " -2  1  1"
      ]
     },
     "execution_count": 1,
     "metadata": {},
     "output_type": "execute_result"
    }
   ],
   "source": [
    "# B1, i.e. the first Basis Matrix, given by original tableau's columns for x3, x1, and s3, respectively\n",
    "B1 = [5 0 0; 0 1 0; -2 1 1]"
   ]
  },
  {
   "cell_type": "code",
   "execution_count": 2,
   "metadata": {},
   "outputs": [
    {
     "data": {
      "text/plain": [
       "3×3 Array{Float64,2}:\n",
       " 0.2   0.0  0.0\n",
       " 0.0   1.0  0.0\n",
       " 0.4  -1.0  1.0"
      ]
     },
     "execution_count": 2,
     "metadata": {},
     "output_type": "execute_result"
    }
   ],
   "source": [
    "# The inverse of this basis matrix is indicated by columns for s1, s2, and s3 for rows 1, 2, and 3\n",
    "B1_inv = [1/5 0 0; 0 1 0; 2/5 -1 1]"
   ]
  },
  {
   "cell_type": "code",
   "execution_count": 3,
   "metadata": {},
   "outputs": [
    {
     "data": {
      "text/plain": [
       "true"
      ]
     },
     "execution_count": 3,
     "metadata": {},
     "output_type": "execute_result"
    }
   ],
   "source": [
    "# Note that:\n",
    "B1_inv == inv(B1)"
   ]
  },
  {
   "cell_type": "markdown",
   "metadata": {},
   "source": [
    "Given that this is a maximization problem and that all reduced costs are non-negative and the RHS is non-negative, the basic solution is, respectively, optimal and feasible."
   ]
  },
  {
   "cell_type": "markdown",
   "metadata": {},
   "source": [
    "Therefore, the basic feasible solution is given by:\n",
    "\n",
    "$$ \\textrm{BFS} = (2, 0, 1, 0, 0, 1) \\ \\textrm{where} \\ z = 16 $$"
   ]
  },
  {
   "cell_type": "code",
   "execution_count": 60,
   "metadata": {},
   "outputs": [
    {
     "data": {
      "text/plain": [
       "1×1 Array{Float64,2}:\n",
       " 16.0"
      ]
     },
     "execution_count": 60,
     "metadata": {},
     "output_type": "execute_result"
    }
   ],
   "source": [
    "# z0 is given by y*b = c_bv * Bˆ{-1} * b\n",
    "y1 = [10 3 0] * B1_inv\n",
    "b1 = [5 2 1]'\n",
    "z1 = y1 * b1"
   ]
  },
  {
   "cell_type": "markdown",
   "metadata": {},
   "source": [
    "Thus:\n",
    "\n",
    "$$\n",
    "B_1 = \\begin{bmatrix}\n",
    "5 & 0 & 0 \\\\\n",
    "0 & 1 & 0 \\\\\n",
    "-2 & 1 & 1 \\\\\n",
    "\\end{bmatrix},\n",
    "\\quad\n",
    "B_1 ^ {-1} = \\begin{bmatrix}\n",
    "\\frac{1}{5} & 0 & 0 \\\\\n",
    "0 & 1 & 0 \\\\\n",
    "\\frac{2}{5} & -1 & 1 \\\\\n",
    "\\end{bmatrix}\n",
    "$$"
   ]
  },
  {
   "cell_type": "markdown",
   "metadata": {},
   "source": [
    "<br>"
   ]
  },
  {
   "cell_type": "markdown",
   "metadata": {},
   "source": [
    "---\n",
    "\n",
    "<br> \n",
    "\n",
    "> $\\small \\textsf{PART B.}$ Write the corresponding dual problem and indicate its optimal solution based on the given information (do not solve the dual problem). Show that the Complementary Conditions are satisfied."
   ]
  },
  {
   "cell_type": "markdown",
   "metadata": {},
   "source": [
    "<br>"
   ]
  },
  {
   "cell_type": "markdown",
   "metadata": {},
   "source": [
    "---\n",
    "\n",
    "<br> \n",
    "\n",
    "> $\\small \\textsf{PART C.}$ Consider a change in the right hand side of the second constraint from $2$ to $4$. How does this affect the current solution? If pertinent, find the new optimal value and/or solution."
   ]
  },
  {
   "cell_type": "markdown",
   "metadata": {},
   "source": [
    "Changes to the right-hand side do not affect row zero of the tableau.\n",
    "\n",
    "They may, however, affect the feasibility of the basic feasible solution. To understand whether this is the case or not, we want to get the new RHS after performing EROs given by the $B_1 ^{-1}$ matrix.\n",
    "\n"
   ]
  },
  {
   "cell_type": "code",
   "execution_count": 6,
   "metadata": {},
   "outputs": [
    {
     "data": {
      "text/plain": [
       "3×1 Array{Int64,2}:\n",
       " 5\n",
       " 4\n",
       " 1"
      ]
     },
     "execution_count": 6,
     "metadata": {},
     "output_type": "execute_result"
    }
   ],
   "source": [
    "b2 = [5 4 1]'"
   ]
  },
  {
   "cell_type": "code",
   "execution_count": 9,
   "metadata": {},
   "outputs": [
    {
     "data": {
      "text/plain": [
       "1×1 Array{Float64,2}:\n",
       " 22.0"
      ]
     },
     "execution_count": 9,
     "metadata": {},
     "output_type": "execute_result"
    }
   ],
   "source": [
    "z2 = y1 * b2"
   ]
  },
  {
   "cell_type": "markdown",
   "metadata": {},
   "source": [
    "At this point, we can see that $z_2$ has increased and is now 'super-optimal'. Once primal feasibility is achieved, we will get the optimal $z$ value.\n",
    "\n",
    "Essentially:\n",
    "\n",
    "$$\n",
    "B_1 ^ {-1} \\overline{b}\n",
    "=\n",
    "\\begin{bmatrix}\n",
    "\\frac{1}{5} & 0 & 0 \\\\\n",
    "0 & 1 & 0 \\\\\n",
    "\\frac{2}{5} & -1 & 1 \\\\\n",
    "\\end{bmatrix}\n",
    "\\times\n",
    "\\begin{bmatrix}\n",
    "5 \\\\\n",
    "4 \\\\\n",
    "1 \\\\\n",
    "\\end{bmatrix}\n",
    "=\n",
    "\\begin{bmatrix}\n",
    "1 \\\\\n",
    "4 \\\\\n",
    "-1 \\\\\n",
    "\\end{bmatrix}\n",
    "\\quad \\Longrightarrow \\quad\n",
    "\\textit{primal basic solution is no longer feasible}\n",
    "$$"
   ]
  },
  {
   "cell_type": "code",
   "execution_count": 10,
   "metadata": {},
   "outputs": [
    {
     "data": {
      "text/plain": [
       "3×1 Array{Float64,2}:\n",
       "  1.0\n",
       "  4.0\n",
       " -1.0"
      ]
     },
     "execution_count": 10,
     "metadata": {},
     "output_type": "execute_result"
    }
   ],
   "source": [
    "RHS0 = B1_inv * b1\n",
    "RHS1 = B1_inv * b2"
   ]
  },
  {
   "cell_type": "markdown",
   "metadata": {},
   "source": [
    "We do not have primal feasibility, as mentioned previously. We must perform the dual simplex method in order to regain feasibility. We know at once that the leaving variable will be third element of $\\textit{basis}_1 = \\{ x_3, x_1, s_3 \\}$ - i.e., $s_3$ leaves $\\textit{basis}_1$.\n",
    "\n",
    "But what variable now enters the basis?"
   ]
  },
  {
   "cell_type": "markdown",
   "metadata": {},
   "source": [
    "| Max || x1 | x2 | x3 | s1 | s2 | s3 |  \n",
    "| :-: | :-: | :-: | :-: | :-: | :-: | :-: | :-: |  \n",
    "| z | 16 | 0 | 4 | 0 | 2 | 3 | 0 |  \n",
    "| x3 | 1 | 0 | $\\frac{1}{5}$ | 1 | $\\frac{1}{5}$ | 0 | 0 |  \n",
    "| x1 | 4 | 1 | 2 | 0 | 0 | 1 | 0 |  \n",
    "| s3 | -1 | 0 | $\\frac{-3}{5}$ | 0 | $\\frac{2}{5}$ | -1 | 1 | "
   ]
  },
  {
   "cell_type": "code",
   "execution_count": 11,
   "metadata": {},
   "outputs": [
    {
     "data": {
      "text/plain": [
       "3×3 Array{Int64,2}:\n",
       " 0  1   5\n",
       " 1  2   0\n",
       " 1  1  -2"
      ]
     },
     "execution_count": 11,
     "metadata": {},
     "output_type": "execute_result"
    }
   ],
   "source": [
    "# Defining the original A matrix\n",
    "A = [0 1 5; 1 2 0; 1 1 -2]"
   ]
  },
  {
   "cell_type": "code",
   "execution_count": 23,
   "metadata": {},
   "outputs": [
    {
     "data": {
      "text/plain": [
       "3×6 Array{Float64,2}:\n",
       " 0.0  1.0   5.0  1.0  0.0  0.0\n",
       " 1.0  2.0   0.0  0.0  1.0  0.0\n",
       " 1.0  1.0  -2.0  0.0  0.0  1.0"
      ]
     },
     "execution_count": 23,
     "metadata": {},
     "output_type": "execute_result"
    }
   ],
   "source": [
    "# The original tableau\n",
    "tb1 = [A eye(3,3)]"
   ]
  },
  {
   "cell_type": "code",
   "execution_count": 24,
   "metadata": {},
   "outputs": [
    {
     "data": {
      "text/plain": [
       "3×6 Array{Float64,2}:\n",
       " 0.0   0.2  1.0  0.2   0.0  0.0\n",
       " 1.0   2.0  0.0  0.0   1.0  0.0\n",
       " 0.0  -0.6  0.0  0.4  -1.0  1.0"
      ]
     },
     "execution_count": 24,
     "metadata": {},
     "output_type": "execute_result"
    }
   ],
   "source": [
    "# The current tableau\n",
    "tb2 = B1_inv * tb0"
   ]
  },
  {
   "cell_type": "code",
   "execution_count": 29,
   "metadata": {},
   "outputs": [
    {
     "data": {
      "text/plain": [
       "1×6 Array{Float64,2}:\n",
       " 0.0  4.0  0.0  2.0  3.0  0.0"
      ]
     },
     "execution_count": 29,
     "metadata": {},
     "output_type": "execute_result"
    }
   ],
   "source": [
    "# Row 0 for coefficients in the original tableau\n",
    "all_coeff_1 = [3 4 10 0 0 0]\n",
    "\n",
    "# Row 0 for coefficients in the current tableau\n",
    "all_coeff_2 = y1 * tb1 - all_coeff_1"
   ]
  },
  {
   "cell_type": "code",
   "execution_count": 61,
   "metadata": {},
   "outputs": [
    {
     "data": {
      "text/plain": [
       "2×7 Array{Any,2}:\n",
       "  \"#\"     \"x1\"    \"x2\"       \"x3\"   \"s1\"    \"s2\"   \"s3\"\n",
       " 1.0   NaN      -6.66667  NaN      5.0    -3.0    0.0  "
      ]
     },
     "execution_count": 61,
     "metadata": {},
     "output_type": "execute_result"
    }
   ],
   "source": [
    "# Creating a list with results of min ratio tests for dual simplex method\n",
    "min_ratio_dual = [\"#\" \"x1\" \"x2\" \"x3\" \"s1\" \"s2\" \"s3\" ]\n",
    "iter = 1\n",
    "min_ratio_dual = [min_ratio_dual; iter all_coeff_2 ./ tb2[3,:]']"
   ]
  },
  {
   "cell_type": "markdown",
   "metadata": {},
   "source": [
    "The entering variable is $s_2$, as for the dual min ratio test, the respective column values for the row of the exiting variable must be negative. Out of the set of these negtive values, we look for the minimum - in this case, $-0.15$.\n",
    "\n",
    "As such:"
   ]
  },
  {
   "cell_type": "code",
   "execution_count": 45,
   "metadata": {},
   "outputs": [
    {
     "data": {
      "text/plain": [
       "3-element Array{Float64,1}:\n",
       "  0.2\n",
       "  2.0\n",
       " -0.6"
      ]
     },
     "execution_count": 45,
     "metadata": {},
     "output_type": "execute_result"
    }
   ],
   "source": [
    "B1_inv * A[:,2]"
   ]
  },
  {
   "cell_type": "markdown",
   "metadata": {},
   "source": [
    "$$\n",
    "B_1 ^ {-1}\n",
    "\\times\n",
    "A ^ {x_2}\n",
    "=\n",
    "\\begin{bmatrix}\n",
    "\\frac{1}{5} \\\\\n",
    "2 \\\\\n",
    "\\frac{-3}{5} \\\\\n",
    "\\end{bmatrix}\n",
    "= \\begin{bmatrix}\n",
    "a_{12} \\\\\n",
    "a_{22} \\\\\n",
    "a_{32} \\\\\n",
    "\\end{bmatrix}\n",
    "\\quad \\Longrightarrow \\quad\n",
    "\\textrm{Column for} \\ x_2 \\ \\textrm{in matrix} \\ A\n",
    "$$"
   ]
  },
  {
   "cell_type": "markdown",
   "metadata": {},
   "source": [
    "$$\n",
    "\\begin{aligned}\n",
    "B_2 & = \\begin{bmatrix}\n",
    "5 & 0 & 1 \\\\\n",
    "0 & 1 & 2 \\\\\n",
    "-2 & 1 & 1 \\\\\n",
    "\\end{bmatrix},\n",
    "\\quad\n",
    "B_2 ^ {-1} = E_1 B_1 ^ {-1}\n",
    "& =\n",
    "\\begin{bmatrix}\n",
    "1 &  0 & \\frac{-a_{12}}{a_{32}} \\\\\n",
    "0 & 1  & \\frac{-a_{22}}{a_{32}} \\\\\n",
    "0 &  0 & \\frac{1}{a_{32}} \\\\\n",
    "\\end{bmatrix}\n",
    "\\times\n",
    "\\begin{bmatrix}\n",
    "\\frac{1}{5} & 0 & 0 \\\\\n",
    "0 & 1 & 0 \\\\\n",
    "\\frac{2}{5} & -1 & 1 \\\\\n",
    "\\end{bmatrix}\n",
    "\\\\\n",
    "\\\\\n",
    "&& =\n",
    "\\begin{bmatrix}\n",
    "1 &  0 & \\frac{1}{3} \\\\\n",
    "0 & 1  & \\frac{10}{3} \\\\\n",
    "0 &  0 & \\frac{-5}{3} \\\\\n",
    "\\end{bmatrix}\n",
    "\\times\n",
    "\\begin{bmatrix}\n",
    "\\frac{1}{5} & 0 & 0 \\\\\n",
    "0 & 1 & 0 \\\\\n",
    "\\frac{2}{5} & -1 & 1 \\\\\n",
    "\\end{bmatrix}\n",
    "\\end{aligned}\n",
    "$$"
   ]
  },
  {
   "cell_type": "markdown",
   "metadata": {},
   "source": [
    "<br>\n",
    "\n",
    "As such:\n",
    "\n",
    "$$\n",
    "B_2  =\n",
    "\\begin{bmatrix}\n",
    "5 & 0 & 1 \\\\\n",
    "0 & 1 & 2 \\\\\n",
    "-2 & 1 & 1 \\\\\n",
    "\\end{bmatrix},\n",
    "\\quad\n",
    "\\textrm{with}\n",
    "\\quad\n",
    "B_2 ^ {-1}\n",
    " = \n",
    "\\begin{bmatrix}\n",
    "\\frac{1}{3} & \\frac{-1}{3} & \\frac{1}{3} \\\\\n",
    "\\frac{4}{3} & \\frac{-7}{3} & \\frac{10}{3} \\\\\n",
    "\\frac{-2}{3} & \\frac{5}{3} & \\frac{-5}{3} \\\\\n",
    "\\end{bmatrix}\n",
    "$$"
   ]
  },
  {
   "cell_type": "code",
   "execution_count": 46,
   "metadata": {},
   "outputs": [
    {
     "data": {
      "text/plain": [
       "3×3 Array{Float64,2}:\n",
       " 1.0  0.0   0.333333\n",
       " 0.0  1.0   3.33333 \n",
       " 0.0  0.0  -1.66667 "
      ]
     },
     "execution_count": 46,
     "metadata": {},
     "output_type": "execute_result"
    }
   ],
   "source": [
    "E1 = [1 0 1/3; 0 1 10/3; 0 0 -5/3]"
   ]
  },
  {
   "cell_type": "code",
   "execution_count": 47,
   "metadata": {},
   "outputs": [
    {
     "data": {
      "text/plain": [
       "3×3 Array{Int64,2}:\n",
       "  5  0  1\n",
       "  0  1  2\n",
       " -2  1  1"
      ]
     },
     "execution_count": 47,
     "metadata": {},
     "output_type": "execute_result"
    }
   ],
   "source": [
    "B2 = [5 0 1; 0 1 2; -2 1 1]"
   ]
  },
  {
   "cell_type": "code",
   "execution_count": 49,
   "metadata": {},
   "outputs": [
    {
     "data": {
      "text/plain": [
       "3×3 Array{Float64,2}:\n",
       "  0.333333  -0.333333   0.333333\n",
       "  1.33333   -2.33333    3.33333 \n",
       " -0.666667   1.66667   -1.66667 "
      ]
     },
     "execution_count": 49,
     "metadata": {},
     "output_type": "execute_result"
    }
   ],
   "source": [
    "B2_inv = E1 * B1_inv"
   ]
  },
  {
   "cell_type": "markdown",
   "metadata": {},
   "source": [
    "<br>"
   ]
  },
  {
   "cell_type": "markdown",
   "metadata": {},
   "source": [
    "We must get the new values for the new tableau:"
   ]
  },
  {
   "cell_type": "code",
   "execution_count": 53,
   "metadata": {},
   "outputs": [
    {
     "data": {
      "text/plain": [
       "1×3 Array{Float64,2}:\n",
       " 4.66667  -3.66667  6.66667"
      ]
     },
     "execution_count": 53,
     "metadata": {},
     "output_type": "execute_result"
    }
   ],
   "source": [
    "y2 = [10 3 4] * B2_inv"
   ]
  },
  {
   "cell_type": "code",
   "execution_count": 54,
   "metadata": {},
   "outputs": [
    {
     "data": {
      "text/plain": [
       "3×6 Array{Float64,2}:\n",
       " 0.0  5.55112e-17   1.0           0.333333  -0.333333   0.333333\n",
       " 1.0  0.0           8.88178e-16   1.33333   -2.33333    3.33333 \n",
       " 0.0  1.0          -4.44089e-16  -0.666667   1.66667   -1.66667 "
      ]
     },
     "execution_count": 54,
     "metadata": {},
     "output_type": "execute_result"
    }
   ],
   "source": [
    "tb3 = B2_inv * tb0"
   ]
  },
  {
   "cell_type": "code",
   "execution_count": 55,
   "metadata": {},
   "outputs": [
    {
     "data": {
      "text/plain": [
       "1×6 Array{Float64,2}:\n",
       " 0.0  1.77636e-15  5.32907e-15  4.66667  -3.66667  6.66667"
      ]
     },
     "execution_count": 55,
     "metadata": {},
     "output_type": "execute_result"
    }
   ],
   "source": [
    "# Row 0 for coefficients in the current tableau\n",
    "all_coeff_3 = y2 * tb1 - all_coeff_1"
   ]
  },
  {
   "cell_type": "code",
   "execution_count": 58,
   "metadata": {},
   "outputs": [
    {
     "data": {
      "text/plain": [
       "3×1 Array{Float64,2}:\n",
       " 0.666667\n",
       " 0.666667\n",
       " 1.66667 "
      ]
     },
     "execution_count": 58,
     "metadata": {},
     "output_type": "execute_result"
    }
   ],
   "source": [
    "# The new RHS is:\n",
    "RHS2 = B2_inv * b2"
   ]
  },
  {
   "cell_type": "code",
   "execution_count": 59,
   "metadata": {},
   "outputs": [
    {
     "data": {
      "text/plain": [
       "1×1 Array{Float64,2}:\n",
       " 15.3333"
      ]
     },
     "execution_count": 59,
     "metadata": {},
     "output_type": "execute_result"
    }
   ],
   "source": [
    "# The new optimal value is:\n",
    "z3 = y2*b2"
   ]
  },
  {
   "cell_type": "markdown",
   "metadata": {},
   "source": [
    "Therefore, the current basic feasible solution is given by:\n",
    "\n",
    "$$ \\textrm{BFS} = \\left ( \\frac{2}{3}, \\frac{5}{3}, \\frac{2}{3}, 0, 0, 0 \\right ) \\ \\textrm{where} \\ z = 15.33 $$"
   ]
  },
  {
   "cell_type": "markdown",
   "metadata": {},
   "source": [
    "<br>"
   ]
  }
 ],
 "metadata": {
  "kernelspec": {
   "display_name": "Julia 0.6.2",
   "language": "julia",
   "name": "julia-0.6"
  },
  "language_info": {
   "file_extension": ".jl",
   "mimetype": "application/julia",
   "name": "julia",
   "version": "0.6.2"
  }
 },
 "nbformat": 4,
 "nbformat_minor": 2
}
