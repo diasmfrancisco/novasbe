{
 "cells": [
  {
   "cell_type": "markdown",
   "metadata": {},
   "source": [
    "## Practical Class 1\n",
    "\n",
    "---\n",
    "\n",
    "### Exercise 1.1\n",
    "\n",
    "Consider an economy of two people who consume just two goods $X$ and $Y$.\n",
    "\n",
    "Endowments:\n",
    "\n",
    "1. Person 1 has an endowment of $X_1 = 30$ and $ Y_1=120 $;\n",
    "2. Person 2 has an endowment of $X_2 = 180$ and $Y_2=90$.\n",
    "\n",
    "Their utility functions are, respectively:\n",
    "\n",
    "$$ U_1(X_1; Y_1) = X_1Y_1 $$\n",
    "$$ U_1(X_2; Y_2) = X_2Y_2 $$\n",
    "\n",
    "---\n",
    "\n",
    "(a) Graph the Edgeworth box corresponding to this economy.\n",
    "\n",
    "---\n",
    "\n",
    "(b) What are the equations for the indifference curves of persons 1 and 2 that go through the initial endowment? Plot the curves.\n",
    "\n",
    "---\n",
    "\n",
    "\n",
    "(c) Shade the locus of points that are Pareto-superior to the initial endowments.\n",
    "\n",
    "---\n",
    "\n",
    "\n",
    "(d) What is the equation of the contract curve in this economy? Graph it.\n",
    "\n",
    "---\n",
    "\n",
    "\n",
    "(e) Identify the boundaries of the points on the contract curve that are Paretosuperior to the initial endowments.\n",
    "\n",
    "---\n",
    "\n",
    "\n",
    "(f) Suppose a secretary of the market announces that all trading must take place at $P_X = €1$ and $P_Y = €2$. Furthermore, the secretary takes away each person’s initial endowment and replaces it with its cash value. The secretary instructs each person to order the quantities of $X$ and $Y$ that maximize utility subject to the budget constraint.\n",
    "\n",
    "1. What constraints will persons 1 and 2 order?\n",
    "2. Can the secretary fill these orders with the endowments collected? Go through the same exercise with $P_X=€2$ and explain why the outcome is feasible and efficient.\n"
   ]
  },
  {
   "cell_type": "code",
   "execution_count": null,
   "metadata": {
    "collapsed": true
   },
   "outputs": [],
   "source": []
  }
 ],
 "metadata": {
  "kernelspec": {
   "display_name": "Julia 0.5.2",
   "language": "julia",
   "name": "julia-0.5"
  },
  "language_info": {
   "file_extension": ".jl",
   "mimetype": "application/julia",
   "name": "julia",
   "version": "0.5.2"
  }
 },
 "nbformat": 4,
 "nbformat_minor": 2
}
