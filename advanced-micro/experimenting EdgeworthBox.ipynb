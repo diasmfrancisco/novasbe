{
 "cells": [
  {
   "cell_type": "code",
   "execution_count": 1,
   "metadata": {},
   "outputs": [
    {
     "data": {
      "text/html": [
       "<div id=\"interact-js-shim\">\n",
       "    <script charset=\"utf-8\">\n",
       "(function (IPython, $, _, MathJax) {\n",
       "    $.event.special.destroyed = {\n",
       "\tremove: function(o) {\n",
       "\t    if (o.handler) {\n",
       "\t\to.handler.apply(this, arguments)\n",
       "\t    }\n",
       "\t}\n",
       "    }\n",
       "\n",
       "    var OutputArea = IPython.version >= \"4.0.0\" ? require(\"notebook/js/outputarea\").OutputArea : IPython.OutputArea;\n",
       "\n",
       "    var redrawValue = function (container, type, val) {\n",
       "\tvar selector = $(\"<div/>\");\n",
       "\tvar oa = new OutputArea(_.extend(selector, {\n",
       "\t    selector: selector,\n",
       "\t    prompt_area: true,\n",
       "\t    events: IPython.events,\n",
       "\t    keyboard_manager: IPython.keyboard_manager\n",
       "\t})); // Hack to work with IPython 2.1.0\n",
       "\n",
       "\tswitch (type) {\n",
       "\tcase \"image/png\":\n",
       "            var _src = 'data:' + type + ';base64,' + val;\n",
       "\t    $(container).find(\"img\").attr('src', _src);\n",
       "\t    break;\n",
       "\tcase \"text/latex\":\n",
       "\t\tif (MathJax){\n",
       "\t\t\tvar math = MathJax.Hub.getAllJax(container)[0];\n",
       "\t\t\tMathJax.Hub.Queue([\"Text\", math, val.replace(/^\\${1,2}|\\${1,2}$/g, '')]);\n",
       "\t\t\tbreak;\n",
       "\t\t}\n",
       "\tdefault:\n",
       "\t    var toinsert = OutputArea.append_map[type].apply(\n",
       "\t\toa, [val, {}, selector]\n",
       "\t    );\n",
       "\t    $(container).empty().append(toinsert.contents());\n",
       "\t    selector.remove();\n",
       "\t}\n",
       "    }\n",
       "\n",
       "\n",
       "    $(document).ready(function() {\n",
       "\tfunction initComm(evt, data) {\n",
       "\t    var comm_manager = data.kernel.comm_manager;\n",
       "        //_.extend(comm_manager.targets, require(\"widgets/js/widget\"))\n",
       "\t    comm_manager.register_target(\"Signal\", function (comm) {\n",
       "            comm.on_msg(function (msg) {\n",
       "                var val = msg.content.data.value;\n",
       "                $(\".signal-\" + comm.comm_id).each(function() {\n",
       "                var type = $(this).data(\"type\");\n",
       "                if (typeof(val[type]) !== \"undefined\" && val[type] !== null) {\n",
       "                    redrawValue(this, type, val[type], type);\n",
       "                }\n",
       "                });\n",
       "                delete val;\n",
       "                delete msg.content.data.value;\n",
       "            });\n",
       "\t    });\n",
       "\n",
       "\t    // coordingate with Comm and redraw Signals\n",
       "\t    // XXX: Test using Reactive here to improve performance\n",
       "\t    $([IPython.events]).on(\n",
       "\t\t'output_appended.OutputArea', function (event, type, value, md, toinsert) {\n",
       "\t\t    if (md && md.reactive) {\n",
       "                // console.log(md.comm_id);\n",
       "                toinsert.addClass(\"signal-\" + md.comm_id);\n",
       "                toinsert.data(\"type\", type);\n",
       "                // Signal back indicating the mimetype required\n",
       "                var comm_manager = IPython.notebook.kernel.comm_manager;\n",
       "                var comm = comm_manager.comms[md.comm_id];\n",
       "                comm.then(function (c) {\n",
       "                    c.send({action: \"subscribe_mime\",\n",
       "                       mime: type});\n",
       "                    toinsert.bind(\"destroyed\", function() {\n",
       "                        c.send({action: \"unsubscribe_mime\",\n",
       "                               mime: type});\n",
       "                    });\n",
       "                })\n",
       "\t\t    }\n",
       "\t    });\n",
       "\t}\n",
       "\n",
       "\ttry {\n",
       "\t    // try to initialize right away. otherwise, wait on the status_started event.\n",
       "\t    initComm(undefined, IPython.notebook);\n",
       "\t} catch (e) {\n",
       "\t    $([IPython.events]).on('kernel_created.Kernel kernel_created.Session', initComm);\n",
       "\t}\n",
       "    });\n",
       "})(IPython, jQuery, _, MathJax);\n",
       "</script>\n",
       "    <script>\n",
       "        window.interactLoadedFlag = true\n",
       "       $(\"#interact-js-shim\").bind(\"destroyed\", function () {\n",
       "           if (window.interactLoadedFlag) {\n",
       "               console.warn(\"JavaScript required by Interact will be removed if you remove this cell or run using Interact more than once.\")\n",
       "           }\n",
       "       })\n",
       "       $([IPython.events]).on(\"kernel_starting.Kernel kernel_restarting.Kernel\", function () { window.interactLoadedFlag = false })\n",
       "   </script>\n",
       "</div>"
      ]
     },
     "metadata": {},
     "output_type": "display_data"
    },
    {
     "name": "stderr",
     "output_type": "stream",
     "text": [
      "WARNING: Method definition midpoints(Base.Range{T} where T) in module Base at deprecated.jl:56 overwritten in module StatsBase at /Users/fmcdg/.julia/v0.6/StatsBase/src/hist.jl:535.\n",
      "WARNING: Method definition midpoints(AbstractArray{T, 1} where T) in module Base at deprecated.jl:56 overwritten in module StatsBase at /Users/fmcdg/.julia/v0.6/StatsBase/src/hist.jl:533.\n"
     ]
    }
   ],
   "source": [
    "using Gadfly\n",
    "using DataFrames\n",
    "using Interact\n",
    "using Ipopt;"
   ]
  },
  {
   "cell_type": "markdown",
   "metadata": {},
   "source": [
    "Utility curves given below:"
   ]
  },
  {
   "cell_type": "markdown",
   "metadata": {},
   "source": [
    "$$U^A = {(x_1^A)}^\\alpha {(x_2^A)}^{1-\\alpha} \\quad \\quad U^B = {(x_1^B)}^\\gamma {(x_2^B)}^\\theta \\quad \\quad (1)$$\n",
    "\n",
    "### Endowments\n",
    "\n",
    "Initial endowments must be given. Regardless of choice of points, these endowments will always be the same, such that:\n",
    "\n",
    "$$ x_1^A + x_1^B = \\omega_1^A + \\omega_1^B \\iff E_1 = x_1^A + x_1^B \\quad \\quad (2)$$\n",
    "\n",
    "$$ x_2^A + x_2^B = \\omega_2^A + \\omega_2^B \\iff E_2 = x_2^A + x_2^B \\quad \\quad (3)$$\n",
    "\n",
    "Moreover, note that the utility of Agent B may be rewritten as:\n",
    "\n",
    "$$ U^B = {(E_1-x_1^A)}^\\gamma {(E_2-x_2^A)}^\\theta \\quad \\quad (4)$$"
   ]
  },
  {
   "cell_type": "markdown",
   "metadata": {},
   "source": [
    "---\n",
    "\n",
    "Moreover, we apply the following transformation below in order to plot the indifference curves of Agents A and B in terms of $E_1$, $E_2$, as well as the points $x_1^A$ and $x_2^A$:\n",
    "\n",
    "$$ U^A = {(x_1^A)}^\\alpha {(x_2^A)}^{1-\\alpha} \\quad \\iff \\quad {(x_2^A)}^{1-\\alpha} = \\dfrac{U^A}{{(x_1^A)}^\\alpha} \\quad \\iff \\quad x_2^A = \\bigg({\\dfrac{U^A}{{(x_1^A)}^\\alpha}}\\bigg)^{\\frac{1}{1-\\alpha}} \\quad \\quad (5)$$\n",
    "\n",
    "$$ U^B = {(x_1^B)}^\\beta {(x_2^B)}^{1-\\beta} \\quad \\iff \\quad {(x_2^B)}^{1-\\beta} = \\dfrac{U^B}{{(x_1^B)}^\\beta} \\quad \\iff \\quad {(E_2 - x_2^A)}^{1-\\beta} = \\dfrac{U^B}{{(E_1-x_1^A)}^\\beta} \\quad \\iff \\quad x_2^A = E_2 - \\bigg({\\dfrac{U^B}{(E_1-x_1^A)^{\\beta}}}\\bigg)^{\\frac{1}{1-\\beta}} \\quad \\quad (6) $$\n",
    "\n",
    "---"
   ]
  },
  {
   "cell_type": "markdown",
   "metadata": {},
   "source": [
    "---\n",
    "\n",
    "### Plotting a simple Edgeworth Box with an endowment"
   ]
  },
  {
   "cell_type": "code",
   "execution_count": 2,
   "metadata": {},
   "outputs": [],
   "source": [
    "domain = linspace(0,20,1000);"
   ]
  },
  {
   "cell_type": "code",
   "execution_count": null,
   "metadata": {},
   "outputs": [],
   "source": []
  },
  {
   "cell_type": "code",
   "execution_count": null,
   "metadata": {},
   "outputs": [],
   "source": []
  },
  {
   "cell_type": "code",
   "execution_count": 5,
   "metadata": {},
   "outputs": [
    {
     "ename": "LoadError",
     "evalue": "\u001b[91mUndefVarError: @colorant_str not defined\u001b[39m",
     "output_type": "error",
     "traceback": [
      "\u001b[91mUndefVarError: @colorant_str not defined\u001b[39m",
      "",
      "Stacktrace:",
      " [1] \u001b[1minclude_string\u001b[22m\u001b[22m\u001b[1m(\u001b[22m\u001b[22m::String, ::String\u001b[1m)\u001b[22m\u001b[22m at \u001b[1m./loading.jl:522\u001b[22m\u001b[22m"
     ]
    }
   ],
   "source": [
    "#Let's try plotting this point in the Edgeworth Box, with x1 = y1 = x2 = y2 = 10\n",
    "plot(layer(x=[4], y=[8], Geom.point, Theme(default_color=colorant\"black\")),\n",
    "    Coord.Cartesian(xmin=0,xmax=10,ymin=0,ymax=20,fixed=true),\n",
    "    Guide.title(\"Edgeworth Box for Some Initial Endowment Allocation\"),\n",
    "    Guide.xlabel(\"Good X\"),\n",
    "    Guide.ylabel(\"Good Y\"))\n",
    "\n"
   ]
  },
  {
   "cell_type": "code",
   "execution_count": null,
   "metadata": {},
   "outputs": [],
   "source": []
  },
  {
   "cell_type": "markdown",
   "metadata": {},
   "source": [
    "### Without weights"
   ]
  },
  {
   "cell_type": "code",
   "execution_count": 103,
   "metadata": {},
   "outputs": [],
   "source": [
    "## Without weights\n",
    "#\n",
    "## Utility functions\n",
    "#U_A(x1, y1) = (x1)*(y1)\n",
    "#U_B(x1, y1, e_x, e_y) = (e_x-x1)*(e_y-y1)\n",
    "#\n",
    "## Plotting the utility functions\n",
    "#plot_UoA(x, x1, y1) = U_A(x1, y1)/x\n",
    "#plot_UoB(x, x1, y1, e_x, e_y) = e_y - (U_B(x1, y1, e_x, e_y)/(e_x-x))"
   ]
  },
  {
   "cell_type": "code",
   "execution_count": 104,
   "metadata": {},
   "outputs": [],
   "source": [
    "# Test\n",
    "# println(plot_UoA(10, 10, 10))\n",
    "# println(plot_UoB(10, 10, 10, 20, 20))"
   ]
  },
  {
   "cell_type": "markdown",
   "metadata": {},
   "source": [
    "### Plotting without weights"
   ]
  },
  {
   "cell_type": "code",
   "execution_count": 105,
   "metadata": {},
   "outputs": [],
   "source": [
    "#set_default_plot_size(20cm, 20cm)"
   ]
  },
  {
   "cell_type": "code",
   "execution_count": 106,
   "metadata": {},
   "outputs": [],
   "source": [
    "#@manipulate for ω_x1 in 1:10, ω_y1 in 1:20, e_x in 1:20, e_y in 1:20\n",
    "#    domain = linspace(0, e_x, 100)\n",
    "#    plot(layer(x=[ω_x1], y=[ω_y1], Geom.point, Theme(default_color=colorant\"black\")),\n",
    "#        #layer(x=domain, y=plot_UoA(domain,ω_x1,ω_x1,α,β), Geom.line, Theme(default_color=colorant\"black\")),\n",
    "#        #layer(x=domain, y=plot_UoB(domain,ω_x1,ω_x1,γ,θ), Geom.line, Theme(default_color=colorant\"black\")),\n",
    "#        \n",
    "#        # Setup\n",
    "#        Coord.Cartesian(xmin=0,xmax=10,ymin=0,ymax=20,fixed=true),\n",
    "#        Guide.xlabel(\"Good 1\"),\n",
    "#        Guide.ylabel(\"Good 2\"))\n",
    "#end"
   ]
  },
  {
   "cell_type": "code",
   "execution_count": null,
   "metadata": {},
   "outputs": [],
   "source": []
  },
  {
   "cell_type": "code",
   "execution_count": null,
   "metadata": {},
   "outputs": [],
   "source": []
  },
  {
   "cell_type": "markdown",
   "metadata": {},
   "source": [
    "---\n",
    "\n",
    "### With weights\n",
    "\n",
    "Treating the endowments as given, in this case:\n",
    "\n",
    "$$ E_x = 10 $$\n",
    "\n",
    "$$ E_y = 20 $$"
   ]
  },
  {
   "cell_type": "code",
   "execution_count": 107,
   "metadata": {},
   "outputs": [
    {
     "data": {
      "text/plain": [
       "20"
      ]
     },
     "execution_count": 107,
     "metadata": {},
     "output_type": "execute_result"
    }
   ],
   "source": [
    "e_x = 10\n",
    "e_y = 20"
   ]
  },
  {
   "cell_type": "code",
   "execution_count": 122,
   "metadata": {},
   "outputs": [
    {
     "data": {
      "text/plain": [
       "plot_UoB (generic function with 5 methods)"
      ]
     },
     "execution_count": 122,
     "metadata": {},
     "output_type": "execute_result"
    }
   ],
   "source": [
    "# Utility functions\n",
    "U_A(x1, y1, α) = (x1^α)*(y1^(1-α))\n",
    "U_B(x1, y1, β) = ((e_x-x1)^β)*((e_y-y1)^(1-β))\n",
    "\n",
    "# Plotting the utility functions\n",
    "plot_UoA(x, x1, y1, α) = (U_A(x1, y1, α)/(x^α))^(1/β)\n",
    "plot_UoB(x, x1, y1, β) = e_y-(U_B(x1, y1, β)/((e_x-x)^(1-β)))^(1/β)"
   ]
  },
  {
   "cell_type": "code",
   "execution_count": 123,
   "metadata": {},
   "outputs": [
    {
     "name": "stdout",
     "output_type": "stream",
     "text": [
      "Utility of Agent 1 = 5.656854249492381\n",
      "Utility of Agent 2 = 5.656854249492381\n",
      "Agent 1 has 8 units of Good Y\n",
      "Agent 2 has 8 units of Good Y\n"
     ]
    }
   ],
   "source": [
    "# Test\n",
    "println(\"Utility of Agent 1 = \", U_A(4, 8, 0.5, 0.5))\n",
    "println(\"Utility of Agent 2 = \", U_B(6, 12, 0.5, 0.5))\n",
    "println(\"Agent 1 has \", Int(round(plot_UoA(4, 4, 8, 0.5, 0.5))),\" units of Good Y\")\n",
    "println(\"Agent 2 has \", Int(round(plot_UoB(4, 4, 8, 0.5, 0.5))),\" units of Good Y\")"
   ]
  },
  {
   "cell_type": "code",
   "execution_count": null,
   "metadata": {},
   "outputs": [],
   "source": []
  },
  {
   "cell_type": "code",
   "execution_count": null,
   "metadata": {},
   "outputs": [],
   "source": []
  },
  {
   "cell_type": "code",
   "execution_count": null,
   "metadata": {},
   "outputs": [],
   "source": []
  }
 ],
 "metadata": {
  "kernelspec": {
   "display_name": "Julia 0.6.2",
   "language": "julia",
   "name": "julia-0.6"
  },
  "language_info": {
   "file_extension": ".jl",
   "mimetype": "application/julia",
   "name": "julia",
   "version": "0.6.2"
  }
 },
 "nbformat": 4,
 "nbformat_minor": 2
}
