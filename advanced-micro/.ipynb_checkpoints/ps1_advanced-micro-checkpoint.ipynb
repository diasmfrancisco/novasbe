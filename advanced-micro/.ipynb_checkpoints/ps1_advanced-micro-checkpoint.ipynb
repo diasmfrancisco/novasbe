{
 "cells": [
  {
   "cell_type": "code",
   "execution_count": null,
   "metadata": {},
   "outputs": [],
   "source": []
  },
  {
   "cell_type": "markdown",
   "metadata": {},
   "source": [
    "# Advanced  Micro, PS1\n",
    "Nova School of Business and Economics  \n",
    "\n",
    "---"
   ]
  },
  {
   "cell_type": "markdown",
   "metadata": {},
   "source": [
    "## 1.1\n",
    "\n",
    "Consider an economy of two people who consume just two goods: $X$ and $Y$. Person 1 has an endowment of $\\omega_1 = 30$ and $\\omega_1 = 120$. Person 2 has an endowment of $\\omega_2 = 180$ and $\\omega_2 = 90$. Their utility functions are, respectively:\n",
    "\n",
    "$$ U_1(X_1 ; Y_1) = X_1Y_1 $$\n",
    "$$ U_2(X_2 ; Y_2) = X_2Y_2 $$"
   ]
  },
  {
   "cell_type": "markdown",
   "metadata": {},
   "source": [
    "(a) $\\quad$ Graph the Edgeworth box corresponding to this economy."
   ]
  },
  {
   "cell_type": "code",
   "execution_count": null,
   "metadata": {},
   "outputs": [],
   "source": []
  },
  {
   "cell_type": "code",
   "execution_count": null,
   "metadata": {},
   "outputs": [],
   "source": []
  },
  {
   "cell_type": "markdown",
   "metadata": {},
   "source": [
    "(b) $\\quad$ What are the equations for the indifference curves of persons 1 and 2 that go through the initial endowment? Plot the curves."
   ]
  },
  {
   "cell_type": "code",
   "execution_count": null,
   "metadata": {},
   "outputs": [],
   "source": []
  },
  {
   "cell_type": "code",
   "execution_count": null,
   "metadata": {},
   "outputs": [],
   "source": []
  },
  {
   "cell_type": "markdown",
   "metadata": {},
   "source": [
    "(c) $\\quad$ Shade the locus of points that are Pareto-superior to the initial endowments."
   ]
  },
  {
   "cell_type": "code",
   "execution_count": null,
   "metadata": {},
   "outputs": [],
   "source": []
  },
  {
   "cell_type": "code",
   "execution_count": null,
   "metadata": {},
   "outputs": [],
   "source": []
  },
  {
   "cell_type": "markdown",
   "metadata": {},
   "source": [
    "(d) $\\quad$ What is the equation of the contract curve in this economy? Graph it."
   ]
  },
  {
   "cell_type": "code",
   "execution_count": null,
   "metadata": {},
   "outputs": [],
   "source": []
  },
  {
   "cell_type": "code",
   "execution_count": null,
   "metadata": {},
   "outputs": [],
   "source": []
  },
  {
   "cell_type": "markdown",
   "metadata": {},
   "source": [
    "(e) $\\quad$ Identify the boundaries of the points on the contract curve that are Pareto-superior to the initial endowments."
   ]
  },
  {
   "cell_type": "code",
   "execution_count": null,
   "metadata": {},
   "outputs": [],
   "source": []
  },
  {
   "cell_type": "code",
   "execution_count": null,
   "metadata": {},
   "outputs": [],
   "source": []
  },
  {
   "cell_type": "markdown",
   "metadata": {},
   "source": [
    "(f) $\\quad$ Suppose a secretary of the market announces that all trading must take place at $p_x = €1$ and $p_y = €2$. Furthermore, the secretary takes away each person’s initial endowment and replaces it with its cash value. The secretary instructs each person to order the quantities of $X$ and $Y$ that maximize utility subject to the budget constraint.\n",
    "\n",
    "$\\quad$ (1) $\\quad$ What quantities will persons 1 and 2 order?\n",
    "\n",
    "$\\quad$ (2) $\\quad$ Can the secretary fill these orders with the endowments collected? Go through the same exercise with $p_x = €2$ and explain why the outcome is feasible and efficient."
   ]
  },
  {
   "cell_type": "code",
   "execution_count": null,
   "metadata": {},
   "outputs": [],
   "source": []
  },
  {
   "cell_type": "code",
   "execution_count": null,
   "metadata": {},
   "outputs": [],
   "source": []
  },
  {
   "cell_type": "markdown",
   "metadata": {},
   "source": [
    "---\n",
    "\n",
    "## 1.2\n",
    "\n",
    "Bert has initial endowment consisting of 10 units of food and 10 units of clothing. Ernie’s initial endowment consists of 10 units of food and 20 units of clothing."
   ]
  },
  {
   "cell_type": "markdown",
   "metadata": {},
   "source": [
    "(a) $\\quad$ Represent these initial endowments in an Edgeworth box."
   ]
  },
  {
   "cell_type": "code",
   "execution_count": null,
   "metadata": {},
   "outputs": [],
   "source": []
  },
  {
   "cell_type": "code",
   "execution_count": null,
   "metadata": {},
   "outputs": [],
   "source": []
  },
  {
   "cell_type": "markdown",
   "metadata": {},
   "source": [
    "(b) $\\quad$ Bert regards food and clothing as perfect 1-for-1 substitutes. Ernie regards them as perfect complements, always wanting 3 units of clothing for every 2 units of food. Describe the set of allocations that are Pareto preferred to initial endowment."
   ]
  },
  {
   "cell_type": "code",
   "execution_count": null,
   "metadata": {},
   "outputs": [],
   "source": []
  },
  {
   "cell_type": "code",
   "execution_count": null,
   "metadata": {},
   "outputs": [],
   "source": []
  },
  {
   "cell_type": "markdown",
   "metadata": {},
   "source": [
    "(c) $\\quad$ Describe the contract curve for that allocation."
   ]
  },
  {
   "cell_type": "code",
   "execution_count": null,
   "metadata": {},
   "outputs": [],
   "source": []
  },
  {
   "cell_type": "code",
   "execution_count": null,
   "metadata": {},
   "outputs": [],
   "source": []
  },
  {
   "cell_type": "markdown",
   "metadata": {},
   "source": [
    "(d) $\\quad$ What price ratio will be required to sustain an allocation on the contract curve?"
   ]
  },
  {
   "cell_type": "code",
   "execution_count": null,
   "metadata": {},
   "outputs": [],
   "source": []
  },
  {
   "cell_type": "code",
   "execution_count": null,
   "metadata": {},
   "outputs": [],
   "source": []
  },
  {
   "cell_type": "markdown",
   "metadata": {},
   "source": [
    "(e) $\\quad$ How will your answers differ if 5 units of Ernie’s clothing endowment are given to Bert?"
   ]
  },
  {
   "cell_type": "code",
   "execution_count": null,
   "metadata": {},
   "outputs": [],
   "source": []
  },
  {
   "cell_type": "code",
   "execution_count": null,
   "metadata": {},
   "outputs": [],
   "source": []
  }
 ],
 "metadata": {
  "kernelspec": {
   "display_name": "Julia 0.6.2",
   "language": "julia",
   "name": "julia-0.6"
  },
  "language_info": {
   "file_extension": ".jl",
   "mimetype": "application/julia",
   "name": "julia",
   "version": "0.6.2"
  }
 },
 "nbformat": 4,
 "nbformat_minor": 2
}
