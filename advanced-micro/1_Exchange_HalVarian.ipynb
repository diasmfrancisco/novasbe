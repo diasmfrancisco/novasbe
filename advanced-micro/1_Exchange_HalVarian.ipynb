{
 "cells": [
  {
   "cell_type": "markdown",
   "metadata": {},
   "source": [
    "# 32. Exchange\n",
    "_Intermediate Microeconomics, Hal Varian_"
   ]
  },
  {
   "cell_type": "markdown",
   "metadata": {},
   "source": [
    "---\n",
    "\n",
    "## Summary"
   ]
  },
  {
   "cell_type": "markdown",
   "metadata": {},
   "source": [
    "1. General equilibrium refers to the study of how the economy can adjust to have demand equal supply in all markets at the same time.\n",
    "\n",
    "2. The Edgeworth box is a graphical tool to examine such a general equilibrium with 2 consumers and 2 goods.\n",
    "\n",
    "3. A Pareto eﬃcient allocation is one in which there is no feasible reallocation of the goods that would make all consumers at least as well-oﬀ and at least one consumer strictly better oﬀ.\n",
    "\n",
    "4. Walras’ law states that the value of aggregate excess demand is zero for all prices.\n",
    "\n",
    "5. A general equilibrium allocation is one in which each agent chooses a most preferred bundle of goods from the set of goods that he or she can aﬀord.\n",
    "\n",
    "6. Only relative prices are determined in a general equilibrium system.\n",
    "\n",
    "7. If the demand for each good varies continuously as prices vary, then there will always be some set of prices where demand equals supply in every market; that is, a competitive equilibrium.\n",
    "\n",
    "8. The First Theorem of Welfare Economics states that a competitive equilibrium is Pareto eﬃcient.\n",
    "\n",
    "9. The Second Theorem of Welfare Economics states that as long as preferences are convex, then every Pareto eﬃcient allocation can be supported as a competitive equilibrium."
   ]
  },
  {
   "cell_type": "markdown",
   "metadata": {},
   "source": [
    "---\n",
    "\n",
    "## Review Exercises"
   ]
  },
  {
   "cell_type": "markdown",
   "metadata": {},
   "source": [
    "(1) $\\quad$ Is it possible to have a Pareto eﬃcient allocation where someone is worse oﬀ than he is at an allocation that is not Pareto eﬃcient?"
   ]
  },
  {
   "cell_type": "code",
   "execution_count": null,
   "metadata": {},
   "outputs": [],
   "source": []
  },
  {
   "cell_type": "code",
   "execution_count": null,
   "metadata": {},
   "outputs": [],
   "source": []
  },
  {
   "cell_type": "markdown",
   "metadata": {},
   "source": [
    "(2) $\\quad$ Is it possible to have a Pareto eﬃcient allocation where everyone is worse oﬀ than they are at an allocation that is not Pareto eﬃcient?"
   ]
  },
  {
   "cell_type": "code",
   "execution_count": null,
   "metadata": {},
   "outputs": [],
   "source": []
  },
  {
   "cell_type": "code",
   "execution_count": null,
   "metadata": {},
   "outputs": [],
   "source": []
  },
  {
   "cell_type": "markdown",
   "metadata": {},
   "source": [
    "(3) $\\quad$ True or false? If we know the contract curve, then we know the outcome of any trading."
   ]
  },
  {
   "cell_type": "code",
   "execution_count": null,
   "metadata": {},
   "outputs": [],
   "source": []
  },
  {
   "cell_type": "code",
   "execution_count": null,
   "metadata": {},
   "outputs": [],
   "source": []
  },
  {
   "cell_type": "markdown",
   "metadata": {},
   "source": [
    "(4) $\\quad$ Can some individual be made better oﬀ if we are at a Pareto eﬃcient allocation?"
   ]
  },
  {
   "cell_type": "code",
   "execution_count": null,
   "metadata": {},
   "outputs": [],
   "source": []
  },
  {
   "cell_type": "code",
   "execution_count": null,
   "metadata": {},
   "outputs": [],
   "source": []
  },
  {
   "cell_type": "markdown",
   "metadata": {},
   "source": [
    "(5) $\\quad$ If the value of excess demand in 8 out of 10 markets is equal to zero, what must be true about the remaining two markets?"
   ]
  },
  {
   "cell_type": "code",
   "execution_count": null,
   "metadata": {},
   "outputs": [],
   "source": []
  },
  {
   "cell_type": "code",
   "execution_count": null,
   "metadata": {},
   "outputs": [],
   "source": []
  }
 ],
 "metadata": {
  "kernelspec": {
   "display_name": "Julia 0.6.2",
   "language": "julia",
   "name": "julia-0.6"
  },
  "language_info": {
   "file_extension": ".jl",
   "mimetype": "application/julia",
   "name": "julia",
   "version": "0.6.2"
  }
 },
 "nbformat": 4,
 "nbformat_minor": 2
}
