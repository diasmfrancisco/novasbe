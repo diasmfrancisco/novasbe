{
 "cells": [
  {
   "cell_type": "code",
   "execution_count": 1,
   "metadata": {},
   "outputs": [
    {
     "data": {
      "text/html": [
       "<div id=\"interact-js-shim\">\n",
       "    <script charset=\"utf-8\">\n",
       "(function (IPython, $, _, MathJax) {\n",
       "    $.event.special.destroyed = {\n",
       "\tremove: function(o) {\n",
       "\t    if (o.handler) {\n",
       "\t\to.handler.apply(this, arguments)\n",
       "\t    }\n",
       "\t}\n",
       "    }\n",
       "\n",
       "    var OutputArea = IPython.version >= \"4.0.0\" ? require(\"notebook/js/outputarea\").OutputArea : IPython.OutputArea;\n",
       "\n",
       "    var redrawValue = function (container, type, val) {\n",
       "\tvar selector = $(\"<div/>\");\n",
       "\tvar oa = new OutputArea(_.extend(selector, {\n",
       "\t    selector: selector,\n",
       "\t    prompt_area: true,\n",
       "\t    events: IPython.events,\n",
       "\t    keyboard_manager: IPython.keyboard_manager\n",
       "\t})); // Hack to work with IPython 2.1.0\n",
       "\n",
       "\tswitch (type) {\n",
       "\tcase \"image/png\":\n",
       "            var _src = 'data:' + type + ';base64,' + val;\n",
       "\t    $(container).find(\"img\").attr('src', _src);\n",
       "\t    break;\n",
       "\tcase \"text/latex\":\n",
       "\t\tif (MathJax){\n",
       "\t\t\tvar math = MathJax.Hub.getAllJax(container)[0];\n",
       "\t\t\tMathJax.Hub.Queue([\"Text\", math, val.replace(/^\\${1,2}|\\${1,2}$/g, '')]);\n",
       "\t\t\tbreak;\n",
       "\t\t}\n",
       "\tdefault:\n",
       "\t    var toinsert = OutputArea.append_map[type].apply(\n",
       "\t\toa, [val, {}, selector]\n",
       "\t    );\n",
       "\t    $(container).empty().append(toinsert.contents());\n",
       "\t    selector.remove();\n",
       "\t}\n",
       "    }\n",
       "\n",
       "\n",
       "    $(document).ready(function() {\n",
       "\tfunction initComm(evt, data) {\n",
       "\t    var comm_manager = data.kernel.comm_manager;\n",
       "        //_.extend(comm_manager.targets, require(\"widgets/js/widget\"))\n",
       "\t    comm_manager.register_target(\"Signal\", function (comm) {\n",
       "            comm.on_msg(function (msg) {\n",
       "                var val = msg.content.data.value;\n",
       "                $(\".signal-\" + comm.comm_id).each(function() {\n",
       "                var type = $(this).data(\"type\");\n",
       "                if (typeof(val[type]) !== \"undefined\" && val[type] !== null) {\n",
       "                    redrawValue(this, type, val[type], type);\n",
       "                }\n",
       "                });\n",
       "                delete val;\n",
       "                delete msg.content.data.value;\n",
       "            });\n",
       "\t    });\n",
       "\n",
       "\t    // coordingate with Comm and redraw Signals\n",
       "\t    // XXX: Test using Reactive here to improve performance\n",
       "\t    $([IPython.events]).on(\n",
       "\t\t'output_appended.OutputArea', function (event, type, value, md, toinsert) {\n",
       "\t\t    if (md && md.reactive) {\n",
       "                // console.log(md.comm_id);\n",
       "                toinsert.addClass(\"signal-\" + md.comm_id);\n",
       "                toinsert.data(\"type\", type);\n",
       "                // Signal back indicating the mimetype required\n",
       "                var comm_manager = IPython.notebook.kernel.comm_manager;\n",
       "                var comm = comm_manager.comms[md.comm_id];\n",
       "                comm.then(function (c) {\n",
       "                    c.send({action: \"subscribe_mime\",\n",
       "                       mime: type});\n",
       "                    toinsert.bind(\"destroyed\", function() {\n",
       "                        c.send({action: \"unsubscribe_mime\",\n",
       "                               mime: type});\n",
       "                    });\n",
       "                })\n",
       "\t\t    }\n",
       "\t    });\n",
       "\t}\n",
       "\n",
       "\ttry {\n",
       "\t    // try to initialize right away. otherwise, wait on the status_started event.\n",
       "\t    initComm(undefined, IPython.notebook);\n",
       "\t} catch (e) {\n",
       "\t    $([IPython.events]).on('kernel_created.Kernel kernel_created.Session', initComm);\n",
       "\t}\n",
       "    });\n",
       "})(IPython, jQuery, _, MathJax);\n",
       "</script>\n",
       "    <script>\n",
       "        window.interactLoadedFlag = true\n",
       "       $(\"#interact-js-shim\").bind(\"destroyed\", function () {\n",
       "           if (window.interactLoadedFlag) {\n",
       "               console.warn(\"JavaScript required by Interact will be removed if you remove this cell or run using Interact more than once.\")\n",
       "           }\n",
       "       })\n",
       "       $([IPython.events]).on(\"kernel_starting.Kernel kernel_restarting.Kernel\", function () { window.interactLoadedFlag = false })\n",
       "   </script>\n",
       "</div>"
      ]
     },
     "metadata": {},
     "output_type": "display_data"
    },
    {
     "name": "stderr",
     "output_type": "stream",
     "text": [
      "WARNING: Method definition midpoints(Base.Range{T} where T) in module Base at deprecated.jl:56 overwritten in module StatsBase at /Users/fmcdg/.julia/v0.6/StatsBase/src/hist.jl:535.\n",
      "WARNING: Method definition midpoints(AbstractArray{T, 1} where T) in module Base at deprecated.jl:56 overwritten in module StatsBase at /Users/fmcdg/.julia/v0.6/StatsBase/src/hist.jl:533.\n",
      "WARNING: using Gadfly.cross in module Main conflicts with an existing identifier.\n",
      "WARNING: using Interact.select in module Main conflicts with an existing identifier.\n"
     ]
    }
   ],
   "source": [
    "using Gadfly\n",
    "using JuMP\n",
    "using Ipopt\n",
    "using Interact"
   ]
  },
  {
   "cell_type": "markdown",
   "metadata": {},
   "source": [
    "# Advanced Micro, Lecture 1\n",
    "Nova School of Business and Economics  \n",
    "February 15, 2018  "
   ]
  },
  {
   "cell_type": "markdown",
   "metadata": {},
   "source": [
    "---\n",
    "\n",
    "_Deriving the utility of agents A and B given initial endowments._"
   ]
  },
  {
   "cell_type": "code",
   "execution_count": 2,
   "metadata": {},
   "outputs": [],
   "source": [
    "# Endowment of agent A\n",
    "ω1_A = 6\n",
    "ω2_A = 8\n",
    "\n",
    "# Endowment of agent B\n",
    "ω1_B = 4\n",
    "ω2_B = 12;"
   ]
  },
  {
   "cell_type": "code",
   "execution_count": 3,
   "metadata": {},
   "outputs": [
    {
     "name": "stdout",
     "output_type": "stream",
     "text": [
      "Utility of Agent A = 48\n",
      "Utility of Agent B = 48\n"
     ]
    }
   ],
   "source": [
    "# Utility functions of agents A and B\n",
    "\n",
    "U_A(x1, x2) = x1*x2\n",
    "U_B(x1, x2) = x1*x2\n",
    "\n",
    "println(\"Utility of Agent A = \", U_A(ω1_A,ω2_A))\n",
    "println(\"Utility of Agent B = \", U_B(ω1_B,ω2_B))"
   ]
  },
  {
   "cell_type": "markdown",
   "metadata": {},
   "source": [
    "---\n",
    "\n",
    "\n",
    "## Edgeworth Box\n",
    "\n",
    "1. Tiago's way: allows for redrawing and changing the dimension of the Edgeworth Box\n",
    "2. My way: focus on derivation of contract curve\n",
    "\n",
    "---\n",
    "\n",
    "### 1. Tiago's Way"
   ]
  },
  {
   "cell_type": "code",
   "execution_count": 6,
   "metadata": {},
   "outputs": [],
   "source": [
    "# Making empty lists for the domain and range of the function\n",
    "domain_IC_A = []\n",
    "range_IC_A = [];"
   ]
  },
  {
   "cell_type": "code",
   "execution_count": 10,
   "metadata": {},
   "outputs": [
    {
     "data": {
      "text/plain": [
       "IC_A_max (generic function with 3 methods)"
      ]
     },
     "execution_count": 10,
     "metadata": {},
     "output_type": "execute_result"
    }
   ],
   "source": [
    "# Making a function using the Ipopt functionality\n",
    "function IC_A_max(utility, endowment1=(ω1_A+ω1_B), endowment2=(ω2_A+ω2_B))    \n",
    "    IC_A = Model(solver=IpoptSolver())\n",
    "    \n",
    "    @variable(IC_A, x1_A >= 0 )\n",
    "    @variable(IC_A, x2_A >= 0)\n",
    "    @variable(IC_A, x1_B >= 0 )\n",
    "    @variable(IC_A, x2_B >= 0)\n",
    "    \n",
    "    @constraint(IC_A, x1_B * x2_B >= utility)\n",
    "    @constraint(IC_A, x1_A + x1_B == endowment1)\n",
    "    @constraint(IC_A, x2_A + x2_B == endowment2)\n",
    "    \n",
    "    @objective(IC_A, Max, U_A(x1_A,x2_A))\n",
    "    \n",
    "    solve(IC_A)\n",
    "    \n",
    "    # Append the list using the push! functionality\n",
    "    push!(domain_IC_A, getvalue(x1_A))   \n",
    "    push!(range_IC_A, getvalue(x2_A))\n",
    "    \n",
    "end"
   ]
  },
  {
   "cell_type": "code",
   "execution_count": null,
   "metadata": {},
   "outputs": [],
   "source": [
    "# Loop - solving for different levels of utility\n",
    "for utility_level in 1:10:200\n",
    "    IC_A_max(utility_level,10,20)\n",
    "end"
   ]
  },
  {
   "cell_type": "code",
   "execution_count": null,
   "metadata": {},
   "outputs": [],
   "source": [
    "domain = linspace(0, ω1_A+ω1_B, 1000);"
   ]
  },
  {
   "cell_type": "code",
   "execution_count": null,
   "metadata": {},
   "outputs": [],
   "source": [
    "plot_U_A(x,x1,x2) = U_A(x1, x2)/x\n",
    "plot_U_B(x,x1,x2) = U_B(x1, x2)/(x-ω1_A-ω1_B)+ω2_A+ω2_B"
   ]
  },
  {
   "cell_type": "code",
   "execution_count": null,
   "metadata": {},
   "outputs": [],
   "source": [
    "set_default_plot_size(20cm, 20cm)"
   ]
  },
  {
   "cell_type": "code",
   "execution_count": null,
   "metadata": {},
   "outputs": [],
   "source": [
    "plot(\n",
    "    layer(x=[ω1_A], y=[ω2_A], Geom.point, Theme(default_color=colorant\"black\")),\n",
    "    # initial curves\n",
    "    layer(x=domain, y=plot_U_A(domain,ω1_A,ω2_A), Geom.line, Theme(default_color=colorant\"black\")),\n",
    "    layer(x=domain, y=plot_U_B(domain,ω1_B,ω2_B), Geom.line, Theme(default_color=colorant\"black\")),\n",
    "    # upper curves\n",
    "    layer(x=domain, y=plot_U_A(domain,domain_CC[1],range_CC[1]), Geom.line, Theme(default_color=colorant\"orange\")),\n",
    "    layer(x=domain, y=plot_U_B(domain,ω1_A+ω1_B-domain_CC[1],ω2_A+ω2_B-range_CC[1]), Geom.line, Theme(default_color=colorant\"orange\")),\n",
    "    # lower curves\n",
    "    layer(x=domain, y=plot_U_A(domain,domain_CC[15],range_CC[15]), Geom.line, Theme(default_color=colorant\"orange\")),\n",
    "    layer(x=domain, y=plot_U_B(domain,ω1_A+ω1_B-domain_CC[15],ω2_A+ω2_B-range_CC[15]), Geom.line, Theme(default_color=colorant\"orange\")), \n",
    "    # contract curve\n",
    "    layer(x=domain_CC, y=range_CC, Geom.point, Geom.line, Theme(default_color=colorant\"grey\")),\n",
    "    Coord.Cartesian(xmin=0,xmax=ω1_A+ω1_B,ymin=0,ymax=ω2_A+ω2_B,fixed=true),\n",
    "    Guide.xlabel(\"Good 1\"),\n",
    "    Guide.ylabel(\"Good 2\"),\n",
    ")"
   ]
  },
  {
   "cell_type": "markdown",
   "metadata": {},
   "source": [
    "---\n",
    "\n",
    "### 2. My Way"
   ]
  },
  {
   "cell_type": "markdown",
   "metadata": {},
   "source": [
    "$$U^A = {(x_1^A)}^\\alpha {(x_2^A)}^\\beta \\quad \\quad U^B = {(x_1^B)}^\\gamma {(x_2^B)}^\\theta $$"
   ]
  },
  {
   "cell_type": "markdown",
   "metadata": {},
   "source": [
    "### Endowments\n",
    "\n",
    "Initial endowments must be given. Regardless of choice of points, these endowments will always be the same, such that:\n",
    "\n",
    "$$ x_1^A + x_1^B = \\omega_1^A + \\omega_1^B \\iff E_1 = x_1^A + x_1^B $$\n",
    "$$ x_2^A + x_2^B = \\omega_2^A + \\omega_2^B \\iff E_2 = x_2^A + x_2^B $$\n",
    "\n",
    "Moreover, note that the utility of Agent B may be rewritten as:\n",
    "\n",
    "$$ U^B = {(E_1-x_1^A)}^\\gamma {(E_2-x_2^A)}^\\theta $$\n",
    "\n",
    "Setting the initial endowments below:"
   ]
  },
  {
   "cell_type": "code",
   "execution_count": null,
   "metadata": {},
   "outputs": [],
   "source": [
    "e1 = 10\n",
    "e2 = 20;"
   ]
  },
  {
   "cell_type": "code",
   "execution_count": null,
   "metadata": {},
   "outputs": [],
   "source": [
    "# Setting up the utility functions for Agents A and B\n",
    "U_A(x1, x2) = (x1^α)*(x2^β)\n",
    "U_B(x1, x2) = ((e1-x1)^γ)*((e2-x1)^θ)"
   ]
  },
  {
   "cell_type": "markdown",
   "metadata": {},
   "source": [
    "We apply the following transformation below in order to plot the indifference curves of Agents A and B in terms of $E_1$, $E_2$, as well as the points $x_1^A$ and $x_2^A$:\n",
    "\n",
    "$$ U^A = {(x_1^A)}^\\alpha {(x_2^A)}^\\beta \\quad \\iff \\quad {(x_2^A)}^\\beta = \\dfrac{U^A}{{(x_1^A)}^\\alpha} \\quad \\iff \\quad x_2^A = {\\dfrac{U^A}{{(x_1^A)}^\\alpha}}^{\\beta^{-1}} $$\n",
    "\n",
    "\n",
    "\n",
    "$$ U^B = {(x_1^B)}^\\gamma {(x_2^B)}^\\theta \\quad \\iff \\quad {(x_2^B)}^\\gamma = \\dfrac{U^B}{{(x_1^B)}^\\theta} \\quad \\iff \\quad x_2^A = E_2 - {\\dfrac{U^B}{{(E_1-x_1^A)}^\\theta}}^{\\gamma^{-1}} $$"
   ]
  },
  {
   "cell_type": "code",
   "execution_count": null,
   "metadata": {},
   "outputs": [],
   "source": [
    "plot_U_A(x, x1, x2) = ( U_A(x1, x2)/ x^α ) ^ (1/β)\n",
    "plot_U_B(x, x1, x2) = - (U_B(x1, x2) / (x - ω1A - ω1B)) - ω2A - ω2B"
   ]
  },
  {
   "cell_type": "code",
   "execution_count": null,
   "metadata": {},
   "outputs": [],
   "source": []
  }
 ],
 "metadata": {
  "kernelspec": {
   "display_name": "Julia 0.6.2",
   "language": "julia",
   "name": "julia-0.6"
  },
  "language_info": {
   "file_extension": ".jl",
   "mimetype": "application/julia",
   "name": "julia",
   "version": "0.6.2"
  }
 },
 "nbformat": 4,
 "nbformat_minor": 2
}
