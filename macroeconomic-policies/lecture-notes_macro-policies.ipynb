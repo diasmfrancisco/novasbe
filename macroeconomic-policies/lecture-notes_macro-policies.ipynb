{
 "cells": [
  {
   "cell_type": "markdown",
   "metadata": {},
   "source": []
  },
  {
   "cell_type": "markdown",
   "metadata": {},
   "source": [
    "# IS-LM"
   ]
  },
  {
   "cell_type": "markdown",
   "metadata": {},
   "source": []
  },
  {
   "cell_type": "markdown",
   "metadata": {},
   "source": [
    "### Constructing the LM (liquidity-money) curve \n",
    "\n",
    "**Constructing the money market:**\n",
    "\n",
    "- Real money demand is given by $M^{d}$\n",
    "- Nominal money supply is given $\\overline{M}^{s}$ and is exogenously set by the central banking authority\n",
    "- Money market closes/balances when real money demand and supply meet, i.e. $ M^{d} = \\frac{\\overline{M}^{s}}{P} $\n",
    "- Real money demand is typically a function of the output ($Y$), the nominal interest rate ($i$), and velocity (which we do not factor into this model). As such:\n",
    "\n",
    "$$ \\frac{\\overline{M}^{s}}{P} = M^{d} = kY - hi  $$\n",
    "\n",
    "**Exogenous variables:** $Y$\n",
    "\n",
    "**Endogenous variables:** $$ "
   ]
  },
  {
   "cell_type": "markdown",
   "metadata": {},
   "source": []
  },
  {
   "cell_type": "code",
   "execution_count": null,
   "metadata": {},
   "outputs": [],
   "source": []
  },
  {
   "cell_type": "code",
   "execution_count": null,
   "metadata": {},
   "outputs": [],
   "source": []
  },
  {
   "cell_type": "markdown",
   "metadata": {},
   "source": [
    "# IS-LM-BP, i.e., Mundell-Fleming model"
   ]
  },
  {
   "cell_type": "code",
   "execution_count": null,
   "metadata": {},
   "outputs": [],
   "source": []
  },
  {
   "cell_type": "code",
   "execution_count": null,
   "metadata": {},
   "outputs": [],
   "source": []
  },
  {
   "cell_type": "code",
   "execution_count": null,
   "metadata": {},
   "outputs": [],
   "source": []
  },
  {
   "cell_type": "markdown",
   "metadata": {},
   "source": [
    "# AD-AS"
   ]
  },
  {
   "cell_type": "code",
   "execution_count": null,
   "metadata": {},
   "outputs": [],
   "source": []
  },
  {
   "cell_type": "code",
   "execution_count": null,
   "metadata": {},
   "outputs": [],
   "source": []
  },
  {
   "cell_type": "code",
   "execution_count": null,
   "metadata": {},
   "outputs": [],
   "source": []
  },
  {
   "cell_type": "code",
   "execution_count": null,
   "metadata": {},
   "outputs": [],
   "source": []
  },
  {
   "cell_type": "markdown",
   "metadata": {},
   "source": [
    "<br>"
   ]
  },
  {
   "cell_type": "markdown",
   "metadata": {},
   "source": [
    "## Relationship between firms and households\n",
    "\n",
    "- Set of basic relationships between firms and households\n",
    "- Households:  \n",
    "    - Supply labor to firms in return for income in the form of wages\n",
    "    - Purchase goods and services from firms\n",
    "    - Own the firms (e.g., shareholders)\n",
    "\n",
    "**Increasing desired expenditure/demand**\n",
    "\n",
    "- For example, increase in government expenditures\n",
    "- Pressure on firms to supply more than is available\n",
    "    - Firms react by initially running down inventories to make up for extra demand\n",
    "    - Consequently, investment is brought down with inventories being depleted\n",
    "    - Next period, firms respond to increased demand by increasing production\n",
    "    - More workers are hired, higher wages are offered; all in all, higher disposable income\n",
    "    - Higher disposable income yields higher consumption\n",
    "    - Increases desired expenditures, continuing this cycle/sequence of events\n",
    "   \n",
    "\n",
    "**Will doesn't this process explode, in the sense that desired expenditure and output would increase indefinitely?**\n",
    "\n"
   ]
  },
  {
   "cell_type": "code",
   "execution_count": null,
   "metadata": {},
   "outputs": [],
   "source": []
  },
  {
   "cell_type": "code",
   "execution_count": null,
   "metadata": {},
   "outputs": [],
   "source": []
  }
 ],
 "metadata": {
  "kernelspec": {
   "display_name": "Python 3",
   "language": "python",
   "name": "python3"
  },
  "language_info": {
   "codemirror_mode": {
    "name": "ipython",
    "version": 3
   },
   "file_extension": ".py",
   "mimetype": "text/x-python",
   "name": "python",
   "nbconvert_exporter": "python",
   "pygments_lexer": "ipython3",
   "version": "3.6.5"
  }
 },
 "nbformat": 4,
 "nbformat_minor": 2
}
