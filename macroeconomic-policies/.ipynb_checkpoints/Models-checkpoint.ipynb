{
 "cells": [
  {
   "cell_type": "code",
   "execution_count": 1,
   "metadata": {},
   "outputs": [],
   "source": [
    "import pandas as pd\n",
    "import numpy as np\n",
    "import matplotlib.pyplot as plt\n",
    "from ipywidgets import interact, interactive, fixed, interact_manual\n",
    "\n",
    "MALL_SIZE = 10\n",
    "MEDIUM_SIZE = 14\n",
    "BIGGER_SIZE = 18\n",
    "\n",
    "plt.rc('text', usetex=True)\n",
    "plt.rc('font', family='serif')\n",
    "plt.rc('font', size=BIGGER_SIZE)          # controls default text sizes\n",
    "plt.rc('axes', titlesize=BIGGER_SIZE)     # fontsize of the axes title\n",
    "plt.rc('axes', labelsize=BIGGER_SIZE)    # fontsize of the x and y labels\n",
    "plt.rc('xtick', labelsize=30)    # fontsize of the tick labels\n",
    "plt.rc('ytick', labelsize=30)    # fontsize of the tick labels\n",
    "plt.rc('legend', fontsize=BIGGER_SIZE)    # legend fontsize\n",
    "plt.rc('figure', titlesize=BIGGER_SIZE)  # fontsize of the figure title"
   ]
  },
  {
   "cell_type": "markdown",
   "metadata": {},
   "source": [
    "<br>"
   ]
  },
  {
   "cell_type": "markdown",
   "metadata": {},
   "source": [
    "# IS-LM"
   ]
  },
  {
   "cell_type": "markdown",
   "metadata": {},
   "source": [
    "__IS__\n",
    "\n",
    "\n",
    "$C=a+c(Y-T)=400+0.25(Y-T)$, $a=400$, $c=0.25$\n",
    "\n",
    "$I=e + bY-di = 300+0.25Y-1500i$, $e=300$, $b=0.25$, $d=1500$\n",
    "\n",
    "$G=600$, $T=400$\n",
    "\n",
    "\n",
    "$$Y=\\frac{1}{1-b-c}\\left[a+e-cT-di+\\overline{G}\\right]$$\n",
    "\n",
    "__LM__\n",
    "\n",
    "$(M/P)^d = kY-hi=2Y-12000i$, $k=2$, $h=12000$\n",
    "\n",
    "$M/P = 3000$\n",
    "\n",
    "\n",
    "$$\\frac{M^d}{P}=kY-hi $$"
   ]
  },
  {
   "cell_type": "code",
   "execution_count": 2,
   "metadata": {},
   "outputs": [],
   "source": [
    "def IS_LM(ΔG, ΔM_P):\n",
    "\n",
    "    a, b, c, d, e, G, T = [400, 0.25, 0.25, 1500, 300, 600, 400]  \n",
    "    k, h, M_P = [2, 12000, 2500]\n",
    "    \n",
    "    def Y(ΔG, ΔM_P): return (h*(a+e-c*T+(G+ΔG))+(M_P+ΔM_P)*d)/(k*d+h*(1-c-b))\n",
    "    def i(ΔG, ΔM_P): return ((k*Y(ΔG, ΔM_P)-(M_P+ΔM_P))/h)\n",
    "\n",
    "    #f, axes = plt.subplots(nrows=1, ncols=3, figsize=(30, 10), dpi=150); axes = axes.flatten()\n",
    "    fig = plt.figure(figsize=(21, 14), dpi=150)\n",
    "    axes_0 = plt.subplot2grid((2, 3), (0, 2))\n",
    "    axes_1 = plt.subplot2grid((2, 3), (1, 2))  \n",
    "    axes_2 = plt.subplot2grid((2, 3), (0, 0), colspan=2, rowspan=2)\n",
    "    \n",
    "    ## Money Market\n",
    "    M_P_axis = np.linspace(0,10000,100)\n",
    "    \n",
    "    axes_0.plot(M_P_axis, (k*Y(0,0)-M_P_axis)/h, linestyle=\"-\", color=\"black\")\n",
    "    axes_0.plot(M_P_axis, (k*Y(ΔG, ΔM_P)-M_P_axis)/h, linestyle=\"-.\", color=\"black\")\n",
    "    axes_0.axvline(M_P+0, linestyle=\"-\", color=\"black\")\n",
    "    axes_0.axvline(M_P+ΔM_P, linestyle=\"-.\", color=\"black\")\n",
    "    \n",
    "    axes_0.hlines(y=i(0, 0), xmin=0, xmax=M_P, linestyle=\":\", color=\"black\")\n",
    "    axes_0.hlines(y=i(ΔG, ΔM_P), xmin=0, xmax=(M_P+ΔM_P), linestyle=\":\", color=\"black\")\n",
    "    \n",
    "    axes_0.set_title(\"Money Market\", fontsize=30)\n",
    "    axes_0.set_ylabel(\"i\", fontsize=30)\n",
    "    axes_0.set_xlabel(\"M/P\", fontsize=30)\n",
    "    axes_0.set_ylim(0,0.5)\n",
    "    axes_0.set_xlim(0, 5000)\n",
    "    axes_0.grid()\n",
    "    \n",
    "    ## Goods and Services\n",
    "    Y_axis = np.linspace(0,4000,100)\n",
    "    axes_1.plot(Y_axis, a-c*T+(c+b)*Y_axis+e-d*i(0, 0)+(G+0), linestyle=\"-\", color=\"black\")\n",
    "    axes_1.plot(Y_axis, a-c*T+(c+b)*Y_axis+e-d*i(ΔG, ΔM_P)+(G+ΔG), linestyle=\"-.\", color=\"black\")\n",
    "    axes_1.plot(M_P_axis, M_P_axis, linestyle=\"-\", color=\"black\")\n",
    "        \n",
    "    axes_1.vlines(x=Y(0, 0), ymin=0, ymax=Y(0, 0), linestyle=\":\", color=\"black\")\n",
    "    axes_1.vlines(x=Y(ΔG, ΔM_P), ymin=0, ymax=Y(ΔG, ΔM_P), linestyle=\":\", color=\"black\")    \n",
    "    \n",
    "    axes_1.set_title(\"Goods and Services Market\", fontsize=30)\n",
    "    axes_1.set_ylabel(\"AD\", fontsize=30)\n",
    "    axes_1.set_xlabel(\"Y\", fontsize=30)\n",
    "    axes_1.set_ylim(0, 4000)\n",
    "    axes_1.set_xlim(0, 4000)\n",
    "    axes_1.grid()\n",
    "    \n",
    "    ## IS-LM\n",
    "    axes_2.plot(Y_axis, (k*Y_axis-(M_P+0))/h, linestyle=\"-\", color=\"black\")\n",
    "    axes_2.plot(Y_axis, (k*Y_axis-(M_P+ΔM_P))/h, linestyle=\"-.\", color=\"black\")\n",
    "    axes_2.plot(Y_axis, (a+e-c*T+(G+0)-Y_axis*(1-c-b))/d, linestyle=\"-\", color=\"black\")\n",
    "    axes_2.plot(Y_axis, (a+e-c*T+(G+ΔG)-Y_axis*(1-c-b))/d, linestyle=\"-.\", color=\"black\")\n",
    "    \n",
    "    axes_2.hlines(y=i(0, 0), xmin=0, xmax=Y(0, 0), linestyle=\":\", color=\"black\")\n",
    "    axes_2.hlines(y=i(ΔG, ΔM_P), xmin=0, xmax=Y(ΔG, ΔM_P), linestyle=\":\", color=\"black\")\n",
    "    axes_2.vlines(x=Y(0, 0), ymin=0, ymax=i(0, 0), linestyle=\":\", color=\"black\")\n",
    "    axes_2.vlines(x=Y(ΔG, ΔM_P), ymin=0, ymax=i(ΔG, ΔM_P), linestyle=\":\", color=\"black\")    \n",
    "    \n",
    "    axes_2.set_title(\"IS-LM\", fontsize=30)\n",
    "    axes_2.set_ylabel(\"i\", fontsize=30)\n",
    "    axes_2.set_xlabel(\"Y\", fontsize=30)    \n",
    "    axes_2.set_ylim(0,0.5)\n",
    "    axes_2.set_xlim(0, 4000)\n",
    "    axes_2.grid()\n",
    "           \n",
    "    plt.tight_layout()"
   ]
  },
  {
   "cell_type": "code",
   "execution_count": 3,
   "metadata": {},
   "outputs": [
    {
     "data": {
      "application/vnd.jupyter.widget-view+json": {
       "model_id": "5732e956fa5542e5b5d5ddf8fb1d4179",
       "version_major": 2,
       "version_minor": 0
      },
      "text/plain": [
       "interactive(children=(IntSlider(value=0, description='ΔG', max=750, min=-750, step=250), IntSlider(value=0, de…"
      ]
     },
     "metadata": {},
     "output_type": "display_data"
    },
    {
     "data": {
      "text/plain": [
       "<function __main__.IS_LM(ΔG, ΔM_P)>"
      ]
     },
     "execution_count": 3,
     "metadata": {},
     "output_type": "execute_result"
    }
   ],
   "source": [
    "interact(IS_LM, ΔG=(-750, 750, 250), ΔM_P=(-750, 750, 250))"
   ]
  },
  {
   "cell_type": "markdown",
   "metadata": {},
   "source": [
    "<br>"
   ]
  },
  {
   "cell_type": "markdown",
   "metadata": {},
   "source": [
    "# IS-LM-BoP, Mundell–Fleming model "
   ]
  },
  {
   "cell_type": "code",
   "execution_count": null,
   "metadata": {},
   "outputs": [],
   "source": []
  },
  {
   "cell_type": "code",
   "execution_count": null,
   "metadata": {},
   "outputs": [],
   "source": []
  },
  {
   "cell_type": "markdown",
   "metadata": {},
   "source": [
    "<br>"
   ]
  },
  {
   "cell_type": "markdown",
   "metadata": {},
   "source": [
    "# AS-AD"
   ]
  },
  {
   "cell_type": "code",
   "execution_count": null,
   "metadata": {},
   "outputs": [],
   "source": []
  },
  {
   "cell_type": "code",
   "execution_count": null,
   "metadata": {},
   "outputs": [],
   "source": []
  },
  {
   "cell_type": "markdown",
   "metadata": {},
   "source": [
    "<br>"
   ]
  },
  {
   "cell_type": "markdown",
   "metadata": {},
   "source": [
    "<br>"
   ]
  }
 ],
 "metadata": {
  "@webio": {
   "lastCommId": "8ffb38218e1d48c68a4853dc82922302",
   "lastKernelId": "ccc061eb-dbe1-496b-8ece-0a1b539cc9ba"
  },
  "kernelspec": {
   "display_name": "Python 3",
   "language": "python",
   "name": "python3"
  },
  "language_info": {
   "codemirror_mode": {
    "name": "ipython",
    "version": 3
   },
   "file_extension": ".py",
   "mimetype": "text/x-python",
   "name": "python",
   "nbconvert_exporter": "python",
   "pygments_lexer": "ipython3",
   "version": "3.6.5"
  }
 },
 "nbformat": 4,
 "nbformat_minor": 2
}
