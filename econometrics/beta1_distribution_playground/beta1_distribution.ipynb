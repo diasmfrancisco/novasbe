{
 "cells": [
  {
   "cell_type": "code",
   "execution_count": 9,
   "metadata": {},
   "outputs": [],
   "source": [
    "using Distributions\n",
    "using Gadfly\n",
    "using Interact\n",
    "using DataFrames"
   ]
  },
  {
   "cell_type": "code",
   "execution_count": 10,
   "metadata": {},
   "outputs": [
    {
     "data": {
      "text/plain": [
       "DistNormal (generic function with 1 method)"
      ]
     },
     "execution_count": 10,
     "metadata": {},
     "output_type": "execute_result"
    }
   ],
   "source": [
    "function DistNormal(obs, mean, sd, min, max)\n",
    "    return rand(Normal(mean, sd),obs)\n",
    "end"
   ]
  },
  {
   "cell_type": "code",
   "execution_count": 11,
   "metadata": {},
   "outputs": [
    {
     "data": {
      "text/plain": [
       "DistUniform (generic function with 1 method)"
      ]
     },
     "execution_count": 11,
     "metadata": {},
     "output_type": "execute_result"
    }
   ],
   "source": [
    "function DistUniform(obs, mean, sd, min, max)\n",
    "    return rand(Uniform(min, max),obs)\n",
    "end"
   ]
  },
  {
   "cell_type": "code",
   "execution_count": 12,
   "metadata": {},
   "outputs": [],
   "source": [
    "set_default_plot_size(25cm, 25cm)"
   ]
  },
  {
   "cell_type": "code",
   "execution_count": 23,
   "metadata": {},
   "outputs": [
    {
     "ename": "LoadError",
     "evalue": "\u001b[91mMethodError: no method matching start(::Interact.Options{:SelectionSlider,Int64})\u001b[0m\nClosest candidates are:\n  start(\u001b[91m::SimpleVector\u001b[39m) at essentials.jl:258\n  start(\u001b[91m::Base.MethodList\u001b[39m) at reflection.jl:560\n  start(\u001b[91m::ExponentialBackOff\u001b[39m) at error.jl:107\n  ...\u001b[39m",
     "output_type": "error",
     "traceback": [
      "\u001b[91mMethodError: no method matching start(::Interact.Options{:SelectionSlider,Int64})\u001b[0m\nClosest candidates are:\n  start(\u001b[91m::SimpleVector\u001b[39m) at essentials.jl:258\n  start(\u001b[91m::Base.MethodList\u001b[39m) at reflection.jl:560\n  start(\u001b[91m::ExponentialBackOff\u001b[39m) at error.jl:107\n  ...\u001b[39m",
      "",
      "Stacktrace:",
      " [1] \u001b[1manonymous\u001b[22m\u001b[22m at \u001b[1m./<missing>:?\u001b[22m\u001b[22m",
      " [2] \u001b[1minclude_string\u001b[22m\u001b[22m\u001b[1m(\u001b[22m\u001b[22m::String, ::String\u001b[1m)\u001b[22m\u001b[22m at \u001b[1m./loading.jl:522\u001b[22m\u001b[22m"
     ]
    }
   ],
   "source": [
    "@manipulate for samples in 10:50:1000, observations in 10:100:1000, β0 in 0:10, β1 in 0:0.1:1,\n",
    "    u_min in -10:0, u_max in 0:10, u_mean in -5:5, u_sd in 1:5, u_dist=[:normal => DistNormal, :uniform => DistUniform]\n",
    "    \n",
    "    # Create lists for values for intercept and slope OLS estimators\n",
    "    β0_hat = []\n",
    "    β1_hat = []\n",
    "    \n",
    "    # Bringing x-values outside loop in order to impose less stringent assumption\n",
    "    x_values = rand(Normal(50,10),observations)\n",
    "    X = [ones(x_values) x_values]\n",
    "    \n",
    "    # Collect values of β among different samples\n",
    "    for sample in 1:1:samples \n",
    "    \n",
    "        ## Initial\n",
    "        u = u_dist.(observations, u_mean, u_sd, u_min, u_max)\n",
    "        #u = DistNormal(observations, u_mean, u_sd, u_min, u_max)\n",
    "        y_values = β0 + β1 * x_values + u\n",
    "        \n",
    "        ## Classical Linear Regression\n",
    "        β = inv(X'*X)*X'*y_values\n",
    "        \n",
    "        ## Save values\n",
    "        push!(β0_hat, β[1])\n",
    "        push!(β1_hat, β[2])\n",
    "    \n",
    "    end    \n",
    "    \n",
    "    # Plot\n",
    "    \n",
    "    ## Example values\n",
    "    u = u_dist.(observations, u_mean, u_sd, u_min, u_max)\n",
    "    #u = DistNormal(observations, u_mean, u_sd, u_min, u_max)\n",
    "    y_values = β0 + β1 * x_values + u\n",
    "    β = inv(X'*X)*X'*y_values\n",
    "    \n",
    "    # CLR graph\n",
    "    graph_CLR = plot(\n",
    "        layer(x=x_values, y=y_values, Geom.point, order=1),\n",
    "        layer(x=[0; x_values; 100], y=[X[:1]; X; [1 100]]*β, Geom.line, order=2, Theme(default_color=colorant\"black\", line_width=1pt)),\n",
    "        Guide.XLabel(\"Values of x\"),\n",
    "        Guide.YLabel(\"Values of y\"),\n",
    "        Guide.Title(\"Classical Linear Regression\"),\n",
    "        Coord.Cartesian(xmin=0 , xmax=100, ymin=0, ymax=100)\n",
    "    )\n",
    "    \n",
    "    # Distribtuion of β_0\n",
    "    graph_β_0 = plot(\n",
    "        layer(x=β0_hat, Geom.histogram(bincount=50), order=1),\n",
    "        layer(xintercept=[β0], Geom.vline(color=[\"black\"], style=[[1mm]], size=[.5mm]), order=2),\n",
    "        layer(xintercept=[mean(β0_hat)], Geom.vline(color=[\"blue\"], style=[[1mm]], size=[.5mm]), order=3),\n",
    "        Guide.XLabel(\"Estimates of β_0\"),\n",
    "        Guide.YLabel(\"Number of Observations\"),\n",
    "        Guide.Title(\"Distribution of β_0\"),\n",
    "        Coord.Cartesian(xmin=0 , xmax=10, ymin=0, ymax = 50)\n",
    "    )\n",
    "    \n",
    "    # Distribtuion of β_1\n",
    "    graph_β_1 = plot(\n",
    "        layer(x=β1_hat, Geom.histogram(bincount=50), order=1),\n",
    "        layer(xintercept=[β1], Geom.vline(color=[\"black\"], style=[[1mm]], size=[.5mm]), order=2),\n",
    "        layer(xintercept=[mean(β1_hat)], Geom.vline(color=[\"blue\"], style=[[1mm]], size=[.5mm]), order=3),\n",
    "        Guide.XLabel(\"Estimates of β_1\"),\n",
    "        Guide.YLabel(\"Number of Observations\"),\n",
    "        Guide.Title(\"Distribution of β_1\"),\n",
    "        Coord.Cartesian(xmin=0.35 , xmax=0.65, ymin=0, ymax = 50)\n",
    "    )\n",
    "    \n",
    "    vstack(graph_CLR, hstack(graph_β_0, graph_β_1))\n",
    "    \n",
    "end"
   ]
  },
  {
   "cell_type": "markdown",
   "metadata": {},
   "source": [
    "<br>"
   ]
  }
 ],
 "metadata": {
  "kernelspec": {
   "display_name": "Julia 0.6.2",
   "language": "julia",
   "name": "julia-0.6"
  },
  "language_info": {
   "file_extension": ".jl",
   "mimetype": "application/julia",
   "name": "julia",
   "version": "0.6.2"
  }
 },
 "nbformat": 4,
 "nbformat_minor": 2
}
