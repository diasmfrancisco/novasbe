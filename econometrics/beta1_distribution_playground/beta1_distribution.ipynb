{
 "cells": [
  {
   "cell_type": "code",
   "execution_count": 9,
   "metadata": {},
   "outputs": [],
   "source": [
    "using Distributions\n",
    "using Gadfly\n",
    "using Interact\n",
    "using DataFrames"
   ]
  },
  {
   "cell_type": "code",
   "execution_count": 10,
   "metadata": {},
   "outputs": [
    {
     "data": {
      "text/plain": [
       "DistNormal (generic function with 1 method)"
      ]
     },
     "execution_count": 10,
     "metadata": {},
     "output_type": "execute_result"
    }
   ],
   "source": [
    "function DistNormal(obs, mean, sd, min, max)\n",
    "    return rand(Normal(mean, sd),obs)\n",
    "end"
   ]
  },
  {
   "cell_type": "code",
   "execution_count": 11,
   "metadata": {},
   "outputs": [
    {
     "data": {
      "text/plain": [
       "DistUniform (generic function with 1 method)"
      ]
     },
     "execution_count": 11,
     "metadata": {},
     "output_type": "execute_result"
    }
   ],
   "source": [
    "function DistUniform(obs, mean, sd, min, max)\n",
    "    return rand(Uniform(min, max),obs)\n",
    "end"
   ]
  },
  {
   "cell_type": "code",
   "execution_count": 12,
   "metadata": {},
   "outputs": [],
   "source": [
    "set_default_plot_size(25cm, 25cm)"
   ]
  },
  {
   "cell_type": "code",
   "execution_count": 20,
   "metadata": {},
   "outputs": [
    {
     "ename": "LoadError",
     "evalue": "\u001b[91mMethodError: no method matching Distributions.Normal(::Interact.Options{:SelectionSlider,Int64}, ::Interact.Options{:SelectionSlider,Int64})\u001b[39m",
     "output_type": "error",
     "traceback": [
      "\u001b[91mMethodError: no method matching Distributions.Normal(::Interact.Options{:SelectionSlider,Int64}, ::Interact.Options{:SelectionSlider,Int64})\u001b[39m",
      "",
      "Stacktrace:",
      " [1] \u001b[1minclude_string\u001b[22m\u001b[22m\u001b[1m(\u001b[22m\u001b[22m::String, ::String\u001b[1m)\u001b[22m\u001b[22m at \u001b[1m./loading.jl:522\u001b[22m\u001b[22m"
     ]
    }
   ],
   "source": [
    "@manipulate for samples in 10:50:1000, observations in 10:100:1000, β0 in 0:10, β1 in 0:0.1:1,\n",
    "    u_min in -10:0, u_max in 0:10, u_mean in -5:5, u_sd in 1:5,\n",
    "    u_dist = map(:normal, :uniform => rand(Normal(u_mean, u_sd), observations), rand(Uniform(u_min, u_max), observations))\n",
    "    \n",
    "    # Create lists for values for intercept and slope OLS estimators\n",
    "    β0_hat = []\n",
    "    β1_hat = []\n",
    "    \n",
    "    # Bringing x-values outside loop in order to impose less stringent assumption\n",
    "    x_values = rand(Normal(50,10),observations)\n",
    "    X = [ones(x_values) x_values]\n",
    "    \n",
    "    # Collect values of β among different samples\n",
    "    for sample in 1:1:samples \n",
    "    \n",
    "        ## Initial\n",
    "        u = u_dist.(observations, u_mean, u_sd, u_min, u_max)\n",
    "        #u = DistNormal(observations, u_mean, u_sd, u_min, u_max)\n",
    "        y_values = β0 + β1 * x_values + u\n",
    "        \n",
    "        ## Classical Linear Regression\n",
    "        β = inv(X'*X)*X'*y_values\n",
    "        \n",
    "        ## Save values\n",
    "        push!(β0_hat, β[1])\n",
    "        push!(β1_hat, β[2])\n",
    "    \n",
    "    end    \n",
    "    \n",
    "    # Plot\n",
    "    \n",
    "    ## Example values\n",
    "    u = u_dist.(observations, u_mean, u_sd, u_min, u_max)\n",
    "    #u = DistNormal(observations, u_mean, u_sd, u_min, u_max)\n",
    "    y_values = β0 + β1 * x_values + u\n",
    "    β = inv(X'*X)*X'*y_values\n",
    "    \n",
    "    # CLR graph\n",
    "    graph_CLR = plot(\n",
    "        layer(x=x_values, y=y_values, Geom.point, order=1),\n",
    "        layer(x=[0; x_values; 100], y=[X[:1]; X; [1 100]]*β, Geom.line, order=2, Theme(default_color=colorant\"black\", line_width=1pt)),\n",
    "        Guide.XLabel(\"Values of x\"),\n",
    "        Guide.YLabel(\"Values of y\"),\n",
    "        Guide.Title(\"Classical Linear Regression\"),\n",
    "        Coord.Cartesian(xmin=0 , xmax=100, ymin=0, ymax=100)\n",
    "    )\n",
    "    \n",
    "    # Distribtuion of β_0\n",
    "    graph_β_0 = plot(\n",
    "        layer(x=β0_hat, Geom.histogram(bincount=50), order=1),\n",
    "        layer(xintercept=[β0], Geom.vline(color=[\"black\"], style=[[1mm]], size=[.5mm]), order=2),\n",
    "        layer(xintercept=[mean(β0_hat)], Geom.vline(color=[\"blue\"], style=[[1mm]], size=[.5mm]), order=3),\n",
    "        Guide.XLabel(\"Estimates of β_0\"),\n",
    "        Guide.YLabel(\"Number of Observations\"),\n",
    "        Guide.Title(\"Distribution of β_0\"),\n",
    "        Coord.Cartesian(xmin=0 , xmax=10, ymin=0, ymax = 50)\n",
    "    )\n",
    "    \n",
    "    # Distribtuion of β_1\n",
    "    graph_β_1 = plot(\n",
    "        layer(x=β1_hat, Geom.histogram(bincount=50), order=1),\n",
    "        layer(xintercept=[β1], Geom.vline(color=[\"black\"], style=[[1mm]], size=[.5mm]), order=2),\n",
    "        layer(xintercept=[mean(β1_hat)], Geom.vline(color=[\"blue\"], style=[[1mm]], size=[.5mm]), order=3),\n",
    "        Guide.XLabel(\"Estimates of β_1\"),\n",
    "        Guide.YLabel(\"Number of Observations\"),\n",
    "        Guide.Title(\"Distribution of β_1\"),\n",
    "        Coord.Cartesian(xmin=0.35 , xmax=0.65, ymin=0, ymax = 50)\n",
    "    )\n",
    "    \n",
    "    vstack(graph_CLR, hstack(graph_β_0, graph_β_1))\n",
    "    \n",
    "end"
   ]
  },
  {
   "cell_type": "code",
   "execution_count": 19,
   "metadata": {},
   "outputs": [
    {
     "data": {
      "text/html": [
       "6 methods for generic function <b>Type</b>:<ul><li> (::<b>Type{Distributions.Normal}</b>)() at <a href=\"https://github.com/JuliaStats/Distributions.jl/tree/6abf10ce4f2fa97d5e0240fcf0124206935c5e61//src/univariate/continuous/normal.jl#L38\" target=\"_blank\">/Users/fmcdg/.julia/v0.6/Distributions/src/univariate/continuous/normal.jl:38</a></li> <li> (::<b>Type{Distributions.Normal}</b>)(μ::<b>Integer</b>, σ::<b>Integer</b>) at <a href=\"https://github.com/JuliaStats/Distributions.jl/tree/6abf10ce4f2fa97d5e0240fcf0124206935c5e61//src/univariate/continuous/normal.jl#L36\" target=\"_blank\">/Users/fmcdg/.julia/v0.6/Distributions/src/univariate/continuous/normal.jl:36</a></li> <li> (::<b>Type{Distributions.Normal}</b>)(μ::<b>Real</b>) at <a href=\"https://github.com/JuliaStats/Distributions.jl/tree/6abf10ce4f2fa97d5e0240fcf0124206935c5e61//src/univariate/continuous/normal.jl#L37\" target=\"_blank\">/Users/fmcdg/.julia/v0.6/Distributions/src/univariate/continuous/normal.jl:37</a></li> <li> (::<b>Type{Distributions.Normal}</b>)<i>{T<:Real}</i>(μ::<b>T</b>, σ::<b>T</b>) at <a href=\"https://github.com/JuliaStats/Distributions.jl/tree/6abf10ce4f2fa97d5e0240fcf0124206935c5e61//src/univariate/continuous/normal.jl#L34\" target=\"_blank\">/Users/fmcdg/.julia/v0.6/Distributions/src/univariate/continuous/normal.jl:34</a></li> <li> (::<b>Type{Distributions.Normal}</b>)(μ::<b>Real</b>, σ::<b>Real</b>) at <a href=\"https://github.com/JuliaStats/Distributions.jl/tree/6abf10ce4f2fa97d5e0240fcf0124206935c5e61//src/univariate/continuous/normal.jl#L35\" target=\"_blank\">/Users/fmcdg/.julia/v0.6/Distributions/src/univariate/continuous/normal.jl:35</a></li> <li> (::<b>Type{T}</b>)<i>{T}</i>(arg) at <a href=\"https://github.com/JuliaLang/julia/tree/d386e40c17d43b79fc89d3e579fc04547241787c/base/sysimg.jl#L77\" target=\"_blank\">sysimg.jl:77</a></li> </ul>"
      ],
      "text/plain": [
       "# 6 methods for generic function \"(::Type)\":\n",
       "(::Type{Distributions.Normal})() in Distributions at /Users/fmcdg/.julia/v0.6/Distributions/src/univariate/continuous/normal.jl:38\n",
       "(::Type{Distributions.Normal})(μ::Integer, σ::Integer) in Distributions at /Users/fmcdg/.julia/v0.6/Distributions/src/univariate/continuous/normal.jl:36\n",
       "(::Type{Distributions.Normal})(μ::Real) in Distributions at /Users/fmcdg/.julia/v0.6/Distributions/src/univariate/continuous/normal.jl:37\n",
       "(::Type{Distributions.Normal})(μ::T, σ::T) where T<:Real in Distributions at /Users/fmcdg/.julia/v0.6/Distributions/src/univariate/continuous/normal.jl:34\n",
       "(::Type{Distributions.Normal})(μ::Real, σ::Real) in Distributions at /Users/fmcdg/.julia/v0.6/Distributions/src/univariate/continuous/normal.jl:35\n",
       "(::Type{T})(arg) where T in Base at sysimg.jl:77"
      ]
     },
     "execution_count": 19,
     "metadata": {},
     "output_type": "execute_result"
    }
   ],
   "source": [
    "methods(Distributions.Normal)"
   ]
  },
  {
   "cell_type": "markdown",
   "metadata": {},
   "source": [
    "<br>"
   ]
  }
 ],
 "metadata": {
  "kernelspec": {
   "display_name": "Julia 0.6.2",
   "language": "julia",
   "name": "julia-0.6"
  },
  "language_info": {
   "file_extension": ".jl",
   "mimetype": "application/julia",
   "name": "julia",
   "version": "0.6.2"
  }
 },
 "nbformat": 4,
 "nbformat_minor": 2
}
