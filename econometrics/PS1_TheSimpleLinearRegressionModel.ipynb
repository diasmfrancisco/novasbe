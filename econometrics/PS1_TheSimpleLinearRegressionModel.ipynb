{
 "cells": [
  {
   "cell_type": "code",
   "execution_count": 1,
   "metadata": {},
   "outputs": [
    {
     "name": "stderr",
     "output_type": "stream",
     "text": [
      "WARNING: Method definition midpoints(Base.Range{T} where T) in module Base at deprecated.jl:56 overwritten in module StatsBase at /Users/fmcdg/.julia/v0.6/StatsBase/src/hist.jl:535.\n",
      "WARNING: Method definition midpoints(AbstractArray{T, 1} where T) in module Base at deprecated.jl:56 overwritten in module StatsBase at /Users/fmcdg/.julia/v0.6/StatsBase/src/hist.jl:533.\n"
     ]
    }
   ],
   "source": [
    "using Econometrics;"
   ]
  },
  {
   "cell_type": "markdown",
   "metadata": {},
   "source": [
    "# Econometrics, PS1\n",
    "Nova School of Business and Economics  \n",
    "\n",
    "---"
   ]
  },
  {
   "cell_type": "markdown",
   "metadata": {},
   "source": [
    "## 1 $\\quad$ Exercises - The Simple Linear Regression Model"
   ]
  },
  {
   "cell_type": "markdown",
   "metadata": {},
   "source": [
    "### 1.1\n",
    "\n",
    "$\\quad$ Europe is in the midst of an unprecedented human migration with hundreds of thousands ﬂocking to Europe’s shores. You want to study the root causes of this issue and decide to do some research."
   ]
  },
  {
   "cell_type": "markdown",
   "metadata": {},
   "source": [
    "(a) $\\quad$ Write an equation that would allow you to test whether a country’s GDP has a linear inﬂuence in its number of asylum seekers."
   ]
  },
  {
   "cell_type": "code",
   "execution_count": null,
   "metadata": {},
   "outputs": [],
   "source": []
  },
  {
   "cell_type": "code",
   "execution_count": null,
   "metadata": {},
   "outputs": [],
   "source": []
  },
  {
   "cell_type": "markdown",
   "metadata": {},
   "source": [
    "(b) $\\quad$ Can you say there is an exact linear relationship between both variables?"
   ]
  },
  {
   "cell_type": "code",
   "execution_count": null,
   "metadata": {},
   "outputs": [],
   "source": []
  },
  {
   "cell_type": "code",
   "execution_count": null,
   "metadata": {},
   "outputs": [],
   "source": []
  },
  {
   "cell_type": "markdown",
   "metadata": {},
   "source": [
    "(c) $\\quad$ Can you easily compute the population parameters for the regression model you presented before?"
   ]
  },
  {
   "cell_type": "code",
   "execution_count": null,
   "metadata": {},
   "outputs": [],
   "source": []
  },
  {
   "cell_type": "code",
   "execution_count": null,
   "metadata": {},
   "outputs": [],
   "source": []
  },
  {
   "cell_type": "markdown",
   "metadata": {},
   "source": [
    "(d) $\\quad$ What do you suggest then?"
   ]
  },
  {
   "cell_type": "code",
   "execution_count": null,
   "metadata": {},
   "outputs": [],
   "source": []
  },
  {
   "cell_type": "code",
   "execution_count": null,
   "metadata": {},
   "outputs": [],
   "source": []
  },
  {
   "cell_type": "markdown",
   "metadata": {},
   "source": [
    "### 1.2\n",
    "\n",
    "$\\quad$ You move on with your endeavour and collect a set of cross-sectional data for 166 countries on their number of asylum seekers and GDP per capita in 1999 and estimate the following models by OLS:"
   ]
  },
  {
   "cell_type": "markdown",
   "metadata": {},
   "source": [
    "![title](pictures/ps1-1.png)"
   ]
  },
  {
   "cell_type": "markdown",
   "metadata": {},
   "source": [
    "$$ Level - Level: \\widehat{asylum} = 2569 - 0.12GDP \\quad \\quad \\quad n = 166, R^2 = 0.0447 \\quad (1) $$\n",
    "\n",
    "$$ Log - Level: \\log(\\widehat{asylum}) = 5.64 - 0.0002GDP \\quad \\quad \\quad n = 166, R^2 = 0.2585 \\quad (2) $$\n",
    "\n",
    "$$ Level - Log: \\widehat{asylum} = 7804 - 731.97\\log(GDP) \\quad \\quad \\quad n = 166, R^2 = 0.0368 \\quad (3) $$\n",
    "\n",
    "$$ Log - Log: \\log(\\widehat{asylum}) = 17.56 - 1.64\\log(GDP) \\quad \\quad \\quad n = 166, R^2 = 0.2673 \\quad (4) $$"
   ]
  },
  {
   "cell_type": "markdown",
   "metadata": {},
   "source": [
    "(a) $\\quad$ Interpret the coeﬃcient on the regressor of each model."
   ]
  },
  {
   "cell_type": "code",
   "execution_count": null,
   "metadata": {},
   "outputs": [],
   "source": []
  },
  {
   "cell_type": "code",
   "execution_count": null,
   "metadata": {},
   "outputs": [],
   "source": []
  },
  {
   "cell_type": "markdown",
   "metadata": {},
   "source": [
    "(b) $\\quad$ Taking into account this econometric exercise alone can you say that higher GDP causes the number of asylum seekers to decrease?"
   ]
  },
  {
   "cell_type": "code",
   "execution_count": null,
   "metadata": {},
   "outputs": [],
   "source": []
  },
  {
   "cell_type": "code",
   "execution_count": null,
   "metadata": {},
   "outputs": [],
   "source": []
  },
  {
   "cell_type": "markdown",
   "metadata": {},
   "source": [
    "(c) $\\quad$ You happen to read in a newspaper the following sentence: “The asylum migration ﬂows are determined by economic incentives alone”. Does the $R^2$ of  \n",
    "$\\quad \\quad$ any of the ﬁtted models provide evidence in favour of this claim?"
   ]
  },
  {
   "cell_type": "code",
   "execution_count": null,
   "metadata": {},
   "outputs": [],
   "source": []
  },
  {
   "cell_type": "code",
   "execution_count": null,
   "metadata": {},
   "outputs": [],
   "source": []
  },
  {
   "cell_type": "markdown",
   "metadata": {},
   "source": [
    "(d) $\\quad$ What can you conclude when you compare the quality of adjustment of the four regressions?"
   ]
  },
  {
   "cell_type": "code",
   "execution_count": null,
   "metadata": {},
   "outputs": [],
   "source": []
  },
  {
   "cell_type": "code",
   "execution_count": null,
   "metadata": {},
   "outputs": [],
   "source": []
  },
  {
   "cell_type": "markdown",
   "metadata": {},
   "source": [
    "(e) $\\quad$ Intuitively, what do you point out as the main limitations of these models?"
   ]
  },
  {
   "cell_type": "code",
   "execution_count": null,
   "metadata": {},
   "outputs": [],
   "source": []
  },
  {
   "cell_type": "code",
   "execution_count": null,
   "metadata": {},
   "outputs": [],
   "source": []
  },
  {
   "cell_type": "markdown",
   "metadata": {},
   "source": [
    "---\n",
    "\n",
    "### 1.3\n",
    "\n",
    "The following equation relates housing price $(price)$ to the distance from a garbage incinerator $(dist)$:\n",
    "\n",
    "$$ \\log(price) = 9.40 + 0.312\\log(dist) \\quad \\quad \\quad n = 135, R^2 = 0.162 \\quad (5) $$"
   ]
  },
  {
   "cell_type": "markdown",
   "metadata": {},
   "source": [
    "(a) $\\quad$ Interpret the coeﬃcient on $\\log(dist)$. Is the sign of this estimate what you expect it to be?"
   ]
  },
  {
   "cell_type": "code",
   "execution_count": null,
   "metadata": {},
   "outputs": [],
   "source": []
  },
  {
   "cell_type": "code",
   "execution_count": null,
   "metadata": {},
   "outputs": [],
   "source": []
  },
  {
   "cell_type": "markdown",
   "metadata": {},
   "source": [
    "(b) $\\quad$ Do you think simple linear regression provides an unbiased estimator of the ceteris paribus elasticity of $price$ with respect to $dist$? (Think about the city’s $\\quad \\quad$ decision on where to put the incinerator.)"
   ]
  },
  {
   "cell_type": "code",
   "execution_count": null,
   "metadata": {},
   "outputs": [],
   "source": []
  },
  {
   "cell_type": "code",
   "execution_count": null,
   "metadata": {},
   "outputs": [],
   "source": []
  },
  {
   "cell_type": "markdown",
   "metadata": {},
   "source": [
    "(c) $\\quad$ What other factors about a house aﬀect its price? Might these be correlated with distance from the incinerator?"
   ]
  },
  {
   "cell_type": "code",
   "execution_count": null,
   "metadata": {},
   "outputs": [],
   "source": []
  },
  {
   "cell_type": "code",
   "execution_count": null,
   "metadata": {},
   "outputs": [],
   "source": []
  },
  {
   "cell_type": "markdown",
   "metadata": {},
   "source": [
    "---\n",
    "\n",
    "### 1.4\n",
    "\n",
    "Francis Galton set up the term “regression” in an inﬂuential paper published in 1886, _“Regression Towards Mediocrity in Hereditary Stature”_ where he examined the joint distribution of the stature (height) of parents and children. \n",
    "\n",
    "Galton discovered that on average a child’s height is more mediocre than his or her parent’s height, namely 2/3.\n",
    "\n",
    "In the following table $y$ is the height of children and $x$ is the height of parents (measured in terms of deviations from average height, 165cm). Note that although you have data in terms of deviations you should use it as it is on the table in order to estimate the parameters.\n",
    "\n",
    "| y | -2 | 0 | 1 | 0 | 1 |  \n",
    "| - | -- | - | - | - | - |  \n",
    "| x | -2 | -1 | 0 | 1 | 2 |  "
   ]
  },
  {
   "cell_type": "markdown",
   "metadata": {},
   "source": [
    "(a) $\\quad$ Estimate, by OLS, the parameters (α, β, γ, δ) of the following models:\n",
    "\n",
    "$$ y = \\alpha + \\beta x + \\sigma \\quad (6) $$\n",
    "\n",
    "$$ x = \\gamma + \\delta y + v \\quad (7) $$"
   ]
  },
  {
   "cell_type": "code",
   "execution_count": null,
   "metadata": {},
   "outputs": [],
   "source": []
  },
  {
   "cell_type": "code",
   "execution_count": null,
   "metadata": {},
   "outputs": [],
   "source": []
  },
  {
   "cell_type": "markdown",
   "metadata": {},
   "source": [
    "(b) $\\quad$ Are the two ﬁtted regression lines the same? Explain it recurring to the diﬀerence between correlation and regression between two variables."
   ]
  },
  {
   "cell_type": "code",
   "execution_count": null,
   "metadata": {},
   "outputs": [],
   "source": []
  },
  {
   "cell_type": "code",
   "execution_count": null,
   "metadata": {},
   "outputs": [],
   "source": []
  }
 ],
 "metadata": {
  "kernelspec": {
   "display_name": "Julia 0.6.2",
   "language": "julia",
   "name": "julia-0.6"
  },
  "language_info": {
   "file_extension": ".jl",
   "mimetype": "application/julia",
   "name": "julia",
   "version": "0.6.2"
  }
 },
 "nbformat": 4,
 "nbformat_minor": 2
}
