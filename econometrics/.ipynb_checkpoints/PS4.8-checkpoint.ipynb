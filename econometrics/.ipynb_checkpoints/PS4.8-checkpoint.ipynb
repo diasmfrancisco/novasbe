{
 "cells": [
  {
   "cell_type": "code",
   "execution_count": 1,
   "metadata": {},
   "outputs": [],
   "source": [
    "using Distributions"
   ]
  },
  {
   "cell_type": "code",
   "execution_count": 42,
   "metadata": {},
   "outputs": [
    {
     "data": {
      "text/plain": [
       "10-element Array{Int64,1}:\n",
       " 193\n",
       " 226\n",
       " 240\n",
       " 244\n",
       " 257\n",
       " 260\n",
       " 274\n",
       " 297\n",
       " 350\n",
       " 420"
      ]
     },
     "execution_count": 42,
     "metadata": {},
     "output_type": "execute_result"
    }
   ],
   "source": [
    "cost = [193;226;240;244;257;260;274;297;350;420]\n",
    "y = cost"
   ]
  },
  {
   "cell_type": "code",
   "execution_count": 43,
   "metadata": {},
   "outputs": [
    {
     "data": {
      "text/plain": [
       "10-element Array{Int64,1}:\n",
       "  1\n",
       "  2\n",
       "  3\n",
       "  4\n",
       "  5\n",
       "  6\n",
       "  7\n",
       "  8\n",
       "  9\n",
       " 10"
      ]
     },
     "execution_count": 43,
     "metadata": {},
     "output_type": "execute_result"
    }
   ],
   "source": [
    "quantity = [1;2;3;4;5;6;7;8;9;10]"
   ]
  },
  {
   "cell_type": "code",
   "execution_count": 44,
   "metadata": {},
   "outputs": [
    {
     "data": {
      "text/plain": [
       "10-element Array{Int64,1}:\n",
       "   1\n",
       "   4\n",
       "   9\n",
       "  16\n",
       "  25\n",
       "  36\n",
       "  49\n",
       "  64\n",
       "  81\n",
       " 100"
      ]
     },
     "execution_count": 44,
     "metadata": {},
     "output_type": "execute_result"
    }
   ],
   "source": [
    "quantity_sq = quantity .^2"
   ]
  },
  {
   "cell_type": "code",
   "execution_count": 45,
   "metadata": {},
   "outputs": [
    {
     "data": {
      "text/plain": [
       "10-element Array{Int64,1}:\n",
       "    1\n",
       "    8\n",
       "   27\n",
       "   64\n",
       "  125\n",
       "  216\n",
       "  343\n",
       "  512\n",
       "  729\n",
       " 1000"
      ]
     },
     "execution_count": 45,
     "metadata": {},
     "output_type": "execute_result"
    }
   ],
   "source": [
    "quantity_cb = quantity .^3"
   ]
  },
  {
   "cell_type": "code",
   "execution_count": 47,
   "metadata": {},
   "outputs": [
    {
     "data": {
      "text/plain": [
       "2-element Array{Float64,1}:\n",
       " 166.467 \n",
       "  19.9333"
      ]
     },
     "execution_count": 47,
     "metadata": {},
     "output_type": "execute_result"
    }
   ],
   "source": [
    "# Model 6\n",
    "X_6 = [ ones(length(cost)) quantity ]\n",
    "β_6 = inv(X_6'X_6) * X_6' * y"
   ]
  },
  {
   "cell_type": "code",
   "execution_count": 48,
   "metadata": {},
   "outputs": [
    {
     "data": {
      "text/plain": [
       "3-element Array{Float64,1}:\n",
       " 222.383  \n",
       "  -8.025  \n",
       "   2.54167"
      ]
     },
     "execution_count": 48,
     "metadata": {},
     "output_type": "execute_result"
    }
   ],
   "source": [
    "# Model 7\n",
    "X_7 = [ ones(length(cost)) quantity quantity_sq ]\n",
    "β_7 = inv(X_7'X_7) * X_7' * y"
   ]
  },
  {
   "cell_type": "code",
   "execution_count": 49,
   "metadata": {},
   "outputs": [
    {
     "data": {
      "text/plain": [
       "4-element Array{Float64,1}:\n",
       " 141.767   \n",
       "  63.4777  \n",
       " -12.9615  \n",
       "   0.939588"
      ]
     },
     "execution_count": 49,
     "metadata": {},
     "output_type": "execute_result"
    }
   ],
   "source": [
    "# Model 8\n",
    "X_8 = [ ones(length(cost)) quantity quantity_sq quantity_cb ]\n",
    "β_8 = inv(X_8'X_8) * X_8' * y"
   ]
  },
  {
   "cell_type": "code",
   "execution_count": 50,
   "metadata": {},
   "outputs": [
    {
     "data": {
      "text/plain": [
       "5×4 Array{Any,2}:\n",
       " \"\"              \"(6)\"     \"(7)\"      \"(8)\"  \n",
       " \"intercept\"  166.467   222.383    141.767   \n",
       " \"Qi\"          19.9333   -8.025     63.4777  \n",
       " \"Qi_sq\"         \"-\"      2.54167  -12.9615  \n",
       " \"Qi_cb\"         \"-\"       \"-\"       0.939588"
      ]
     },
     "execution_count": 50,
     "metadata": {},
     "output_type": "execute_result"
    }
   ],
   "source": [
    "model_headers = [\"\" \"(6)\" \"(7)\" \"(8)\"]\n",
    "tb_c1 = [\"intercept\" β_6[1] β_7[1] β_8[1]]\n",
    "tb_c2 = [\"Qi\" β_6[2] β_7[2] β_8[2]]\n",
    "tb_c3 = [\"Qi_sq\" \"-\" β_7[3] β_8[3]]\n",
    "tb_c4 = [\"Qi_cb\" \"-\" \"-\" β_8[4]]\n",
    "table = [model_headers; tb_c1; tb_c2; tb_c3; tb_c4]"
   ]
  },
  {
   "cell_type": "code",
   "execution_count": 62,
   "metadata": {},
   "outputs": [
    {
     "data": {
      "text/plain": [
       "0.840890920548925"
      ]
     },
     "execution_count": 62,
     "metadata": {},
     "output_type": "execute_result"
    }
   ],
   "source": [
    "# Model 6\n",
    "SSR_6 = sum((y-X_6*β_6).^2)\n",
    "SSE_6 = sum((X_6*β_6-mean(y)).^2)\n",
    "SST_6 = sum((y-mean(y)).^2)\n",
    "R2_6 = SSE_6 / SST_6"
   ]
  },
  {
   "cell_type": "code",
   "execution_count": 63,
   "metadata": {},
   "outputs": [
    {
     "data": {
      "text/plain": [
       "0.9283886866634651"
      ]
     },
     "execution_count": 63,
     "metadata": {},
     "output_type": "execute_result"
    }
   ],
   "source": [
    "# Model 7\n",
    "SSR_7 = sum((y-X_7*β_7).^2)\n",
    "SSE_7 = sum((X_7*β_7-mean(y)).^2)\n",
    "SST_7 = sum((y-mean(y)).^2)\n",
    "R2_7 = SSE_7 / SST_7"
   ]
  },
  {
   "cell_type": "code",
   "execution_count": 65,
   "metadata": {},
   "outputs": [
    {
     "data": {
      "text/plain": [
       "0.9983391737709674"
      ]
     },
     "execution_count": 65,
     "metadata": {},
     "output_type": "execute_result"
    }
   ],
   "source": [
    "# Model 8\n",
    "SSR_8 = sum((y-X_8*β_8).^2)\n",
    "SSE_8 = sum((X_8*β_8-mean(y)).^2)\n",
    "SST_8 = sum((y-mean(y)).^2)\n",
    "R2_8 = SSE_8 / SST_8"
   ]
  },
  {
   "cell_type": "code",
   "execution_count": 66,
   "metadata": {},
   "outputs": [
    {
     "data": {
      "text/plain": [
       "6×4 Array{Any,2}:\n",
       " \"\"              \"(6)\"       \"(7)\"       \"(8)\"  \n",
       " \"intercept\"  166.467     222.383     141.767   \n",
       " \"Qi\"          19.9333     -8.025      63.4777  \n",
       " \"Qi_sq\"         \"-\"        2.54167   -12.9615  \n",
       " \"Qi_cb\"         \"-\"         \"-\"        0.939588\n",
       " \"R2\"           0.840891    0.928389    0.998339"
      ]
     },
     "execution_count": 66,
     "metadata": {},
     "output_type": "execute_result"
    }
   ],
   "source": [
    "row_R2 = [\"R2\" R2_6 R2_7 R2_8]\n",
    "table = [table; row_R2]"
   ]
  },
  {
   "cell_type": "code",
   "execution_count": 67,
   "metadata": {},
   "outputs": [
    {
     "data": {
      "text/plain": [
       "7×4 Array{Any,2}:\n",
       " \"\"              \"(6)\"       \"(7)\"       \"(8)\"  \n",
       " \"intercept\"  166.467     222.383     141.767   \n",
       " \"Qi\"          19.9333     -8.025      63.4777  \n",
       " \"Qi_sq\"         \"-\"        2.54167   -12.9615  \n",
       " \"Qi_cb\"         \"-\"         \"-\"        0.939588\n",
       " \"R2\"           0.840891    0.928389    0.998339\n",
       " \"R2a\"          0.821002    0.907928    0.997509"
      ]
     },
     "execution_count": 67,
     "metadata": {},
     "output_type": "execute_result"
    }
   ],
   "source": [
    "R2a_6 = 1 - (1-R2_6)*(10-1)/(10-1-1)\n",
    "R2a_7 = 1 - (1-R2_7)*(10-1)/(10-2-1)\n",
    "R2a_8 = 1 - (1-R2_8)*(10-1)/(10-3-1)\n",
    "row_R2a = [\"R2a\" R2a_6 R2a_7 R2a_8]\n",
    "table = [table; row_R2a]"
   ]
  }
 ],
 "metadata": {
  "kernelspec": {
   "display_name": "Julia 0.6.2",
   "language": "julia",
   "name": "julia-0.6"
  },
  "language_info": {
   "file_extension": ".jl",
   "mimetype": "application/julia",
   "name": "julia",
   "version": "0.6.2"
  }
 },
 "nbformat": 4,
 "nbformat_minor": 2
}
