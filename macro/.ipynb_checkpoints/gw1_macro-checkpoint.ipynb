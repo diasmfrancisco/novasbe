{
 "cells": [
  {
   "cell_type": "markdown",
   "metadata": {},
   "source": [
    "### Made by Carlos Gonçalves, nr.13071"
   ]
  },
  {
   "cell_type": "code",
   "execution_count": 2,
   "metadata": {},
   "outputs": [],
   "source": [
    "using ExcelReaders\n",
    "using DataFrames\n",
    "using Query;"
   ]
  },
  {
   "cell_type": "markdown",
   "metadata": {},
   "source": [
    "# Data"
   ]
  },
  {
   "cell_type": "code",
   "execution_count": 2,
   "metadata": {},
   "outputs": [],
   "source": [
    "df = readxl(DataFrame, \"/Users/Dino/Desktop/pwt90.xlsx\", \"Data!A1:AU11831\");"
   ]
  },
  {
   "cell_type": "code",
   "execution_count": 118,
   "metadata": {},
   "outputs": [
    {
     "name": "stdout",
     "output_type": "stream",
     "text": [
      "11830×47 DataFrames.DataFrame\n",
      "│ Col # │ Name          │ Eltype  │ Missing │\n",
      "├───────┼───────────────┼─────────┼─────────┤\n",
      "│ 1     │ countrycode   │ String  │ 0       │\n",
      "│ 2     │ country       │ String  │ 0       │\n",
      "│ 3     │ currency_unit │ String  │ 0       │\n",
      "│ 4     │ year          │ Float64 │ 0       │\n",
      "│ 5     │ rgdpe         │ Float64 │ 2391    │\n",
      "│ 6     │ rgdpo         │ Float64 │ 2391    │\n",
      "│ 7     │ pop           │ Float64 │ 2391    │\n",
      "│ 8     │ emp           │ Float64 │ 3586    │\n",
      "│ 9     │ avh           │ Float64 │ 8511    │\n",
      "│ 10    │ hc            │ Float64 │ 3963    │\n",
      "│ 11    │ ccon          │ Float64 │ 2391    │\n",
      "│ 12    │ cda           │ Float64 │ 2391    │\n",
      "│ 13    │ cgdpe         │ Float64 │ 2391    │\n",
      "│ 14    │ cgdpo         │ Float64 │ 2391    │\n",
      "│ 15    │ ck            │ Float64 │ 2421    │\n",
      "│ 16    │ ctfp          │ Float64 │ 5877    │\n",
      "│ 17    │ cwtfp         │ Float64 │ 5877    │\n",
      "│ 18    │ rgdpna        │ Float64 │ 2391    │\n",
      "│ 19    │ rconna        │ Float64 │ 2391    │\n",
      "│ 20    │ rdana         │ Float64 │ 2391    │\n",
      "│ 21    │ rkna          │ Float64 │ 2421    │\n",
      "│ 22    │ rtfpna        │ Float64 │ 5877    │\n",
      "│ 23    │ rwtfpna       │ Float64 │ 5877    │\n",
      "│ 24    │ labsh         │ Float64 │ 4348    │\n",
      "│ 25    │ delta         │ Float64 │ 2421    │\n",
      "│ 26    │ xr            │ Float64 │ 2391    │\n",
      "│ 27    │ pl_con        │ Float64 │ 2391    │\n",
      "│ 28    │ pl_da         │ Float64 │ 2391    │\n",
      "│ 29    │ pl_gdpo       │ Float64 │ 2391    │\n",
      "│ 30    │ i_cig         │ String  │ 2391    │\n",
      "│ 31    │ i_xm          │ String  │ 2391    │\n",
      "│ 32    │ i_xr          │ String  │ 2391    │\n",
      "│ 33    │ i_outlier     │ String  │ 2391    │\n",
      "│ 34    │ cor_exp       │ Float64 │ 11220   │\n",
      "│ 35    │ statcap       │ Float64 │ 10324   │\n",
      "│ 36    │ csh_c         │ Float64 │ 2391    │\n",
      "│ 37    │ csh_i         │ Float64 │ 2391    │\n",
      "│ 38    │ csh_g         │ Float64 │ 2391    │\n",
      "│ 39    │ csh_x         │ Float64 │ 2391    │\n",
      "│ 40    │ csh_m         │ Float64 │ 2391    │\n",
      "│ 41    │ csh_r         │ Float64 │ 2391    │\n",
      "│ 42    │ pl_c          │ Float64 │ 2391    │\n",
      "│ 43    │ pl_i          │ Float64 │ 2391    │\n",
      "│ 44    │ pl_g          │ Float64 │ 2391    │\n",
      "│ 45    │ pl_x          │ Float64 │ 2391    │\n",
      "│ 46    │ pl_m          │ Float64 │ 2391    │\n",
      "│ 47    │ pl_k          │ Float64 │ 2421    │"
     ]
    }
   ],
   "source": [
    "showcols(df)"
   ]
  },
  {
   "cell_type": "markdown",
   "metadata": {},
   "source": [
    "<br>"
   ]
  },
  {
   "cell_type": "markdown",
   "metadata": {},
   "source": [
    "# Question1"
   ]
  },
  {
   "cell_type": "code",
   "execution_count": 4,
   "metadata": {},
   "outputs": [
    {
     "data": {
      "text/html": [
       "<table class=\"data-frame\"><thead><tr><th></th><th>country</th><th>year</th><th>rgdpo</th><th>emp</th><th>rkna</th><th>labsh</th></tr></thead><tbody><tr><th>1</th><td>Portugal</td><td>2000.0</td><td>219630.03125</td><td>5.0140275955200195</td><td>1.30302975e6</td><td>0.6547812819480896</td></tr><tr><th>2</th><td>Portugal</td><td>2014.0</td><td>281354.90625</td><td>4.3413472175598145</td><td>1.7131235e6</td><td>0.5807642936706543</td></tr><tr><th>3</th><td>Thailand</td><td>2000.0</td><td>434126.28125</td><td>31.74068260192871</td><td>2.38961475e6</td><td>0.38971802592277527</td></tr><tr><th>4</th><td>Thailand</td><td>2014.0</td><td>929554.5625</td><td>38.893306732177734</td><td>3.62297275e6</td><td>0.3928701877593994</td></tr></tbody></table>"
      ],
      "text/plain": [
       "4×6 DataFrames.DataFrame\n",
       "│ Row │ country    │ year   │ rgdpo     │ emp     │ rkna      │ labsh    │\n",
       "├─────┼────────────┼────────┼───────────┼─────────┼───────────┼──────────┤\n",
       "│ 1   │ \"Portugal\" │ 2000.0 │ 219630.0  │ 5.01403 │ 1.30303e6 │ 0.654781 │\n",
       "│ 2   │ \"Portugal\" │ 2014.0 │ 2.81355e5 │ 4.34135 │ 1.71312e6 │ 0.580764 │\n",
       "│ 3   │ \"Thailand\" │ 2000.0 │ 4.34126e5 │ 31.7407 │ 2.38961e6 │ 0.389718 │\n",
       "│ 4   │ \"Thailand\" │ 2014.0 │ 9.29555e5 │ 38.8933 │ 3.62297e6 │ 0.39287  │"
      ]
     },
     "execution_count": 4,
     "metadata": {},
     "output_type": "execute_result"
    }
   ],
   "source": [
    "data1 = @from i in df begin\n",
    "     @where (i.year == 2014 || i.year == 2000) && (i.countrycode == \"PRT\" || i.countrycode == \"THA\")\n",
    "     @select {i.country, i.year, i.rgdpo, i.emp, i.rkna, i.labsh}\n",
    "     @collect DataFrame\n",
    "end"
   ]
  },
  {
   "cell_type": "markdown",
   "metadata": {},
   "source": [
    "\n",
    "|      |    Portugal|    | Thailand  | |\n",
    "| ------------- |:-------------:||:-------------:|  -----:|\n",
    "|   year   | 2010 | 2014           | 2010  | 2014 |\n",
    "|   rgdpo   | 219630.03125 | 281354.90625           | 434126.28125  | 929554.5625 |\n",
    "|  emp    | 5.0140275955200195 | 4.3413472175598145           | 31.74068260192871  | 38.893306732177734 |\n",
    "| rkna     | 1.30302975e6 | 1.7131235e6           | 2.38961475e6  | 3.62297275e6 |\n",
    "| labsh     | 0.6547812819480896 | 0.5807642936706543           | 0.38971802592277527  | 0.3928701877593994 |"
   ]
  },
  {
   "cell_type": "markdown",
   "metadata": {},
   "source": [
    "<br>"
   ]
  },
  {
   "cell_type": "markdown",
   "metadata": {},
   "source": [
    "# Question2"
   ]
  },
  {
   "cell_type": "code",
   "execution_count": 157,
   "metadata": {},
   "outputs": [],
   "source": [
    "function ex2()\n",
    "    gdp = []\n",
    "    for i in 1:2 push!(gdp, ((data1[i*2,3]/data1[i*2-1,3])^(1/(data1[i*2,2]-data1[i*2-1,2]))-1)*100) end\n",
    "    results = [\"PRT\" \"THA\"; gdp[1] gdp[2]]\n",
    "    return results\n",
    "end;"
   ]
  },
  {
   "cell_type": "code",
   "execution_count": 158,
   "metadata": {},
   "outputs": [
    {
     "data": {
      "text/plain": [
       "2×2 Array{Any,2}:\n",
       "  \"PRT\"    \"THA\" \n",
       " 1.78483  5.58895"
      ]
     },
     "execution_count": 158,
     "metadata": {},
     "output_type": "execute_result"
    }
   ],
   "source": [
    "ex2()"
   ]
  },
  {
   "cell_type": "markdown",
   "metadata": {},
   "source": [
    "|      | Portugal           | Thailand  |\n",
    "| ------------- |:-------------:| -----:|\n",
    "| GDP growth rate     | 1.78483% | 5.588954% |"
   ]
  },
  {
   "cell_type": "markdown",
   "metadata": {},
   "source": [
    "<br>"
   ]
  },
  {
   "cell_type": "markdown",
   "metadata": {},
   "source": [
    "# Question3"
   ]
  },
  {
   "cell_type": "code",
   "execution_count": 161,
   "metadata": {},
   "outputs": [],
   "source": [
    "function ex3()\n",
    "    results = [\"Country\" \"TFP2000\" \"TFP2014\" \"ΔTFP/TFP\"]\n",
    "    for i in 1:2\n",
    "        α = 1 - data1[i*2-1,6]\n",
    "        TFP2000 = data1[i*2-1,3]/(data1[i*2-1,5]^α * data1[i*2-1,4]^(1-α))\n",
    "        TFP2014 = data1[i*2,3]/(data1[i*2,5]^α * data1[i*2,4]^(1-α))\n",
    "        results = [results; data1[i*2,1] TFP2000 TFP2014 (TFP2014-TFP2000)/TFP2000*100]\n",
    "    end\n",
    "    return results\n",
    "end;"
   ]
  },
  {
   "cell_type": "code",
   "execution_count": 162,
   "metadata": {},
   "outputs": [
    {
     "data": {
      "text/plain": [
       "3×4 Array{Any,2}:\n",
       " \"Country\"      \"TFP2000\"     \"TFP2014\"    \"ΔTFP/TFP\"\n",
       " \"Portugal\"  591.869       758.105       28.0865     \n",
       " \"Thailand\"   14.4488       22.1714      53.4483     "
      ]
     },
     "execution_count": 162,
     "metadata": {},
     "output_type": "execute_result"
    }
   ],
   "source": [
    "ex3()"
   ]
  },
  {
   "cell_type": "markdown",
   "metadata": {},
   "source": [
    "\n",
    "|      | Portugal |       | Thailand|  |\n",
    "| ------------- |:-------------:||:-------------:|  -----:|\n",
    "|   TFP2000   | 2010 | 2014           | 2010  | 2014 |\n",
    "|   TFP2014   |  591.869  | 758.105           | 14.4488  | 22.1714 |\n",
    "|  ΔTFP/TFP (%)    |  | 28.0865%           |   | 53.4483% |\n"
   ]
  },
  {
   "cell_type": "markdown",
   "metadata": {},
   "source": [
    "<br>"
   ]
  },
  {
   "cell_type": "markdown",
   "metadata": {},
   "source": [
    "# Question4"
   ]
  },
  {
   "cell_type": "markdown",
   "metadata": {},
   "source": [
    "$$ Y = A \\cdot K^\\alpha \\cdot L^{1-\\alpha} $$"
   ]
  },
  {
   "cell_type": "markdown",
   "metadata": {},
   "source": [
    "$$ \\frac{\\Delta Y}{Y} = \\frac{\\Delta A}{A} + \\alpha \\cdot \\frac{\\Delta K}{K} + (1-\\alpha) \\cdot  \\frac{\\Delta L}{L} $$"
   ]
  },
  {
   "cell_type": "code",
   "execution_count": 114,
   "metadata": {},
   "outputs": [],
   "source": [
    "function ex4()\n",
    "    changes = [\"Country\" \"ΔY/Y\" \"ΔTFP/TFP\" \"α*ΔK/K\" \"(1-α)*ΔL/L\"]\n",
    "    contributions = [\"Country\" \"Contribution TFP\" \"Contribution K\" \"Contribution L\"]\n",
    "    for i in 1:2\n",
    "        α = 1 - data1[i*2-1,6]\n",
    "        ΔY_Y = (data1[i*2,3]-data1[i*2-1,3])/data1[i*2-1,3]\n",
    "        ΔA_A = ex3()[i+1,4]\n",
    "        ΔK_K = (data1[i*2,5]-data1[i*2-1,5])/data1[i*2-1,5]\n",
    "        ΔL_L = (data1[i*2,4]-data1[i*2-1,4])/data1[i*2-1,4]\n",
    "        deltas = [ΔA_A α*ΔK_K (1-α)*ΔL_L]\n",
    "        changes = [changes; data1[i*2,1] ΔY_Y  deltas]\n",
    "        contributions = [contributions; data1[i*2,1] deltas*(100/ΔY_Y)]\n",
    "    end\n",
    "    return changes, contributions\n",
    "end;"
   ]
  },
  {
   "cell_type": "code",
   "execution_count": 115,
   "metadata": {
    "scrolled": true
   },
   "outputs": [
    {
     "data": {
      "text/plain": [
       "3×5 Array{Any,2}:\n",
       " \"Country\"    \"ΔY/Y\"   \"ΔTFP/TFP\"   \"α*ΔK/K\"    \"(1-α)*ΔL/L\"\n",
       " \"Portugal\"  0.28104  0.280865     0.108648   -0.0878453    \n",
       " \"Thailand\"  1.14121  0.534483     0.314986    0.0878213    "
      ]
     },
     "execution_count": 115,
     "metadata": {},
     "output_type": "execute_result"
    }
   ],
   "source": [
    "ex4()[1]"
   ]
  },
  {
   "cell_type": "markdown",
   "metadata": {},
   "source": [
    "|   Country   | ΔY/Y |    ΔTFP/TFP   | α*ΔK/K|  (1-α)*ΔL/L|\n",
    "| ------------- |:-------------:||:-------------:|  -----:|\n",
    "|  Portugal   | 0.28104 | 0.280865           | 0.108648  | -0.0878453 |\n",
    "|   Thailand  |  1.14121  | 0.534483           | 0.314986  | 0.0878213 |"
   ]
  },
  {
   "cell_type": "code",
   "execution_count": 116,
   "metadata": {},
   "outputs": [
    {
     "data": {
      "text/plain": [
       "3×4 Array{Any,2}:\n",
       " \"Country\"     \"Contribution TFP\"    \"Contribution K\"     \"Contribution L\"\n",
       " \"Portugal\"  99.9378               38.6594             -31.2572           \n",
       " \"Thailand\"  46.8349               27.6011               7.69547          "
      ]
     },
     "execution_count": 116,
     "metadata": {},
     "output_type": "execute_result"
    }
   ],
   "source": [
    "ex4()[2]"
   ]
  },
  {
   "cell_type": "markdown",
   "metadata": {},
   "source": [
    "|   Country   | Contribution TFP, (%) |    Contribution K, (%)   | Contribution L, (%)|\n",
    "| ------------- |:-------------:|  -----:|\n",
    "|  Portugal   | 99.9378 | 38.6594            | -31.2572  |\n",
    "|   Thailand  |  46.8349  | 27.6011           | 7.69547 |"
   ]
  },
  {
   "cell_type": "markdown",
   "metadata": {},
   "source": [
    "<br>"
   ]
  },
  {
   "cell_type": "markdown",
   "metadata": {},
   "source": [
    "Answer: "
   ]
  },
  {
   "cell_type": "code",
   "execution_count": null,
   "metadata": {},
   "outputs": [],
   "source": []
  }
 ],
 "metadata": {
  "kernelspec": {
   "display_name": "Julia 0.6.2",
   "language": "julia",
   "name": "julia-0.6"
  },
  "language_info": {
   "file_extension": ".jl",
   "mimetype": "application/julia",
   "name": "julia",
   "version": "0.6.2"
  }
 },
 "nbformat": 4,
 "nbformat_minor": 2
}
